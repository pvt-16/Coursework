{
 "cells": [
  {
   "cell_type": "code",
   "execution_count": 1,
   "metadata": {},
   "outputs": [],
   "source": []
  },
  {
   "cell_type": "markdown",
   "metadata": {},
   "source": [
    "Q1."
   ]
  },
  {
   "cell_type": "code",
   "execution_count": 1,
   "metadata": {},
   "outputs": [],
   "source": [
    "import random\n",
    "import math\n",
    "from itertools import product"
   ]
  },
  {
   "cell_type": "code",
   "execution_count": 49,
   "metadata": {},
   "outputs": [
    {
     "name": "stdout",
     "output_type": "stream",
     "text": [
      "[(0, 0, 0), (0, 0, 1), (0, 1, 0), (0, 1, 1), (1, 0, 0), (1, 0, 1), (1, 1, 0), (1, 1, 1)]\n",
      "8\n"
     ]
    }
   ],
   "source": [
    "# FIXED: THREE potential types of attackers\n",
    "# ATTACKER is the column player\n",
    "n_attackers = 3\n",
    "n_strategies = 2\n",
    "t = range(n_strategies)\n",
    "attack_combinations = (sorted(set(product(t,repeat = n_attackers))))\n",
    "print(attack_combinations)\n",
    "n_attack_combinations = len(attack_combinations)\n",
    "print(n_attack_combinations)"
   ]
  },
  {
   "cell_type": "code",
   "execution_count": 8,
   "metadata": {},
   "outputs": [],
   "source": [
    "def bayesianNashEquilibria(rewardsB1, rewardsB2, rewardsB3, probs):\n",
    "\n",
    "    list_rewards = [rewardsB1, rewardsB2, rewardsB3]\n",
    "    rewards_normform = [[0]* n_attack_combinations for i in range(n_strategies)]\n",
    "\n",
    "    for r in range(n_strategies):  #rows\n",
    "        for c in range(n_attack_combinations):     #columns\n",
    "            selected_attack_strategy = attack_combinations[c]       # Eg:000, 010\n",
    "            (sa1, sa2, sa3) = selected_attack_strategy\n",
    "            \n",
    "            selected_cell_g1 = rewardsB1[r][sa1]\n",
    "            selected_cell_g2 = rewardsB1[r][sa2]\n",
    "            selected_cell_g3 = rewardsB1[r][sa3]\n",
    "\n",
    "            selected_game_cells = [selected_cell_g1, selected_cell_g2, selected_cell_g3]\n",
    "            \n",
    "            comb_val_row = 0; comb_val_col =0\n",
    "            for n in range(n_attackers):\n",
    "                comb_val_row += selected_game_cells[n][0] * probs[n]    # row value\n",
    "                comb_val_col += selected_game_cells[n][1] * probs[n]    # column value\n",
    "                \n",
    "            rewards_normform[r][c] = (comb_val_row, comb_val_col)\n",
    "            \n",
    "\n"
   ]
  },
  {
   "cell_type": "code",
   "execution_count": 9,
   "metadata": {},
   "outputs": [
    {
     "ename": "TypeError",
     "evalue": "'NoneType' object is not iterable",
     "output_type": "error",
     "traceback": [
      "\u001b[1;31m---------------------------------------------------------------------------\u001b[0m",
      "\u001b[1;31mTypeError\u001b[0m                                 Traceback (most recent call last)",
      "\u001b[1;32m<ipython-input-9-7de93b083fc7>\u001b[0m in \u001b[0;36m<module>\u001b[1;34m\u001b[0m\n\u001b[0;32m      4\u001b[0m \u001b[0mprobs\u001b[0m \u001b[1;33m=\u001b[0m \u001b[1;33m[\u001b[0m\u001b[1;36m0.5\u001b[0m\u001b[1;33m,\u001b[0m\u001b[1;36m0.3\u001b[0m\u001b[1;33m,\u001b[0m\u001b[1;36m0.2\u001b[0m\u001b[1;33m]\u001b[0m\u001b[1;33m\u001b[0m\u001b[1;33m\u001b[0m\u001b[0m\n\u001b[0;32m      5\u001b[0m \u001b[1;33m\u001b[0m\u001b[0m\n\u001b[1;32m----> 6\u001b[1;33m \u001b[0mprint\u001b[0m\u001b[1;33m(\u001b[0m\u001b[0mset\u001b[0m\u001b[1;33m(\u001b[0m\u001b[0mbayesianNashEquilibria\u001b[0m\u001b[1;33m(\u001b[0m\u001b[0mrewardsB1\u001b[0m\u001b[1;33m,\u001b[0m \u001b[0mrewardsB2\u001b[0m\u001b[1;33m,\u001b[0m \u001b[0mrewardsB3\u001b[0m\u001b[1;33m,\u001b[0m \u001b[0mprobs\u001b[0m\u001b[1;33m)\u001b[0m\u001b[1;33m)\u001b[0m\u001b[1;33m==\u001b[0m\u001b[0mset\u001b[0m\u001b[1;33m(\u001b[0m\u001b[1;33m[\u001b[0m\u001b[1;33m(\u001b[0m\u001b[1;34m'1'\u001b[0m\u001b[1;33m,\u001b[0m \u001b[1;34m'010'\u001b[0m\u001b[1;33m)\u001b[0m\u001b[1;33m]\u001b[0m\u001b[1;33m)\u001b[0m\u001b[1;33m)\u001b[0m\u001b[1;33m\u001b[0m\u001b[1;33m\u001b[0m\u001b[0m\n\u001b[0m",
      "\u001b[1;31mTypeError\u001b[0m: 'NoneType' object is not iterable"
     ]
    }
   ],
   "source": [
    "rewardsB1 = [[(-1,1),(2,-2)],[(-3,4),(1,-1)]]\n",
    "rewardsB2 = [[(5,-6),(-4,-5)],[(0,-1),(2,4)]]\n",
    "rewardsB3 = [[(3,-3),(0,0)],[(1,2),(-2,1)]]\n",
    "probs = [0.5,0.3,0.2]\n",
    "\n",
    "print(set(bayesianNashEquilibria(rewardsB1, rewardsB2, rewardsB3, probs))==set([('1', '010')]))"
   ]
  },
  {
   "cell_type": "code",
   "execution_count": 10,
   "metadata": {},
   "outputs": [
    {
     "name": "stdout",
     "output_type": "stream",
     "text": [
      "Ff\n"
     ]
    }
   ],
   "source": [
    "from itertools import permutations \n",
    "print(\"Ff\")\n",
    "for item in permutations(range(2), 3): \n",
    "    print (item)"
   ]
  },
  {
   "cell_type": "code",
   "execution_count": 15,
   "metadata": {},
   "outputs": [
    {
     "name": "stdout",
     "output_type": "stream",
     "text": [
      "[(0, 0, 0)]\n"
     ]
    }
   ],
   "source": []
  },
  {
   "cell_type": "markdown",
   "metadata": {},
   "source": [
    "### q3."
   ]
  },
  {
   "cell_type": "code",
   "execution_count": null,
   "metadata": {},
   "outputs": [],
   "source": [
    "#North, South, East and West is 0, 1, 2, and 3,\n",
    "dicActions = {'North':0, 'South':1, 'East':2, 'West':3}\n",
    "arrRotation = [0, 2, 1, 3]"
   ]
  },
  {
   "cell_type": "code",
   "execution_count": 16,
   "metadata": {},
   "outputs": [],
   "source": [
    "gridWorld = [[0] * 4, [0] * 4]"
   ]
  },
  {
   "cell_type": "code",
   "execution_count": 24,
   "metadata": {},
   "outputs": [],
   "source": [
    "gridWorld[0][3] = -1\n",
    "gridWorld[1][3] = 1"
   ]
  },
  {
   "cell_type": "code",
   "execution_count": 25,
   "metadata": {},
   "outputs": [
    {
     "data": {
      "text/plain": [
       "[[0, 0, 0, -1], [0, 0, 0, 1]]"
      ]
     },
     "execution_count": 25,
     "metadata": {},
     "output_type": "execute_result"
    }
   ],
   "source": [
    "gridWorld"
   ]
  },
  {
   "cell_type": "code",
   "execution_count": null,
   "metadata": {},
   "outputs": [],
   "source": [
    "def transitionFunc (intendedDir):\n",
    "    "
   ]
  },
  {
   "cell_type": "code",
   "execution_count": null,
   "metadata": {},
   "outputs": [],
   "source": [
    "# Test case\n",
    "random.seed(0)\n",
    "collectCoffee(1,-1,0)"
   ]
  }
 ],
 "metadata": {
  "interpreter": {
   "hash": "30455c8b45af30d46bbf11fa9cc6d183511bd04bbf6aafaa289b15185471ca25"
  },
  "kernelspec": {
   "display_name": "Python 3.8.8 ('base')",
   "language": "python",
   "name": "python3"
  },
  "language_info": {
   "codemirror_mode": {
    "name": "ipython",
    "version": 3
   },
   "file_extension": ".py",
   "mimetype": "text/x-python",
   "name": "python",
   "nbconvert_exporter": "python",
   "pygments_lexer": "ipython3",
   "version": "3.8.8"
  },
  "orig_nbformat": 4
 },
 "nbformat": 4,
 "nbformat_minor": 2
}
