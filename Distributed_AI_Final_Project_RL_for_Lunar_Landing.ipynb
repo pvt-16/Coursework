{
  "cells": [
    {
      "cell_type": "markdown",
      "metadata": {
        "id": "view-in-github",
        "colab_type": "text"
      },
      "source": [
        "<a href=\"https://colab.research.google.com/github/pvt-16/Coursework/blob/main/Distributed_AI_Final_Project_RL_for_Lunar_Landing.ipynb\" target=\"_parent\"><img src=\"https://colab.research.google.com/assets/colab-badge.svg\" alt=\"Open In Colab\"/></a>"
      ]
    },
    {
      "cell_type": "markdown",
      "metadata": {
        "id": "3llBrrZjOoWJ"
      },
      "source": [
        "### Admin work"
      ]
    },
    {
      "cell_type": "code",
      "execution_count": 53,
      "metadata": {
        "colab": {
          "base_uri": "https://localhost:8080/"
        },
        "id": "gYnfoSBfOV2b",
        "outputId": "380f5aec-8bcf-4e7e-fbac-fc60da91b9b0"
      },
      "outputs": [
        {
          "output_type": "stream",
          "name": "stdout",
          "text": [
            "Looking in indexes: https://pypi.org/simple, https://us-python.pkg.dev/colab-wheels/public/simple/\n",
            "Requirement already satisfied: box2d-py in /usr/local/lib/python3.7/dist-packages (2.3.8)\n",
            "Looking in indexes: https://pypi.org/simple, https://us-python.pkg.dev/colab-wheels/public/simple/\n",
            "Requirement already satisfied: gym[Box_2D] in /usr/local/lib/python3.7/dist-packages (0.21.0)\n",
            "\u001b[33mWARNING: gym 0.21.0 does not provide the extra 'box_2d'\u001b[0m\n",
            "Requirement already satisfied: numpy>=1.18.0 in /usr/local/lib/python3.7/dist-packages (from gym[Box_2D]) (1.21.6)\n",
            "Requirement already satisfied: cloudpickle>=1.2.0 in /usr/local/lib/python3.7/dist-packages (from gym[Box_2D]) (1.3.0)\n",
            "Requirement already satisfied: importlib-metadata>=4.8.1 in /usr/local/lib/python3.7/dist-packages (from gym[Box_2D]) (4.11.4)\n",
            "Requirement already satisfied: zipp>=0.5 in /usr/local/lib/python3.7/dist-packages (from importlib-metadata>=4.8.1->gym[Box_2D]) (3.8.0)\n",
            "Requirement already satisfied: typing-extensions>=3.6.4 in /usr/local/lib/python3.7/dist-packages (from importlib-metadata>=4.8.1->gym[Box_2D]) (4.2.0)\n",
            "Looking in indexes: https://pypi.org/simple, https://us-python.pkg.dev/colab-wheels/public/simple/\n",
            "Requirement already satisfied: xvfbwrapper in /usr/local/lib/python3.7/dist-packages (0.2.9)\n"
          ]
        }
      ],
      "source": [
        "!pip install rarfile --quiet\n",
        "!pip install stable-baselines3 > /dev/null\n",
        "!pip3 install box2d-py \n",
        "!pip3 install gym[Box_2D] #simulator \n",
        "!pip install gym pyvirtualdisplay > /dev/null 2>&1 #to create display\n",
        "!sudo apt-get install -y xvfb python-opengl ffmpeg > /dev/null 2>&1  #to make Display work\n",
        "!pip3 install xvfbwrapper"
      ]
    },
    {
      "cell_type": "code",
      "execution_count": 54,
      "metadata": {
        "id": "-2LS6xhAOZhp"
      },
      "outputs": [],
      "source": [
        "# Imports\n",
        "\n",
        "import numpy as np\n",
        "import pandas as pd\n",
        "import matplotlib.pyplot as plt\n",
        "\n",
        "import io\n",
        "import os\n",
        "import glob\n",
        "import torch\n",
        "import base64\n",
        "import random\n",
        "import time\n",
        "from collections import deque\n",
        "from typing import List\n",
        "\n",
        "import keras  \n",
        "from keras.models import Sequential\n",
        "from keras.layers import Dense\n",
        "from tensorflow.keras.optimizers import Adam, SGD\n",
        "from keras.losses import MeanSquaredError\n",
        "\n",
        "import stable_baselines3\n",
        "from stable_baselines3 import DQN\n",
        "from stable_baselines3.common.results_plotter import ts2xy, load_results\n",
        "from stable_baselines3.common.callbacks import EvalCallback\n",
        "from stable_baselines3.common.env_util import make_atari_env\n",
        "\n",
        "import gym\n",
        "from gym import spaces\n",
        "from gym.wrappers import Monitor\n",
        "\n",
        "# This creates virtual display to send the frames for being rendered.\n",
        "from pyvirtualdisplay import Display\n",
        "from IPython.display import HTML\n",
        "from IPython import display as ipythondisplay\n",
        "\n",
        "import warnings\n",
        "warnings.filterwarnings(\"ignore\")"
      ]
    },
    {
      "cell_type": "markdown",
      "metadata": {
        "id": "AaLlhkTkXTYq"
      },
      "source": [
        "### Setup"
      ]
    },
    {
      "cell_type": "markdown",
      "metadata": {
        "id": "cwfQRzjvZwha"
      },
      "source": [
        "Name: Lunar Lander\n",
        "\n",
        "State Components:\n",
        "\n",
        "  1. Horizontal Position\n",
        "  2. Vertical Position\n",
        "  3. Horizontal Velocity\n",
        "  4. Vertical Velocity\n",
        "  5. Angle\n",
        "  6. Angular Velocity\n",
        "  7. Left Leg Contact\n",
        "  8. Right Leg Contact\n",
        "\n",
        "Actions:\n",
        "1. Fire Main Engine\n",
        "2. Fire Left Engine\n",
        "3. Fire Right Engine\n",
        "4. Do Nothing\n",
        "\n",
        "Rewards:\n",
        "*   Firing main engine: -0.3\n",
        "*   Firing left/right engine: -0.03\n",
        "*   Leg touch: +10\n",
        "*   Good landing: +100\n",
        "*   Crash: -100 \n"
      ]
    },
    {
      "cell_type": "markdown",
      "metadata": {
        "id": "Mt5LeNtYLQ5Z"
      },
      "source": [
        "### RL Environment Setup (renderer)"
      ]
    },
    {
      "cell_type": "code",
      "execution_count": 55,
      "metadata": {
        "id": "vt9ai1LAVwr1"
      },
      "outputs": [],
      "source": [
        "display = Display(visible=0, size=(1366, 768))  #display object to show video of Lander\n",
        "display.start()\n",
        "\n",
        "log_dir = \"/tmp/gym/\"\n",
        "os.makedirs(log_dir, exist_ok=True)   #create dir to store videos"
      ]
    },
    {
      "cell_type": "code",
      "execution_count": 56,
      "metadata": {
        "id": "8SigM8ADAhgX"
      },
      "outputs": [],
      "source": [
        "#Load data video in colab - Video stored in Monitor Class\n",
        "def show_video():\n",
        "    mp4list = glob.glob(log_dir +'/*.mp4')\n",
        "    if len(mp4list) > 0:\n",
        "        mp4 = mp4list[-1]\n",
        "        video = io.open(mp4, 'r+b').read()\n",
        "        encoded = base64.b64encode(video)\n",
        "        ipythondisplay.display(HTML(data='''<video alt=\"test\" autoplay \n",
        "                    loop controls style=\"height: 256px;\">\n",
        "                    <source src=\"data:video/mp4;base64,{0}\" type=\"video/mp4\" />\n",
        "                 </video>'''.format(encoded.decode('ascii'))))\n",
        "    else: \n",
        "        print(\"No video\") # To handle exceptions"
      ]
    },
    {
      "cell_type": "code",
      "execution_count": 57,
      "metadata": {
        "id": "I5ye-sShAbI4"
      },
      "outputs": [],
      "source": [
        "def wrap_env(env): \n",
        "    env = Monitor(env, log_dir, force=True)# './video', force=True)\n",
        "    return env"
      ]
    },
    {
      "cell_type": "markdown",
      "metadata": {
        "id": "4mGEhlayVgXM"
      },
      "source": [
        "### OpenAI Gym"
      ]
    },
    {
      "cell_type": "code",
      "execution_count": 58,
      "metadata": {
        "id": "cP8uOPjZXUui"
      },
      "outputs": [],
      "source": [
        "env_ll = gym.make('LunarLander-v2') #\n",
        "env_ll.seed(42)\n",
        "testingEnv = wrap_env(env_ll)"
      ]
    },
    {
      "cell_type": "code",
      "execution_count": 59,
      "metadata": {
        "colab": {
          "base_uri": "https://localhost:8080/",
          "height": 278
        },
        "id": "5fAbaJyFwaXq",
        "outputId": "e6566354-b54b-4762-c186-a795587fa24a"
      },
      "outputs": [
        {
          "output_type": "display_data",
          "data": {
            "text/plain": [
              "<IPython.core.display.HTML object>"
            ],
            "text/html": [
              "<video alt=\"test\" autoplay \n",
              "                    loop controls style=\"height: 256px;\">\n",
              "                    <source src=\"data:video/mp4;base64,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\" type=\"video/mp4\" />\n",
              "                 </video>"
            ]
          },
          "metadata": {}
        }
      ],
      "source": [
        "def env_preview(env):\n",
        "    env.reset()\n",
        "    for dummy in range(100):\n",
        "        env.render()\n",
        "        state, reward, done, info = env.step(env.action_space.sample())\n",
        "        if done:\n",
        "            break\n",
        "    env.close()\n",
        "\n",
        "env_preview(testingEnv)\n",
        "show_video()"
      ]
    },
    {
      "cell_type": "code",
      "execution_count": 60,
      "metadata": {
        "colab": {
          "base_uri": "https://localhost:8080/"
        },
        "id": "ZNidTu1QL_nR",
        "outputId": "d56de2ef-a902-4463-f315-5837d6a75418"
      },
      "outputs": [
        {
          "output_type": "execute_result",
          "data": {
            "text/plain": [
              "Discrete(4)"
            ]
          },
          "metadata": {},
          "execution_count": 60
        }
      ],
      "source": [
        "env_ll.action_space    # Nop, fire left engine, main engine, right engine\n",
        "#actions = {\"none\", \"left\", \"main\", \"right\"}"
      ]
    },
    {
      "cell_type": "code",
      "execution_count": 61,
      "metadata": {
        "id": "Bx-wGneXncSz"
      },
      "outputs": [],
      "source": [
        "#gym.spaces.flatten_space(testingEnv.observation_space)"
      ]
    },
    {
      "cell_type": "code",
      "execution_count": 62,
      "metadata": {
        "colab": {
          "base_uri": "https://localhost:8080/"
        },
        "id": "OpIDr3TYNmED",
        "outputId": "0bdbfbef-f1dd-4e58-e086-64bc02b4c88e"
      },
      "outputs": [
        {
          "output_type": "stream",
          "name": "stdout",
          "text": [
            "Discrete(4)\n",
            "(8,)\n",
            "(-inf, inf)\n",
            "200\n"
          ]
        }
      ],
      "source": [
        "state_space = testingEnv.observation_space.shape \n",
        "action_space = testingEnv.action_space\n",
        "print(action_space)    # Nop, fire left engine, main engine, right engine\n",
        "print(state_space) # position in x axis and y axis(height); x,y velocities; lander angle and angular velocity; left and right left contact (bool)\n",
        "print(testingEnv.reward_range)\n",
        "print(testingEnv.spec.reward_threshold)\n",
        "#actions = {\"none\", \"left\", \"main\", \"right\"}"
      ]
    },
    {
      "cell_type": "code",
      "execution_count": 63,
      "metadata": {
        "id": "NKoQ5SVUWEV9"
      },
      "outputs": [],
      "source": [
        "# q_table = np.zeros((state_space[0], action_space.n))\n",
        "# print(q_table)"
      ]
    },
    {
      "cell_type": "markdown",
      "metadata": {
        "id": "smO5WiTtVdBW"
      },
      "source": [
        "### Hyper parameters"
      ]
    },
    {
      "cell_type": "code",
      "execution_count": 94,
      "metadata": {
        "id": "mFQs17x2VdBW"
      },
      "outputs": [],
      "source": [
        "totalEpisodes = 50\n",
        "maxStepsInEpisodes = 150   # to terminate the episode, else lander keeps hovering\n",
        "\n",
        "learningRate = 0.01     #alpha\n",
        "discountFactor = 0.95  #gamma\n",
        "\n",
        "epsilon = 0.5    #exploration rate\n",
        "minExplorationRate = 0.01\n",
        "maxExplorationRate = 1\n",
        "explorationDecay = 0.001   #reduce exploration over time as the agent learns more about the envi. => exploit info more\n",
        " \n",
        "sampleExperiences = 50  #buffer memory\n",
        "#maxExplorationRaterewards = [-0.3, -0.03, -0.03, 0, 10, 10, 100, -100] # fire main, left, right, nothing, touch - left, right, land, creash]"
      ]
    },
    {
      "cell_type": "code",
      "execution_count": 65,
      "metadata": {
        "id": "x6ua8extQBrR"
      },
      "outputs": [],
      "source": [
        "def testModel(model): \n",
        "  #testingEnv = wrap_env(gym.make(\"LunarLander-v2\"))\n",
        "  currentState = testingEnv.reset()\n",
        "  finalReward = 0\n",
        "  while (True):\n",
        "    testingEnv.render()\n",
        "\n",
        "    # action = model.policy(observation)  # User-defined policy function\n",
        "    # observation, reward, done, info = testingEnv.step(action)\n",
        "    action = testingEnv.action_space.sample()\n",
        "    #action, states = model.predict(current_state, deterministic=True)\n",
        "    observation, reward, done, info = testingEnv.step(action)\n",
        "    #print(action)\n",
        "\n",
        "    finalReward += reward\n",
        "    if done:\n",
        "      #observation, info = testingEnv.reset(return_info=True)\n",
        "      #observation, info = \n",
        "      #testingEnv.reset()\n",
        "      print(f'Final reward: {finalReward}')\n",
        "      break\n",
        "  testingEnv.close()\n",
        "  show_video()"
      ]
    },
    {
      "cell_type": "markdown",
      "metadata": {
        "id": "Hb4527jYtrqS"
      },
      "source": [
        "## Model Q-learning"
      ]
    },
    {
      "cell_type": "markdown",
      "metadata": {
        "id": "9a4zVDDMoobJ"
      },
      "source": [
        "#### State Discretization"
      ]
    },
    {
      "cell_type": "code",
      "execution_count": 66,
      "metadata": {
        "id": "bUv7DjwPoqWy"
      },
      "outputs": [],
      "source": [
        "# SOURCE FOR BUCKETIZING- https://github.com/omargup/Lunar-Lander/blob/master/Monte_Carlo_LunarLander.ipynb\n",
        "def set_buckets_and_actions():\n",
        "    env = testingEnv \n",
        "    number_of_buckets = (5,5,5,5,5,5,2,2) #buckets in each dimension\n",
        "    number_of_actions = env.action_space.n\n",
        "    \n",
        "    #Creating a 2-tuple with the original bounds of each dimension\n",
        "    state_value_bounds = list(zip(env.observation_space.low,env.observation_space.high))\n",
        "    \n",
        "    #New bound values for each dimension\n",
        "    state_value_bounds[0] = [-1,1]      #Position x\n",
        "    state_value_bounds[1] = [-1,1]    #Position y\n",
        "    state_value_bounds[2] = [-1,1]        #vel x\n",
        "    state_value_bounds[3] = [-1,1]    #vel y\n",
        "    state_value_bounds[4] = [-1,1]        #angle\n",
        "    state_value_bounds[5] = [-1,1]        #angular vel\n",
        "    state_value_bounds[6] = [0,1]\n",
        "    state_value_bounds[7] = [0,1]\n",
        "    \n",
        "    return number_of_buckets, number_of_actions, state_value_bounds\n",
        "\n",
        "numberOfBuckets, number_of_actions, state_value_bounds = set_buckets_and_actions()\n",
        "\n",
        "def bucketize(state):\n",
        "    bucket_indexes = []\n",
        "    for i in range(len(state)):\n",
        "        if state[i] <= state_value_bounds[i][0]:\n",
        "            bucket_index = 0\n",
        "        elif state[i] >= state_value_bounds[i][1]:\n",
        "            bucket_index = numberOfBuckets[i] - 1\n",
        "        else:\n",
        "            bound_width = state_value_bounds[i][1] - state_value_bounds[i][0]\n",
        "            offset = (numberOfBuckets[i]-1) * state_value_bounds[i][0]/bound_width\n",
        "            scaling = (numberOfBuckets[i]-1) / bound_width\n",
        "            bucket_index = int(round(scaling*state[i] - offset))\n",
        "        bucket_indexes.append(bucket_index)\n",
        "    return tuple(bucket_indexes)"
      ]
    },
    {
      "cell_type": "markdown",
      "source": [
        "#### Model"
      ],
      "metadata": {
        "id": "Fa5sgOkuVsrd"
      }
    },
    {
      "cell_type": "code",
      "execution_count": 67,
      "metadata": {
        "id": "NRG7aR4stxV8"
      },
      "outputs": [],
      "source": [
        "class QAgent():\n",
        "  def __init__(self, name = \"QAgent\", epsilon = 0.5, epsilonDecay = False, logInterval = 10, learningRate = 0.01, discountFactor = 0.95) -> None:\n",
        "    \n",
        "    self.agentName = name\n",
        "    self.actions = testingEnv.action_space\n",
        "    self.actionLength = testingEnv.action_space.n\n",
        "\n",
        "    self.alpha = learningRate\n",
        "    self.discountFactor = discountFactor\n",
        "    self.epsilon = epsilon\n",
        "    self.epsilonDecay = epsilonDecay\n",
        "\n",
        "    self.QTable =  np.zeros(numberOfBuckets + (self.actionLength,))\n",
        "\n",
        "    self.trainEpisodes = []\n",
        "    self.trainEpisodeSteps = []\n",
        "    self.trainRewards = []\n",
        "    self.currentAvg = 0\n",
        "    self.movingAverage = []\n",
        "    self.logInterval = logInterval\n",
        "\n",
        "  def __getAction__(self, currentState):\n",
        "    randExplorationVal = random.uniform(0, 1) \n",
        "    if (randExplorationVal < self.epsilon):\n",
        "        # PLAY RANDOM ACTION\n",
        "        selectedAction = testingEnv.action_space.sample() #random.random() \n",
        "    else:\n",
        "        #PLAY BEST ACTION\n",
        "        #rowIndexQ= 1 #based on current State\n",
        "        stateQvalues = self.QTable[currentState]\n",
        "        indices = [i for i, x in enumerate(stateQvalues) if x == max(stateQvalues)]\n",
        "        # Calling random choice even if there is only 1 machine to sync the random state value with expected o/p\n",
        "        selectedAction = random.choice(indices)    \n",
        "    return selectedAction\n",
        "  \n",
        "  def storeEpisodeInfo(self):\n",
        "    self.trainEpisodes.append(self.episodeCount)\n",
        "    self.trainEpisodeSteps.append(self.episodeSteps)\n",
        "    self.trainRewards.append(self.currentEpisodeRewards)\n",
        "    self.currentAvg = np.mean(self.trainRewards)\n",
        "    self.movingAverage.append(np.mean(self.currentAvg))\n",
        "\n",
        "  def getTrainingInfo(self):\n",
        "    return[self.trainEpisodes, self.trainEpisodeSteps, self.trainRewards, self.movingAverage]\n",
        "\n",
        "  def __printEpisodeEnd__(self):\n",
        "    print(f'Epi {self.episodeCount}: Steps={self.episodeSteps}, Final Reward = {self.currentEpisodeRewards}, Avg. = {self.currentAvg}')            \n",
        "    \n",
        "  def __updateQValues__(self, newState, actionTaken, reward, oldState):\n",
        "    # Q(s,a)= (1 - α) Q(s,a) + α(R(s) + λ max(Q(s', a')))\n",
        "    # QTable[x][y][c][action] = (1 - alpha) * QTable[x][y][c][action] + alpha * (R[x][y][c] + 0.95*maxSp)\n",
        "    oldQValue = self.QTable[oldState][actionTaken]\n",
        "    newStateBestQ = max(self.QTable[newState])\n",
        "    newValue = (1 - self.alpha) * oldQValue+ self.alpha * (reward + discountFactor * newStateBestQ )\n",
        "    self.QTable[oldState][actionTaken] = newValue\n",
        "\n",
        "  def learn(self):\n",
        "    self.episodeCount = 0 \n",
        "    #print(totalEpisodes, maxStepsInEpisodes)\n",
        "    while (self.episodeCount< totalEpisodes):        \n",
        "        currentState = testingEnv.reset() # new episode - reset the envi. to starting state\n",
        "        self.currentEpisodeRewards = 0\n",
        "        self.episodeSteps = 0\n",
        "        testingEnv.render()\n",
        "        while self.episodeSteps< maxStepsInEpisodes:\n",
        "            # Choose action\n",
        "            currentState = bucketize(currentState)\n",
        "            selectedAction = self.__getAction__(currentState)\n",
        "            # perform action\n",
        "            newState, reward, done, _ = testingEnv.step(selectedAction)\n",
        "\n",
        "            #update knowledge\n",
        "            self.__updateQValues__(newState=bucketize(newState), actionTaken=selectedAction, reward=reward, oldState=currentState)\n",
        "            # current State is updated\n",
        "            currentState = newState\n",
        "            \n",
        "            #Steps end\n",
        "            self.currentEpisodeRewards += reward\n",
        "            self.episodeSteps+=1 #episodeSteps + 1\n",
        "            \n",
        "            if done:\n",
        "              break\n",
        "\n",
        "        self.episodeCount+=1\n",
        "        self.storeEpisodeInfo()\n",
        "        \n",
        "        if self.episodeCount % self.logInterval == 0:\n",
        "          self.__printEpisodeEnd__()\n",
        "        #print(f'Completed in {episodeCount} episodes')        \n",
        "    return\n",
        "  \n",
        "  def predict(self, currentState, deterministic=True):\n",
        "    return self.QTable[bucketize(currentState)]  "
      ]
    },
    {
      "cell_type": "markdown",
      "metadata": {
        "id": "QHl7OEX6Xfcb"
      },
      "source": [
        "## Model Deep Q-Network (DQN)"
      ]
    },
    {
      "cell_type": "markdown",
      "metadata": {
        "id": "nbeKVsXs9yQO"
      },
      "source": [
        "### openAi DQN"
      ]
    },
    {
      "cell_type": "code",
      "execution_count": 68,
      "metadata": {
        "id": "LNrbPy0XsBpM"
      },
      "outputs": [],
      "source": [
        "policy_kwargs = dict(activation_fn=torch.nn.ReLU, net_arch = [64,64]) #dueling=False, \n",
        "\n",
        "#For evaluating the performance of the agent periodically and logging the results.\n",
        "callback = EvalCallback(testingEnv, log_path = log_dir, deterministic=True) \n",
        "\n",
        "model_dqn = DQN(\"MlpPolicy\", \n",
        "             testingEnv,\n",
        "             policy_kwargs = policy_kwargs,\n",
        "            \n",
        "            learning_rate= 0.001,\n",
        "            gamma = 0.99, #discount factor\n",
        "            \n",
        "            batch_size=1,  #batch update - not used\n",
        "            buffer_size= 50, #size of experience of replay buffer. Set to 1 as batch update is not done\n",
        "            learning_starts=1, #learning starts immediately!\n",
        "            tau = 1,  #the soft update coefficient for updating the target network\n",
        "            target_update_interval=1, #update the target network immediately.\n",
        "            train_freq=(1,\"step\"), #train the network at every step.\n",
        "            max_grad_norm = 10, #the maximum value for the gradient clipping\n",
        "            \n",
        "            exploration_initial_eps = 1, #initial value of random action probability\n",
        "            exploration_fraction = 0.5, #fraction of entire training period over which the exploration rate is reduced\n",
        "            gradient_steps = 1, #number of gradient steps\n",
        "            seed = 1, \n",
        "            verbose=0) \n"
      ]
    },
    {
      "cell_type": "markdown",
      "metadata": {
        "id": "UAbwaUV792yW"
      },
      "source": [
        "### Our DQN implementation"
      ]
    },
    {
      "cell_type": "code",
      "execution_count": 69,
      "metadata": {
        "id": "QNPkagaISRi_"
      },
      "outputs": [],
      "source": [
        "class Experience():\n",
        "    def __init__(self,  currentState, action, reward, newState, done) -> None:\n",
        "      self.experience: tuple = (currentState, action, reward, newState, done)\n",
        "      return"
      ]
    },
    {
      "cell_type": "code",
      "execution_count": 102,
      "metadata": {
        "id": "B6PJI6Kv95r4"
      },
      "outputs": [],
      "source": [
        "class DQNAgent(QAgent):\n",
        "    def __init__(self, name = \"DQNAgent\", epsilon= 0.5, numberOfExperiences = 1000, sampleExperiences = 50) -> None:\n",
        "      super().__init__(self)\n",
        "\n",
        "      self.agentName = name\n",
        "      self.numStates = env_ll.observation_space.shape[0]\n",
        "      self.nA = env_ll.action_space.n\n",
        "      self.numberOfExperiences = numberOfExperiences\n",
        "      self.experienceReplayMemory = deque(maxlen= numberOfExperiences)\n",
        "      self.experienceReplayMemoryLength = 0\n",
        "      self.sampleExperiences = sampleExperiences\n",
        "      self.epsilon = epsilon\n",
        "\n",
        "      self.totalEpisodes = totalEpisodes\n",
        "\n",
        "      self.targetUpdate: int = 10\n",
        "      self.optimizer = Adam(self.alpha)\n",
        "      self.deepQnetwork = self.__createNetwork__()\n",
        "      #self.targetModel = self.createNetwork()\n",
        "\n",
        "      self.loss = []\n",
        "\n",
        "    def __getBestAction__(self, currentState):  #get best action based on the network's estimation of Q values\n",
        "      # Using Deep NN to estimate Value for (s,a)\n",
        "      # returns q values for each action\n",
        "      #print(currentState)\n",
        "      estimatedQvaluesForAction = self.deepQnetwork.predict(currentState)\n",
        "      #print(estimatedQvaluesForAction)\n",
        "      actionsIndexList = [i for i, x in enumerate(estimatedQvaluesForAction[0]) if x == max(estimatedQvaluesForAction[0])] \n",
        "      #print(actionsIndexList)\n",
        "      # if multiple, random choice\n",
        "      selectedAction = random.choice(actionsIndexList) if len(actionsIndexList)> 1 else actionsIndexList[0]  \n",
        "      return selectedAction\n",
        "\n",
        "    def __getAction__(self, currentState):\n",
        "      \n",
        "      # Implementing epsilon greedy approach\n",
        "      randExplorationVal = random.uniform(0, 1) \n",
        "      if (randExplorationVal < self.epsilon):\n",
        "        return testingEnv.action_space.sample() # PLAY RANDOM ACTION\n",
        "      else:\n",
        "        return self.__getBestAction__(currentState) #PLAY BEST ACTION\n",
        "\n",
        "    # we randomly sample from Replay memory\n",
        "    def __getExperiences__(self):\n",
        "        expSamples : List[Experience]= random.sample(self.experienceReplayMemory, self.sampleExperiences)\n",
        "        return expSamples\n",
        "    \n",
        "    # create the repository of experiences\n",
        "    def __saveExperience__(self, currentState, action, reward, newState, done):\n",
        "        #Experience et = Tuple(currentState, action, reward, nextState)\n",
        "        e = Experience(currentState, action, reward, newState, done)\n",
        "        if (len(self.experienceReplayMemory) < self.numberOfExperiences):\n",
        "            self.experienceReplayMemory.append(e)\n",
        "        else:\n",
        "            self.experienceReplayMemory[self.experienceReplayMemoryLength % self.numberOfExperiences] = e\n",
        "        \n",
        "        self.experienceReplayMemoryLength = self.experienceReplayMemoryLength + 1\n",
        "        return\n",
        "    \n",
        "    def __createNetwork__(self):\n",
        "      model = Sequential()\n",
        "      inputShape = 8\n",
        "      model.add(Dense(28, input_dim = inputShape, activation=\"relu\", name=\"l1\"))\n",
        "      model.add(Dense(28, activation=\"relu\", name=\"l2\"))\n",
        "      #model.add(Dense(24, activation=\"relu\"))\n",
        "      model.add(Dense(testingEnv.action_space.n, activation=\"linear\"))  # output layer\n",
        "      model.compile(loss='mse', optimizer=SGD(lr=learningRate)) #Loss function: Mean Squared Error\n",
        "      return model\n",
        "    \n",
        "    def __useExperiences__(self): #replay\n",
        "        if self.experienceReplayMemoryLength > self.sampleExperiences:\n",
        "          expSamples:list[Experience] = self.__getExperiences__()\n",
        "          self.__trainModel__(expSamples)\n",
        "\n",
        "    def __trainModel__(self,expSamples):\n",
        "        index = 0\n",
        "        x = []; y=[]\n",
        "        allNewStates = []\n",
        "        allCStates = []\n",
        "        for sample in expSamples:\n",
        "            currentState, action, reward, newState, done = sample.experience\n",
        "            allCStates.append(currentState)\n",
        "            allNewStates.append(newState)\n",
        "\n",
        "        states = np.squeeze(allCStates)\n",
        "        nextStates = np.squeeze(allNewStates)\n",
        "        st_predict = self.deepQnetwork.predict(states) \n",
        "        nst_predict = self.deepQnetwork.predict(nextStates)\n",
        "\n",
        "        for sample in expSamples:\n",
        "            currentStateT, action, reward, newStateT, done = sample.experience\n",
        "\n",
        "            #currentStateT = np.reshape(currentState, [1, self.numStates])\n",
        "            #st_predict = self.deepQnetwork.predict(currentStateT)\n",
        "            #newStateT = np.reshape(newState, [1, self.numStates])\n",
        "            #next state expected Q value\n",
        "            #nst_predict = self.deepQnetwork.predict(newStateT)\n",
        "            #currentStateT = \n",
        "            x.append(currentStateT)\n",
        "\n",
        "            #Predict from state\n",
        "            nst_action_predict_model = nst_predict[index] #0\n",
        "            if done == True: # game terminates in next step\n",
        "                target = reward\n",
        "            else: \n",
        "                target = reward + discountFactor * np.amax(nst_action_predict_model)\n",
        "            \n",
        "            st_predict[index][action] = target\n",
        "            y.append(st_predict[0]) #append Qvalues for current state using index\n",
        "            index += 1\n",
        "        # Compare q values of actions to est. q value\n",
        "        # compare loss\n",
        "        # minimize loss \n",
        "        # Use SGD to backprop loss and adjust weights\n",
        "        #Reshape for fitting in NN\n",
        "        x_reshape = np.array(x).reshape(self.sampleExperiences,self.numStates)\n",
        "        y_reshape = np.array(y)\n",
        "        modelFitSummary = self.deepQnetwork.fit(x_reshape, y_reshape, epochs=1, verbose=0)\n",
        "        self.loss.append( modelFitSummary.history['loss'][0])\n",
        "    \n",
        "    def learn(self, log_interval: int = 50, callback=None):\n",
        "        self.episodeCount = 0 \n",
        "        self.logInterval = log_interval\n",
        "        while (self.episodeCount< self.totalEpisodes):        \n",
        "            currentState = testingEnv.reset() # currentState\n",
        "            self.currentEpisodeRewards = 0\n",
        "            self.episodeSteps = 0\n",
        "            while self.episodeSteps< maxStepsInEpisodes:\n",
        "                # Choose action\n",
        "                currentStateT = np.reshape(currentState, [1, self.numStates])\n",
        "                selectedAction = self.__getAction__(currentStateT)\n",
        "                # perform action\n",
        "                #testingEnv.render()\n",
        "                newState, reward, done, _ = testingEnv.step(selectedAction)\n",
        "                newStateT = np.reshape(newState, [1, self.numStates])\n",
        "                # Replay Memory\n",
        "                self.__saveExperience__(currentStateT, selectedAction, reward, newStateT, done)\n",
        "                \n",
        "                #update knowledge\n",
        "                self.__useExperiences__()\n",
        "                \n",
        "                #Steps end\n",
        "                self.currentEpisodeRewards = self.currentEpisodeRewards + reward\n",
        "                self.episodeSteps = self.episodeSteps + 1\n",
        "                \n",
        "                #self.__printEpisodeEnd__()\n",
        "                # current State is updated\n",
        "                currentState = newState\n",
        "                if done:\n",
        "                  break\n",
        "            \n",
        "            self.storeEpisodeInfo()\n",
        "            self.episodeCount= self.episodeCount+1\n",
        "            self.__printEpisodeEnd__()\n",
        "            if self.episodeCount % self.logInterval == 0:\n",
        "              print(f\"Completed in {self.episodeCount} trials\")      \n",
        "        return\n",
        "\n",
        "    def predict(self, currentState, deterministic=True):\n",
        "      return self.__getBestAction__()"
      ]
    },
    {
      "cell_type": "code",
      "execution_count": 104,
      "metadata": {
        "id": "QkuZ0pPYkUf0"
      },
      "outputs": [],
      "source": [
        "model_m2 = DQNAgent()"
      ]
    },
    {
      "cell_type": "code",
      "source": [
        "model_m2.learn()"
      ],
      "metadata": {
        "colab": {
          "base_uri": "https://localhost:8080/"
        },
        "id": "c6MR15wfaP4w",
        "outputId": "7ca80af0-3765-48d3-c3ad-90aba8479bd9"
      },
      "execution_count": null,
      "outputs": [
        {
          "output_type": "stream",
          "name": "stdout",
          "text": [
            "Epi 1: Steps=79, Final Reward = -427.9734713091815, Avg. = -427.9734713091815\n",
            "Epi 2: Steps=90, Final Reward = -391.90215439439095, Avg. = -409.93781285178625\n",
            "Epi 3: Steps=95, Final Reward = -87.05935399528964, Avg. = -302.3116598996207\n",
            "Epi 4: Steps=80, Final Reward = -135.21209868251282, Avg. = -260.53676959534374\n",
            "Epi 5: Steps=150, Final Reward = -65.00692848072816, Avg. = -221.43080137242063\n",
            "Epi 6: Steps=94, Final Reward = -280.90211079284825, Avg. = -231.34268627582523\n",
            "Epi 7: Steps=58, Final Reward = -153.41981197361926, Avg. = -220.2108470897958\n",
            "Epi 8: Steps=119, Final Reward = -482.28365514163755, Avg. = -252.96994809627603\n",
            "Epi 9: Steps=96, Final Reward = -359.1823056201478, Avg. = -264.771321154484\n"
          ]
        }
      ]
    },
    {
      "cell_type": "markdown",
      "metadata": {
        "id": "GoTr3nQKY_I1"
      },
      "source": [
        "## Evaluations"
      ]
    },
    {
      "cell_type": "code",
      "source": [
        "# doing DQN model separately\n",
        "# testingEnv.reset()\n",
        "# model_dqn.learn(total_timesteps= 100000, log_interval=20, callback = callback)\n",
        "# testModel(model_dqn)\n",
        "# testingEnv.close()"
      ],
      "metadata": {
        "id": "z4MBTXZO0AX-"
      },
      "execution_count": 73,
      "outputs": []
    },
    {
      "cell_type": "code",
      "source": [
        "modelQAgent = QAgent()\n",
        "modelDQNAgent = DQNAgent()\n",
        "#modelDQN = model_dqn\n"
      ],
      "metadata": {
        "id": "4RYf5y6t8Ml-"
      },
      "execution_count": 103,
      "outputs": []
    },
    {
      "cell_type": "code",
      "execution_count": 95,
      "metadata": {
        "id": "SZ_beTr0Kxiy",
        "colab": {
          "base_uri": "https://localhost:8080/"
        },
        "outputId": "60efbf9d-31d1-4555-c65a-12794c95258e"
      },
      "outputs": [
        {
          "output_type": "stream",
          "name": "stdout",
          "text": [
            "Epi 10: Steps=150, Final Reward = 43.085174650031995, Avg. = -94.94866469083243\n",
            "Epi 20: Steps=128, Final Reward = -178.52969146401665, Avg. = -97.71968128992164\n",
            "Epi 30: Steps=118, Final Reward = -94.15084785741276, Avg. = -105.44607606239204\n",
            "Epi 40: Steps=150, Final Reward = 26.500536224656784, Avg. = -102.82975834114113\n",
            "Epi 50: Steps=77, Final Reward = -110.44902397245511, Avg. = -107.69739753903906\n",
            "Epi 1: Steps=130, Final Reward = -315.16571804102097, Avg. = -241.37007068444757\n",
            "Epi 2: Steps=105, Final Reward = -255.67258519596805, Avg. = -244.2305735867517\n",
            "Epi 3: Steps=150, Final Reward = -497.6396549227531, Avg. = -286.4654204760853\n"
          ]
        }
      ],
      "source": [
        "models = [modelQAgent, modelDQNAgent] #1. Q-learning 2. DQN learning\n",
        "timeTaken = []\n",
        "for model in models:\n",
        "  testingEnv.reset()\n",
        "  testingEnv.seed(42)\n",
        "  startTime = time.time()\n",
        "  model.learn()\n",
        "  endTime = time.time()\n",
        "  testingEnv.close()\n",
        "  timeTaken.append(endTime - startTime)"
      ]
    },
    {
      "cell_type": "code",
      "source": [
        "modelName = []; allTrainEpisodes=[]; alltrainEpisodeSteps=[];trainRewards=[]; movingAverage=[]\n",
        "def createEvaluationDf(models): # create [model name,  (reward, mean, epi)] into dataframe\n",
        "  for model in models:\n",
        "    trainStats = model.getTrainingInfo()  #self.trainEpisodes, self.trainEpisodeSteps, self.trainRewards, self.movingAverage\n",
        "    statLength = len(trainStats[0])\n",
        "    modelName.append([model.agentName] * statLength)\n",
        "    allTrainEpisodes.append(trainStats[0])\n",
        "    alltrainEpisodeSteps.append(trainStats[1])\n",
        "    trainRewards.append(trainStats[2])\n",
        "    movingAverage.append(trainStats[3])\n",
        "  evalResults = pd.DataFrame()\n",
        "  evalResults['Model'] = np.array(modelName).flatten(order='C') #np.squeeze(modelName)\n",
        "  evalResults['Episodes'] = np.array(allTrainEpisodes).flatten(order='C') #np.squeeze(allTrainEpisodes)\n",
        "  evalResults['EpisodeSteps'] = np.array(alltrainEpisodeSteps).flatten(order='C') #np.squeeze(alltrainEpisodeSteps)\n",
        "  evalResults['Rewards'] = np.array(trainRewards).flatten(order='C') #np.squeeze(trainRewards)\n",
        "  evalResults['MovingAverage'] = np.array(movingAverage).flatten(order='C')  #np.squeeze(movingAverage)\n",
        "  return evalResults"
      ],
      "metadata": {
        "id": "YgqDO7dz1pXO"
      },
      "execution_count": 96,
      "outputs": []
    },
    {
      "cell_type": "code",
      "source": [
        "evalMetrics = createEvaluationDf(models)"
      ],
      "metadata": {
        "id": "wgsElNFNX0Jh"
      },
      "execution_count": 97,
      "outputs": []
    },
    {
      "cell_type": "code",
      "source": [
        "evalMetrics"
      ],
      "metadata": {
        "colab": {
          "base_uri": "https://localhost:8080/",
          "height": 191
        },
        "id": "EG37Z0ayFc5W",
        "outputId": "4f27350f-37cf-4442-e598-a1e4d2a879cb"
      },
      "execution_count": 98,
      "outputs": [
        {
          "output_type": "execute_result",
          "data": {
            "text/plain": [
              "                                               Model  \\\n",
              "0  [QAgent, QAgent, QAgent, QAgent, QAgent, QAgen...   \n",
              "1  [DQNAgent, DQNAgent, DQNAgent, DQNAgent, DQNAg...   \n",
              "\n",
              "                                            Episodes  \\\n",
              "0  [1, 2, 3, 1, 2, 3, 4, 5, 6, 7, 8, 9, 10, 11, 1...   \n",
              "1                                 [0, 1, 2, 0, 1, 2]   \n",
              "\n",
              "                                        EpisodeSteps  \\\n",
              "0  [100, 100, 100, 130, 140, 123, 106, 116, 150, ...   \n",
              "1                       [85, 100, 90, 130, 105, 150]   \n",
              "\n",
              "                                             Rewards  \\\n",
              "0  [-145.13025485083878, -105.68389467980316, 32....   \n",
              "1  [-484.62754787809877, -106.37022977096994, -59...   \n",
              "\n",
              "                                       MovingAverage  \n",
              "0  [-145.13025485083878, -125.40707476532097, -72...  \n",
              "1  [-484.62754787809877, -295.49888882453433, -21...  "
            ],
            "text/html": [
              "\n",
              "  <div id=\"df-f3f40322-9962-48e2-baf3-fa47a152ce4c\">\n",
              "    <div class=\"colab-df-container\">\n",
              "      <div>\n",
              "<style scoped>\n",
              "    .dataframe tbody tr th:only-of-type {\n",
              "        vertical-align: middle;\n",
              "    }\n",
              "\n",
              "    .dataframe tbody tr th {\n",
              "        vertical-align: top;\n",
              "    }\n",
              "\n",
              "    .dataframe thead th {\n",
              "        text-align: right;\n",
              "    }\n",
              "</style>\n",
              "<table border=\"1\" class=\"dataframe\">\n",
              "  <thead>\n",
              "    <tr style=\"text-align: right;\">\n",
              "      <th></th>\n",
              "      <th>Model</th>\n",
              "      <th>Episodes</th>\n",
              "      <th>EpisodeSteps</th>\n",
              "      <th>Rewards</th>\n",
              "      <th>MovingAverage</th>\n",
              "    </tr>\n",
              "  </thead>\n",
              "  <tbody>\n",
              "    <tr>\n",
              "      <th>0</th>\n",
              "      <td>[QAgent, QAgent, QAgent, QAgent, QAgent, QAgen...</td>\n",
              "      <td>[1, 2, 3, 1, 2, 3, 4, 5, 6, 7, 8, 9, 10, 11, 1...</td>\n",
              "      <td>[100, 100, 100, 130, 140, 123, 106, 116, 150, ...</td>\n",
              "      <td>[-145.13025485083878, -105.68389467980316, 32....</td>\n",
              "      <td>[-145.13025485083878, -125.40707476532097, -72...</td>\n",
              "    </tr>\n",
              "    <tr>\n",
              "      <th>1</th>\n",
              "      <td>[DQNAgent, DQNAgent, DQNAgent, DQNAgent, DQNAg...</td>\n",
              "      <td>[0, 1, 2, 0, 1, 2]</td>\n",
              "      <td>[85, 100, 90, 130, 105, 150]</td>\n",
              "      <td>[-484.62754787809877, -106.37022977096994, -59...</td>\n",
              "      <td>[-484.62754787809877, -295.49888882453433, -21...</td>\n",
              "    </tr>\n",
              "  </tbody>\n",
              "</table>\n",
              "</div>\n",
              "      <button class=\"colab-df-convert\" onclick=\"convertToInteractive('df-f3f40322-9962-48e2-baf3-fa47a152ce4c')\"\n",
              "              title=\"Convert this dataframe to an interactive table.\"\n",
              "              style=\"display:none;\">\n",
              "        \n",
              "  <svg xmlns=\"http://www.w3.org/2000/svg\" height=\"24px\"viewBox=\"0 0 24 24\"\n",
              "       width=\"24px\">\n",
              "    <path d=\"M0 0h24v24H0V0z\" fill=\"none\"/>\n",
              "    <path d=\"M18.56 5.44l.94 2.06.94-2.06 2.06-.94-2.06-.94-.94-2.06-.94 2.06-2.06.94zm-11 1L8.5 8.5l.94-2.06 2.06-.94-2.06-.94L8.5 2.5l-.94 2.06-2.06.94zm10 10l.94 2.06.94-2.06 2.06-.94-2.06-.94-.94-2.06-.94 2.06-2.06.94z\"/><path d=\"M17.41 7.96l-1.37-1.37c-.4-.4-.92-.59-1.43-.59-.52 0-1.04.2-1.43.59L10.3 9.45l-7.72 7.72c-.78.78-.78 2.05 0 2.83L4 21.41c.39.39.9.59 1.41.59.51 0 1.02-.2 1.41-.59l7.78-7.78 2.81-2.81c.8-.78.8-2.07 0-2.86zM5.41 20L4 18.59l7.72-7.72 1.47 1.35L5.41 20z\"/>\n",
              "  </svg>\n",
              "      </button>\n",
              "      \n",
              "  <style>\n",
              "    .colab-df-container {\n",
              "      display:flex;\n",
              "      flex-wrap:wrap;\n",
              "      gap: 12px;\n",
              "    }\n",
              "\n",
              "    .colab-df-convert {\n",
              "      background-color: #E8F0FE;\n",
              "      border: none;\n",
              "      border-radius: 50%;\n",
              "      cursor: pointer;\n",
              "      display: none;\n",
              "      fill: #1967D2;\n",
              "      height: 32px;\n",
              "      padding: 0 0 0 0;\n",
              "      width: 32px;\n",
              "    }\n",
              "\n",
              "    .colab-df-convert:hover {\n",
              "      background-color: #E2EBFA;\n",
              "      box-shadow: 0px 1px 2px rgba(60, 64, 67, 0.3), 0px 1px 3px 1px rgba(60, 64, 67, 0.15);\n",
              "      fill: #174EA6;\n",
              "    }\n",
              "\n",
              "    [theme=dark] .colab-df-convert {\n",
              "      background-color: #3B4455;\n",
              "      fill: #D2E3FC;\n",
              "    }\n",
              "\n",
              "    [theme=dark] .colab-df-convert:hover {\n",
              "      background-color: #434B5C;\n",
              "      box-shadow: 0px 1px 3px 1px rgba(0, 0, 0, 0.15);\n",
              "      filter: drop-shadow(0px 1px 2px rgba(0, 0, 0, 0.3));\n",
              "      fill: #FFFFFF;\n",
              "    }\n",
              "  </style>\n",
              "\n",
              "      <script>\n",
              "        const buttonEl =\n",
              "          document.querySelector('#df-f3f40322-9962-48e2-baf3-fa47a152ce4c button.colab-df-convert');\n",
              "        buttonEl.style.display =\n",
              "          google.colab.kernel.accessAllowed ? 'block' : 'none';\n",
              "\n",
              "        async function convertToInteractive(key) {\n",
              "          const element = document.querySelector('#df-f3f40322-9962-48e2-baf3-fa47a152ce4c');\n",
              "          const dataTable =\n",
              "            await google.colab.kernel.invokeFunction('convertToInteractive',\n",
              "                                                     [key], {});\n",
              "          if (!dataTable) return;\n",
              "\n",
              "          const docLinkHtml = 'Like what you see? Visit the ' +\n",
              "            '<a target=\"_blank\" href=https://colab.research.google.com/notebooks/data_table.ipynb>data table notebook</a>'\n",
              "            + ' to learn more about interactive tables.';\n",
              "          element.innerHTML = '';\n",
              "          dataTable['output_type'] = 'display_data';\n",
              "          await google.colab.output.renderOutput(dataTable, element);\n",
              "          const docLink = document.createElement('div');\n",
              "          docLink.innerHTML = docLinkHtml;\n",
              "          element.appendChild(docLink);\n",
              "        }\n",
              "      </script>\n",
              "    </div>\n",
              "  </div>\n",
              "  "
            ]
          },
          "metadata": {},
          "execution_count": 98
        }
      ]
    },
    {
      "cell_type": "markdown",
      "metadata": {
        "id": "uUDX3xOxmSaP"
      },
      "source": [
        "#### graph: Training time vs Algo"
      ]
    },
    {
      "cell_type": "code",
      "source": [
        "# #x = np.linspace(0, , model.movingAverage)\n",
        "# plt.bar(timeTaken, height=1)\n",
        "# plt.legend()\n",
        "# plt.show()"
      ],
      "metadata": {
        "id": "K9WCBSpcneYJ"
      },
      "execution_count": 79,
      "outputs": []
    },
    {
      "cell_type": "markdown",
      "metadata": {
        "id": "uxP3r9EDmSaQ"
      },
      "source": [
        "#### graph of Rewads vs Episodes  - grouped by algo "
      ]
    },
    {
      "cell_type": "code",
      "source": [
        "#testModel(model_dqn)"
      ],
      "metadata": {
        "id": "hIQ_Cqib8Q8N"
      },
      "execution_count": 80,
      "outputs": []
    },
    {
      "cell_type": "code",
      "execution_count": 81,
      "metadata": {
        "id": "pv0t8KZVGmE5",
        "colab": {
          "base_uri": "https://localhost:8080/",
          "height": 265
        },
        "outputId": "0835a706-66da-411f-d82c-e9a30ff6de16"
      },
      "outputs": [
        {
          "output_type": "display_data",
          "data": {
            "text/plain": [
              "<Figure size 432x288 with 1 Axes>"
            ],
            "image/png": "[encoded data removed]"
          },
          "metadata": {
            "needs_background": "light"
          }
        }
      ],
      "source": [
        "#x = np.linspace(0, , model.movingAverage)\n",
        "x = [i for i in range(model.episodeCount)]\n",
        "plt.plot(x, model.movingAverage, label='Algo')\n",
        "plt.plot(x, model.movingAverage, label='Balpo')\n",
        "plt.legend()\n",
        "plt.show()"
      ]
    },
    {
      "cell_type": "markdown",
      "metadata": {
        "id": "CSaIZ70tmSaQ"
      },
      "source": [
        "#### graph: Rewards vs episodes - grouped by learning rate"
      ]
    },
    {
      "cell_type": "markdown",
      "metadata": {
        "id": "r4WBkvQYmSaQ"
      },
      "source": [
        "#### graph: Rewards vs episodes - grouped by epsilon"
      ]
    },
    {
      "cell_type": "code",
      "execution_count": 82,
      "metadata": {
        "id": "HRSWnha7mSaQ"
      },
      "outputs": [],
      "source": [
        "modelsDQN = [DQNAgent(name=\"epsilon=0.1\", epsilon = 0.1), \n",
        "          DQNAgent(name=\"epsilon=0.05\", epsilon = 0.05), \n",
        "          DQNAgent(name=\"epsilon=0.1\", epsilon = 0.5)]"
      ]
    },
    {
      "cell_type": "code",
      "source": [
        "modelsQ = [QAgent(name=\"epsilon=0.1\", epsilon = 0.1), \n",
        "          QAgent(name=\"epsilon=0.05\", epsilon = 0.05), \n",
        "          QAgent(name=\"epsilon=0.1\", epsilon = 0.5)]"
      ],
      "metadata": {
        "id": "E_xRxhX8OLN7"
      },
      "execution_count": 83,
      "outputs": []
    },
    {
      "cell_type": "code",
      "source": [
        "timeTaken = []\n",
        "for model in modelsQ:\n",
        "  startTime = time.time()\n",
        "  model.learn()\n",
        "  endTime = time.time()\n",
        "  testingEnv.close()\n",
        "  timeTaken.append(endTime - startTime)\n",
        "evalMetricsQ = createEvaluationDf(modelsQ)"
      ],
      "metadata": {
        "id": "VRKqBakZ0fkG"
      },
      "execution_count": 84,
      "outputs": []
    },
    {
      "cell_type": "code",
      "source": [
        "timeTaken = []\n",
        "for model in modelsDQN:\n",
        "  startTime = time.time()\n",
        "  model.learn()\n",
        "  endTime = time.time()\n",
        "  testingEnv.close()\n",
        "  timeTaken.append(endTime - startTime)\n",
        "evalMetricsDQN = createEvaluationDf(modelsDQN)"
      ],
      "metadata": {
        "colab": {
          "base_uri": "https://localhost:8080/"
        },
        "id": "KqugBwPh1Lr_",
        "outputId": "ed9ca030-a9dd-47a7-c3a7-d64409d8dbc9"
      },
      "execution_count": 85,
      "outputs": [
        {
          "output_type": "stream",
          "name": "stdout",
          "text": [
            "Epi 1: Steps=62, Final Reward = -234.99938645466227, Avg. = -234.99938645466227\n",
            "Epi 2: Steps=100, Final Reward = -516.0191894576864, Avg. = -375.5092879561743\n",
            "Epi 3: Steps=79, Final Reward = -500.2847875693917, Avg. = -417.1011211605801\n",
            "Epi 1: Steps=80, Final Reward = -603.6290475876244, Avg. = -603.6290475876244\n",
            "Epi 2: Steps=84, Final Reward = -110.94391389082077, Avg. = -357.2864807392226\n",
            "Epi 3: Steps=80, Final Reward = -123.77659582868941, Avg. = -279.44985243571153\n",
            "Epi 1: Steps=100, Final Reward = -77.71751757025314, Avg. = -77.71751757025314\n",
            "Epi 2: Steps=92, Final Reward = -411.73763078934894, Avg. = -244.72757417980102\n",
            "Epi 3: Steps=100, Final Reward = 17.819414826241683, Avg. = -157.2119111777868\n"
          ]
        }
      ]
    },
    {
      "cell_type": "code",
      "source": [
        "evalMetricsByEpsilon = evalMetrics.groupby(\"Model\")"
      ],
      "metadata": {
        "id": "THxTXiH12EqE"
      },
      "execution_count": 86,
      "outputs": []
    },
    {
      "cell_type": "code",
      "source": [
        "evalMetricsByEpsilon.plot()\n",
        "fig, ax = plt.subplots(figsize=(10,4))\n",
        "for key, grp in evalMetricsByEpsilon:\n",
        "    ax.plot(grp['Rewards'], grp['Episodes'], label=key)\n",
        "\n",
        "ax.legend()\n",
        "plt.show()"
      ],
      "metadata": {
        "colab": {
          "base_uri": "https://localhost:8080/",
          "height": 1000
        },
        "id": "dmcu73yD2XNV",
        "outputId": "9d46f633-76a3-48c0-a3f5-2b166da0608e"
      },
      "execution_count": 87,
      "outputs": [
        {
          "output_type": "display_data",
          "data": {
            "text/plain": [
              "<Figure size 432x288 with 1 Axes>"
            ],
            "image/png": "[encoded data removed]"
          },
          "metadata": {
            "needs_background": "light"
          }
        },
        {
          "output_type": "display_data",
          "data": {
            "text/plain": [
              "<Figure size 432x288 with 1 Axes>"
            ],
            "image/png": "[encoded data removed]"
          },
          "metadata": {
            "needs_background": "light"
          }
        },
        {
          "output_type": "display_data",
          "data": {
            "text/plain": [
              "<Figure size 432x288 with 1 Axes>"
            ],
            "image/png": "[encoded data removed]"
          },
          "metadata": {
            "needs_background": "light"
          }
        },
        {
          "output_type": "display_data",
          "data": {
            "text/plain": [
              "<Figure size 432x288 with 1 Axes>"
            ],
            "image/png": "[encoded data removed]"
          },
          "metadata": {
            "needs_background": "light"
          }
        },
        {
          "output_type": "display_data",
          "data": {
            "text/plain": [
              "<Figure size 720x288 with 1 Axes>"
            ],
            "image/png": "[encoded data removed]"
          },
          "metadata": {
            "needs_background": "light"
          }
        }
      ]
    },
    {
      "cell_type": "markdown",
      "metadata": {
        "id": "mhhXW9eC5Wy9"
      },
      "source": [
        "## Extra Resources  (please ignore)"
      ]
    },
    {
      "cell_type": "code",
      "source": [
        ""
      ],
      "metadata": {
        "id": "wM0TNu0a7QMr"
      },
      "execution_count": 87,
      "outputs": []
    },
    {
      "cell_type": "code",
      "source": [
        "          # losses = []\n",
        "          # allActions = []\n",
        "          # allRewards = []\n",
        "          # allDones = []\n",
        "          # for sample in expSamples:\n",
        "          #     currentState, action, reward, newState, done = sample.experience\n",
        "          #     allCStates.append(currentState)\n",
        "          #     # allActions.append(action)\n",
        "          #     # allRewards.append(reward)\n",
        "          #     allNewStates.append(newState)\n",
        "          #     # allDones.append(done)\n",
        "\n",
        "          #states = np.squeeze(allCStates)\n",
        "          #nextStates = np.squeeze(allNewStates)"
      ],
      "metadata": {
        "id": "kNXSrUgc7QFK"
      },
      "execution_count": 88,
      "outputs": []
    },
    {
      "cell_type": "markdown",
      "metadata": {
        "id": "UlAWAgKZmSaP"
      },
      "source": [
        "#### graph: Memory vs Algo"
      ]
    },
    {
      "cell_type": "code",
      "source": [
        "  #inputs = keras.Input(shape=inputShape)\n",
        "  # op_l1 = Dense(24, activation= 'relu')(inputs)\n",
        "  # op_l2 = Dense(48, activation= 'relu')(op_l1)\n",
        "  # op_l3 = Dense(24, activation= 'relu')(op_l2)\n",
        "  # outputs = Dense(testingEnv.action_space.n, activation= 'relu')(op_l3)\n",
        "  # model = keras.Model(inputs=inputs, outputs=outputs)\n",
        "  #model.add(keras.layers.Input(shape=inputShape))"
      ],
      "metadata": {
        "id": "LsqtDAPVU6kD"
      },
      "execution_count": 89,
      "outputs": []
    },
    {
      "cell_type": "code",
      "source": [
        "  # model = keras.Sequential() \n",
        "  # #   24: Number of neurons, input_dim: Number of input variables, activation: Rectified Linear Unit (relu) ranges >= 0\n",
        "  # model.add(keras.layers.Dense(24, input_dim=self.numStates, activation='relu')) #[Input] -> Layer 1\n",
        "  # model.add(keras.layers.Dense(24, activation='relu')) #Layer 2 -> 3\n",
        "  # model.add(keras.layers.Dense(self.nA, activation='linear')) #Layer 3 -> [output]\n",
        "  # model.compile(loss='mean_squared_error', \n",
        "  #               optimizer= Adam(learningRate)) "
      ],
      "metadata": {
        "id": "707wPqd6iq1T"
      },
      "execution_count": 90,
      "outputs": []
    },
    {
      "cell_type": "code",
      "source": [
        "  # inputShape = testingEnv.observation_space.shape[0]\n",
        "\n",
        "        # inputs = keras.Input(shape=inputShape)\n",
        "        # op_l1 = Dense(24, activation= 'relu')(inputs)\n",
        "        # op_l2 = Dense(48, activation= 'relu')(op_l1)\n",
        "        # op_l3 = Dense(24, activation= 'relu')(op_l2)\n",
        "        # outputs = Dense(testingEnv.action_space.n, activation= 'relu')(op_l3)\n",
        "        # model = keras.Model(inputs=inputs, outputs=outputs)\n",
        "        # #model.add(keras.layers.Input(inputShape))\n",
        "        # # model.add()   #layer 1\n",
        "        # # model.add()\n",
        "        # # model.add()\n",
        "        # #model.add(Dense(testingEnv.action_space.n))\n",
        "        # model.compile(optimizer= Adam(learning_rate=learningRate), loss= MeanSquaredError)\n",
        "        "
      ],
      "metadata": {
        "id": "LgG8r7PVVOux"
      },
      "execution_count": 91,
      "outputs": []
    },
    {
      "cell_type": "code",
      "execution_count": 92,
      "metadata": {
        "id": "uB2Kj6OvpaPG"
      },
      "outputs": [],
      "source": [
        "def neuralNetwork():\n",
        "  model = Sequential()\n",
        "  inputShape = 8\n",
        "  model.add(Dense(28, input_dim = inputShape, activation=\"relu\", name=\"l1\"))\n",
        "  model.add(Dense(28, activation=\"relu\", name=\"l2\"))\n",
        "  #model.add(Dense(24, activation=\"relu\"))\n",
        "  model.add(Dense(testingEnv.action_space.n, activation=\"linear\"))  # output layer\n",
        "  model.compile(loss='mse', optimizer=Adam(lr=learningRate))\n",
        "  return model"
      ]
    },
    {
      "cell_type": "markdown",
      "metadata": {
        "id": "uAx8RSsAmSaJ"
      },
      "source": [
        "### Cartpole"
      ]
    },
    {
      "cell_type": "code",
      "execution_count": 93,
      "metadata": {
        "id": "5QZYkrlxmSaJ"
      },
      "outputs": [],
      "source": [
        "#testModel(testingEnv)"
      ]
    },
    {
      "cell_type": "markdown",
      "metadata": {
        "id": "jp9UDyhp8u7x"
      },
      "source": [
        "https://www.reddit.com/r/reinforcementlearning/comments/tda0p0/openai_gym_lunar_lander_v2_question/"
      ]
    },
    {
      "cell_type": "markdown",
      "metadata": {
        "id": "Ui1-s1Yp5_fP"
      },
      "source": [
        "### using function approximation\n",
        "\n",
        "https://www.reddit.com/r/reinforcementlearning/comments/hvg35k/solving_lunarlander_with_linear_function/\n",
        "\n",
        "\n"
      ]
    }
  ],
  "metadata": {
    "colab": {
      "collapsed_sections": [
        "uAx8RSsAmSaJ"
      ],
      "name": "Distributed AI Final Project RL for Lunar Landing.ipynb",
      "provenance": [],
      "toc_visible": true,
      "include_colab_link": true
    },
    "interpreter": {
      "hash": "cc8863194be94df6e9f82dd3c0db99fc687dba8823e01872905153a9d61d6a1b"
    },
    "kernelspec": {
      "display_name": "Python 3.8.8 ('base')",
      "language": "python",
      "name": "python3"
    },
    "language_info": {
      "codemirror_mode": {
        "name": "ipython",
        "version": 3
      },
      "file_extension": ".py",
      "mimetype": "text/x-python",
      "name": "python",
      "nbconvert_exporter": "python",
      "pygments_lexer": "ipython3",
      "version": "3.8.8"
    },
    "accelerator": "GPU"
  },
  "nbformat": 4,
  "nbformat_minor": 0
}