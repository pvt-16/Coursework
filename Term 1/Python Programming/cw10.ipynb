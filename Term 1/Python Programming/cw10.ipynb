{
 "cells": [
  {
   "cell_type": "markdown",
   "source": [
    "# Lab Notes"
   ],
   "metadata": {
    "collapsed": false,
    "pycharm": {
     "name": "#%% md\n"
    }
   }
  },
  {
   "cell_type": "markdown",
   "source": [
    "[Decision Tree discussion]\n",
    "\n",
    "**Greedy Algorithm** - Considers best solution to immediate situation, regardless of future steps.\n",
    "\n"
   ],
   "metadata": {
    "collapsed": false
   }
  },
  {
   "cell_type": "markdown",
   "metadata": {
    "collapsed": true,
    "pycharm": {
     "name": "#%% md\n"
    }
   },
   "source": [
    "# Logistic Regression"
   ]
  },
  {
   "cell_type": "code",
   "execution_count": 3,
   "outputs": [],
   "source": [
    "import math\n",
    "import random\n",
    "\n",
    "random.seed(0)\n",
    "\n",
    "\n",
    "def printRounded(my_list):\n",
    "    print(\"[\", end=\"\")\n",
    "    for i in range(len(my_list) - 1):\n",
    "        print(str(round(my_list[i], 7)), end=\", \")\n",
    "    print(str(round(my_list[-1], 7)), end=\"]\\n\")\n",
    "\n",
    "\n",
    "class LogisticRegression:\n",
    "    def __init__(self, alpha=0.15):  # Initialise our values\n",
    "        self.alpha = alpha  # The learning rate\n",
    "        self.beta = [0.1, 0.1, 0.1]  # Our coefficients\n",
    "\n",
    "    def train(self, dataset, labels, n=200):  # Find useful coefficients\n",
    "        dataset_tmp, labels_tmp = dataset.copy(), labels.copy()  # So input variables are not affected\n",
    "        mse_list = []  # To be populated & returned at end\n",
    "        for epoch in range(n):  # For each epoch\n",
    "            rand_state = random.getstate()  # Prepare to rollback random state\n",
    "            random.shuffle(dataset_tmp)  # Shuffle the data as required\n",
    "            random.setstate(rand_state)  # Rollback random state\n",
    "            random.shuffle(labels_tmp)  # Shuffle the labels the same way as the data\n",
    "            epoch_mse = 0  # Initialise our MSE at 0\n",
    "            for i in range(len(dataset_tmp)):  # Iterate through observations\n",
    "                tmp_x = [1] + dataset_tmp[i]  # Account for our intercept\n",
    "                sigma = self._sigma(dataset_tmp[i])  # Find predicted probability of label 1\n",
    "                for j in range(len(self.beta)):  # Iterate through, and update, coefficients\n",
    "                    self.beta[j] -= self.alpha * (sigma - labels_tmp[i]) * sigma * (1 - sigma) * tmp_x[j]\n",
    "                    sigma = self._sigma(dataset_tmp[i])  # Update sigma\n",
    "            for i in range(len(dataset_tmp)):  # Construct the epoch's MSE\n",
    "                epoch_mse += ((self._sigma(dataset_tmp[i]) - labels_tmp[i]) ** 2) / len(dataset_tmp)\n",
    "            mse_list.append(epoch_mse)  # Add the MSE to our list\n",
    "        return mse_list\n",
    "\n",
    "    def classify(self, dataset, threshold):\n",
    "        preds = [0 for _ in dataset]  # Predict label 0 if the condition is not met\n",
    "        for i in range(len(dataset)):\n",
    "            if self._sigma(dataset[i]) > threshold:  # If P(label 1) exceeds the threshold, predict label 1 instead\n",
    "                preds[i] = 1\n",
    "        return preds\n",
    "\n",
    "    def _sigma(self, x):  # Find the probability of label 1 for observation x given our coefficients (beta)\n",
    "        tmp_x = [1] + x\n",
    "        t = 0\n",
    "        for i in range(len(tmp_x)):\n",
    "            t += self.beta[i] * tmp_x[i]\n",
    "        return 1 / (1 + math.exp(-t))"
   ],
   "metadata": {
    "collapsed": false,
    "pycharm": {
     "name": "#%%\n"
    }
   }
  },
  {
   "cell_type": "code",
   "execution_count": 5,
   "outputs": [
    {
     "name": "stdout",
     "output_type": "stream",
     "text": [
      "[0, 0, 1, 1, 1, 1, 1, 1, 1]\n",
      "[0.228085, 0.2215818, 0.2164686, 0.2109587, 0.2070173, 0.2010904, 0.1964541, 0.1914877, 0.1871268, 0.1831346, 0.1786313, 0.1750682, 0.1722096, 0.1681779, 0.1651492, 0.1611823, 0.1583065, 0.1552173, 0.1553858, 0.1514838]\n"
     ]
    },
    {
     "data": {
      "text/plain": "<Figure size 432x288 with 1 Axes>",
      "image/png": "[encoded data removed]"
     },
     "metadata": {
      "needs_background": "light"
     },
     "output_type": "display_data"
    }
   ],
   "source": [
    "import matplotlib.pyplot as plt\n",
    "dataset = [[0, 0], [1, 0], [2, 1], [1, 2], [3, 1], [4, 1], [5, 2], [3, 3], [2, 5]]\n",
    "labels = [0, 0, 0, 0, 0, 1, 1, 1, 1]\n",
    "random.seed(0)\n",
    "\n",
    "lr = LogisticRegression()\n",
    "\n",
    "MSEList = lr.train(dataset, labels, 20)\n",
    "\n",
    "predictedLabels = lr.classify(dataset, 0.5)\n",
    "print(predictedLabels)\n",
    "printRounded(MSEList)\n",
    "plt.plot(MSEList)\n",
    "plt.show()"
   ],
   "metadata": {
    "collapsed": false,
    "pycharm": {
     "name": "#%%\n"
    }
   }
  },
  {
   "cell_type": "code",
   "execution_count": null,
   "outputs": [],
   "source": [
    "import matplotlib.pyplot as plt"
   ],
   "metadata": {
    "collapsed": false,
    "pycharm": {
     "name": "#%%\n"
    }
   }
  }
 ],
 "metadata": {
  "kernelspec": {
   "display_name": "Python 3",
   "language": "python",
   "name": "python3"
  },
  "language_info": {
   "codemirror_mode": {
    "name": "ipython",
    "version": 2
   },
   "file_extension": ".py",
   "mimetype": "text/x-python",
   "name": "python",
   "nbconvert_exporter": "python",
   "pygments_lexer": "ipython2",
   "version": "2.7.6"
  }
 },
 "nbformat": 4,
 "nbformat_minor": 0
}