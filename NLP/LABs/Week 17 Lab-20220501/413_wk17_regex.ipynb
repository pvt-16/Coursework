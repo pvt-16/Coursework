{
  "cells": [
    {
      "cell_type": "markdown",
      "metadata": {
        "id": "xhT0C64ka9HV"
      },
      "source": [
        "# SCC.413 Applied Data Mining\n",
        "# Week 17\n",
        "# Regular Expressions in Python"
      ]
    },
    {
      "cell_type": "markdown",
      "metadata": {
        "id": "_PSm3TGaa9HY"
      },
      "source": [
        "## Contents\n",
        "- [Introduction](#intro)\n",
        "- [Compiling](#compiling)\n",
        "- [Matching and searching](#matching)\n",
        "- [Search and replace](#replace)\n",
        "- [Splitting](#split)\n",
        "- [Unicode and regex](#unicode)\n",
        "    - [Emoji](#emoji)"
      ]
    },
    {
      "cell_type": "markdown",
      "metadata": {
        "id": "yeuCHvTta9HZ"
      },
      "source": [
        "<a name=\"intro\"></a>\n",
        "## Introduction\n",
        "\n",
        "Before completing this workbook, you should consult the slides and webpage on regular expressions. This workbook will show you how to use regular expressions within Python. First we will use Python's default `re` package to show basic functionality. Further on, we will use the `regex` package, which allows us to deal with Unicode more easily.\n",
        "\n",
        "We import `re` below, and setup a string which we'll use as our target string, to perform regular expression matches and searches upon."
      ]
    },
    {
      "cell_type": "code",
      "execution_count": null,
      "metadata": {
        "id": "huiiKqERa9Hb"
      },
      "outputs": [],
      "source": [
        "import re\n",
        "\n",
        "some_text = \"This is some text that needs processing. #regex #fun\"\n",
        "\n",
        "print(some_text)"
      ]
    },
    {
      "cell_type": "markdown",
      "metadata": {
        "id": "5VHjXFOOa9He"
      },
      "source": [
        "<a name=\"compiling\"></a>\n",
        "## Compiling regular expressions\n",
        "\n",
        "In Python, regular expressions are made in to Pattern objects to complete regex operations (searching, replacing, etc.). Compiling a regex once (e.g. outside of a loop) is good practice for the sake of efficiency.\n",
        "\n",
        "We use `r` to denote a \"raw string\" when creating regex patterns, this is to avoid having to keep escaping backslashes, and makes the patterns easier to read and write.\n",
        "\n",
        "There are also various flags that can be set during compilation: https://docs.python.org/3/howto/regex.html#compilation-flags. For example, re.IGNORECASE can be used to make the pattern case-insensitive.\n",
        "\n",
        "Two regex patterns are created below, one to find basic words, the other to find @mentions or #hashtags. Check your understanding of the patterns, and what you expect them to match."
      ]
    },
    {
      "cell_type": "code",
      "execution_count": null,
      "metadata": {
        "id": "9sUHC49_a9Hf"
      },
      "outputs": [],
      "source": [
        "word_regex = re.compile(r\"[a-z]+\", re.IGNORECASE)\n",
        "ht_at_regex = re.compile(r\"([@#])\\w+\")"
      ]
    },
    {
      "cell_type": "markdown",
      "metadata": {
        "id": "0p_pY5oJa9Hg"
      },
      "source": [
        "<a name=\"matching\"></a>\n",
        "## Matching and searching"
      ]
    },
    {
      "cell_type": "markdown",
      "metadata": {
        "id": "4lWfVlmea9Hh"
      },
      "source": [
        "Now we have some patterns, we can perform various operations. `match()` is the most basic, which will check if the regex matches from the start of the string, e.g. if we match on our some_text."
      ]
    },
    {
      "cell_type": "code",
      "execution_count": null,
      "metadata": {
        "id": "SiZkylHba9Hi"
      },
      "outputs": [],
      "source": [
        "match = word_regex.match(some_text)"
      ]
    },
    {
      "cell_type": "markdown",
      "metadata": {
        "id": "_Gi8CyUra9Hi"
      },
      "source": [
        "We have the first word returned in a match object. There are several functions available, such as:"
      ]
    },
    {
      "cell_type": "code",
      "execution_count": null,
      "metadata": {
        "id": "2MEaiBBra9Hj"
      },
      "outputs": [],
      "source": [
        "print(match.group()) #return the string matched\n",
        "print(match.start()) #start position in the string of the match\n",
        "print(match.end()) #end position in the string of the match\n",
        "print(match.span()) #tuple with start and end positions"
      ]
    },
    {
      "cell_type": "markdown",
      "metadata": {
        "id": "nnIm4tQda9Hj"
      },
      "source": [
        "The match has to be at index 0 of the string, so the other regex will not find a match:"
      ]
    },
    {
      "cell_type": "code",
      "execution_count": null,
      "metadata": {
        "id": "HQN2P5Wca9Hk"
      },
      "outputs": [],
      "source": [
        "no_match = ht_at_regex.match(some_text)\n",
        "print(no_match)"
      ]
    },
    {
      "cell_type": "markdown",
      "metadata": {
        "id": "czxBSBAoa9Hl"
      },
      "source": [
        "If we want to check if a regex matches, we normally do something like this (switch to the word_regex to see this working):"
      ]
    },
    {
      "cell_type": "code",
      "execution_count": null,
      "metadata": {
        "id": "hiCuiZdKa9Hl"
      },
      "outputs": [],
      "source": [
        "m = ht_at_regex.match(some_text)\n",
        "if m:\n",
        "    print(\"Match: \", m.group(), m.span())\n",
        "else:\n",
        "    print(\"No match found\")"
      ]
    },
    {
      "cell_type": "markdown",
      "metadata": {
        "id": "hD5uISGSa9Hm"
      },
      "source": [
        "The `search()` function does the same as `match()`, except it will scan through the string to find the first match, e.g.:"
      ]
    },
    {
      "cell_type": "code",
      "execution_count": null,
      "metadata": {
        "id": "RIgUK0Lta9Hn"
      },
      "outputs": [],
      "source": [
        "m = ht_at_regex.search(some_text)\n",
        "if m:\n",
        "    print(\"Match: \", m.group(), m.span())\n",
        "else:\n",
        "    print(\"No match found\")"
      ]
    },
    {
      "cell_type": "markdown",
      "metadata": {
        "id": "KqtpCEXYa9Ho"
      },
      "source": [
        "`findall()` will return a list of matching strings (not match objects), given a pattern and a string to search, e.g.: (note, this is basic tokenisation)"
      ]
    },
    {
      "cell_type": "code",
      "execution_count": null,
      "metadata": {
        "id": "6jmd-AF8a9Ho"
      },
      "outputs": [],
      "source": [
        "matches = word_regex.findall(some_text)\n",
        "print(matches)"
      ]
    },
    {
      "cell_type": "markdown",
      "metadata": {
        "id": "6c4PbvUxa9Hp"
      },
      "source": [
        "Note that if grouping `()` is included in the regex (as with our hashtag regex), then `findall()` returns just the group matches, not the full match. Use `finditer()` instead to get the whole match object."
      ]
    },
    {
      "cell_type": "code",
      "execution_count": null,
      "metadata": {
        "id": "QJMM9wMGa9Hp"
      },
      "outputs": [],
      "source": [
        "matches = ht_at_regex.findall(some_text)\n",
        "print(matches)"
      ]
    },
    {
      "cell_type": "code",
      "execution_count": null,
      "metadata": {
        "id": "Gi6VoB1ta9Hq"
      },
      "outputs": [],
      "source": [
        "matches = ht_at_regex.finditer(some_text)\n",
        "for match in matches:\n",
        "    print(match.group())"
      ]
    },
    {
      "cell_type": "markdown",
      "metadata": {
        "id": "Qr93EjAha9Hr"
      },
      "source": [
        "The `group()` function on a match allows you to access captured group matches, e.g.:"
      ]
    },
    {
      "cell_type": "code",
      "execution_count": null,
      "metadata": {
        "id": "ogL72AXSa9Hs"
      },
      "outputs": [],
      "source": [
        "match = ht_at_regex.search(some_text)\n",
        "print(match)"
      ]
    },
    {
      "cell_type": "code",
      "execution_count": null,
      "metadata": {
        "id": "3LIAFoX7a9Ht"
      },
      "outputs": [],
      "source": [
        "print(match.group(0))"
      ]
    },
    {
      "cell_type": "code",
      "execution_count": null,
      "metadata": {
        "id": "lQOSfHsga9Hu"
      },
      "outputs": [],
      "source": [
        "print(match.group(1))"
      ]
    },
    {
      "cell_type": "markdown",
      "metadata": {
        "id": "P_yY7OiWa9Hu"
      },
      "source": [
        "**Task**: write some code to iterate through the word_regex matches, printing the matching token and its location in the text."
      ]
    },
    {
      "cell_type": "code",
      "execution_count": null,
      "metadata": {
        "id": "J8DR2Ljaa9Hv"
      },
      "outputs": [],
      "source": [
        "# Answer\n",
        "\n"
      ]
    },
    {
      "cell_type": "markdown",
      "metadata": {
        "id": "jyx6mNCKa9Hv"
      },
      "source": [
        "<a name=\"replace\"></a>\n",
        "## Search and replace\n",
        "\n",
        "You can use the same regular expressions to replace matches, using the `sub()` function:"
      ]
    },
    {
      "cell_type": "code",
      "execution_count": null,
      "metadata": {
        "id": "55eX4hyOa9Hw"
      },
      "outputs": [],
      "source": [
        "replaced = word_regex.sub(\"word\", some_text)\n",
        "print(replaced)"
      ]
    },
    {
      "cell_type": "markdown",
      "metadata": {
        "id": "PhGPMWBma9Hx"
      },
      "source": [
        "`subn()` provides the replaced string, along with the number of replacements made:"
      ]
    },
    {
      "cell_type": "code",
      "execution_count": null,
      "metadata": {
        "id": "N4yy7qgKa9Hx"
      },
      "outputs": [],
      "source": [
        "replaced = word_regex.subn(\"word\", some_text)\n",
        "print(replaced)"
      ]
    },
    {
      "cell_type": "markdown",
      "metadata": {
        "id": "-Cl1rpUfa9Hy"
      },
      "source": [
        "The original string can be included in the replacement using a call to the group match, as below (you will see annotation/tagging like this):"
      ]
    },
    {
      "cell_type": "code",
      "execution_count": null,
      "metadata": {
        "id": "PoGiRYPHa9Hy"
      },
      "outputs": [],
      "source": [
        "tagged = word_regex.sub(\"\\g<0>_word\", some_text)\n",
        "print(tagged)"
      ]
    },
    {
      "cell_type": "markdown",
      "metadata": {
        "id": "oZJrOGELa9Hz"
      },
      "source": [
        "You can also pass a function to do whatever you like with the match, the below reverses each match."
      ]
    },
    {
      "cell_type": "code",
      "execution_count": null,
      "metadata": {
        "id": "kVfIGwbEa9H0"
      },
      "outputs": [],
      "source": [
        "def reverse(match):\n",
        "    return match.group()[::-1]\n",
        "\n",
        "reversed = word_regex.sub(reverse, some_text)\n",
        "print(reversed)"
      ]
    },
    {
      "cell_type": "markdown",
      "metadata": {
        "id": "MHt1Htx-a9H0"
      },
      "source": [
        "**Task**: Write some code that will replace the hashtags in the text with \"#hashtag\". Think about how to do this if the text contained #hashtags and @mentions:"
      ]
    },
    {
      "cell_type": "code",
      "execution_count": null,
      "metadata": {
        "id": "0GDmsYzGa9H1"
      },
      "outputs": [],
      "source": [
        "# answer \n"
      ]
    },
    {
      "cell_type": "markdown",
      "metadata": {
        "id": "62AvaR0Aa9H2"
      },
      "source": [
        "<a name=\"split\"></a>\n",
        "## Splitting"
      ]
    },
    {
      "cell_type": "markdown",
      "metadata": {
        "id": "z4dTlNrAa9H3"
      },
      "source": [
        "`split()` finds all matches, and returns the surrounding text. Using this with our word regex, we find the surrounding non-words:"
      ]
    },
    {
      "cell_type": "code",
      "execution_count": null,
      "metadata": {
        "id": "MhVIMDG6a9H3"
      },
      "outputs": [],
      "source": [
        "split = word_regex.split(some_text)\n",
        "print(split)"
      ]
    },
    {
      "cell_type": "markdown",
      "metadata": {
        "id": "XG5iMlZKa9H4"
      },
      "source": [
        "A whitespace tokeniser (i.e. that finds all text separated by spaces) could look like this:"
      ]
    },
    {
      "cell_type": "code",
      "execution_count": null,
      "metadata": {
        "id": "SlORGl-Da9H4"
      },
      "outputs": [],
      "source": [
        "whitespace_regex = re.compile(r\"\\s+\")\n",
        "split = whitespace_regex.split(some_text)\n",
        "print(split)"
      ]
    },
    {
      "cell_type": "markdown",
      "metadata": {
        "id": "CBE5kX8xa9H5"
      },
      "source": [
        "**Task**: Write some code that will split on all non-word characters, i.e. will not include punctuation and hashtags in the returned list of tokens:"
      ]
    },
    {
      "cell_type": "code",
      "execution_count": null,
      "metadata": {
        "id": "LJfcp9pWa9H6"
      },
      "outputs": [],
      "source": [
        "# answer\n",
        "\n"
      ]
    },
    {
      "cell_type": "markdown",
      "metadata": {
        "id": "jm9XsrSba9H6"
      },
      "source": [
        "<a name=\"unicode\"></a>\n",
        "## Unicode and regex\n",
        "Python's re module is Unicode aware, but limited."
      ]
    },
    {
      "cell_type": "code",
      "execution_count": null,
      "metadata": {
        "id": "vxOocHwga9H7"
      },
      "outputs": [],
      "source": [
        "new_text = \"The café served pizzas with jalapeños\"\n",
        "word_regex = re.compile(r\"\\w+\")\n",
        "word_regex.findall(new_text)"
      ]
    },
    {
      "cell_type": "markdown",
      "metadata": {
        "id": "p85Qg2_pa9H8"
      },
      "source": [
        "é and ñ are included in the \\w character set as part of Python's Unicode awareness, i.e. they are treated as letters.\n",
        "\n",
        "To see the impact of this not being included, we can set a compilation flag to force the regex engine to not do full Unicode matches, and instead treat as ASCII:"
      ]
    },
    {
      "cell_type": "code",
      "execution_count": null,
      "metadata": {
        "id": "A0V7mDOVa9H9"
      },
      "outputs": [],
      "source": [
        "ascii_word_regex = re.compile(r\"\\w+\", re.ASCII)\n",
        "ascii_word_regex.findall(new_text)"
      ]
    },
    {
      "cell_type": "markdown",
      "metadata": {
        "id": "-r-95BiUa9H9"
      },
      "source": [
        "Check your understanding of why *jalape* and *os* are separate matches."
      ]
    },
    {
      "cell_type": "markdown",
      "metadata": {
        "id": "dOXbMQQTa9H-"
      },
      "source": [
        "Many other options are available for regular expressions with unicode: https://www.regular-expressions.info/unicode.html, but most options aren't available with Python's standard re module: https://www.regular-expressions.info/refunicode.html, especially character classes with Unicode character sets."
      ]
    },
    {
      "cell_type": "markdown",
      "metadata": {
        "id": "Trw67G8Aa9H_"
      },
      "source": [
        "Fortunately, another regex library is available: https://pypi.org/project/regex/. This is backwards-compatible with re (so you can use the same functions), but offers lots more functionality.\n",
        "\n",
        "We import the regex package below, and use this as re, and get the same results."
      ]
    },
    {
      "cell_type": "code",
      "execution_count": null,
      "metadata": {
        "id": "CM26vdroa9H_"
      },
      "outputs": [],
      "source": [
        "import regex\n",
        "word_regex = regex.compile(r\"\\w+\")\n",
        "word_regex.findall(new_text)"
      ]
    },
    {
      "cell_type": "markdown",
      "metadata": {
        "id": "Fv1a3gO4a9IA"
      },
      "source": [
        "We now have access to Unicode [character sets](https://www.regular-expressions.info/unicode.html), for example the below uses the `\\p{L}` character set, which is all letters in any script:"
      ]
    },
    {
      "cell_type": "code",
      "execution_count": null,
      "metadata": {
        "scrolled": true,
        "id": "mWmAh8iPa9IA"
      },
      "outputs": [],
      "source": [
        "letters_regex = regex.compile(r\"\\p{L}+\")\n",
        "letters_regex.findall(new_text)"
      ]
    },
    {
      "cell_type": "markdown",
      "metadata": {
        "id": "bZVwMUvia9IB"
      },
      "source": [
        "A problem occurs though with *combining markers*, which are not part of the letters character set. An ñ can also be written as two *codepoints*, to create one *grapheme* (displayed character). Here the tilde (\\u0303) is added to the preceding character (n)."
      ]
    },
    {
      "cell_type": "code",
      "execution_count": null,
      "metadata": {
        "id": "f--gZ9Vda9IB"
      },
      "outputs": [],
      "source": [
        "combined_text = \"The café served pizzas with jalapen\\u0303os\"\n",
        "print(combined_text, len(combined_text))\n",
        "print(new_text, len(new_text))"
      ]
    },
    {
      "cell_type": "markdown",
      "metadata": {
        "id": "3i2NcTPRa9IB"
      },
      "source": [
        "Note the text is displayed exactly the same as the previous text, but is actually one character longer (`len` counts codepoints)."
      ]
    },
    {
      "cell_type": "code",
      "execution_count": null,
      "metadata": {
        "id": "HWB17MVIa9IC"
      },
      "outputs": [],
      "source": [
        "letters_regex.findall(combined_text)"
      ]
    },
    {
      "cell_type": "markdown",
      "metadata": {
        "id": "5Ln814kEa9IC"
      },
      "source": [
        "Now the n is part of the previous word, but the ~ is not recognised as a letter, so the next match starts (*os*)."
      ]
    },
    {
      "cell_type": "markdown",
      "metadata": {
        "id": "M0GaRRLea9ID"
      },
      "source": [
        "There is a special character set for these combining marks:"
      ]
    },
    {
      "cell_type": "code",
      "execution_count": null,
      "metadata": {
        "id": "XsqUpEpaa9ID"
      },
      "outputs": [],
      "source": [
        "combiner_regex = regex.compile(r\"\\p{M}+\")"
      ]
    },
    {
      "cell_type": "code",
      "execution_count": null,
      "metadata": {
        "id": "5nB317cDa9IE"
      },
      "outputs": [],
      "source": [
        "combiner_regex.findall(combined_text)"
      ]
    },
    {
      "cell_type": "markdown",
      "metadata": {
        "id": "NHwzPNoga9IE"
      },
      "source": [
        "Note this is printed horribly, as the ~ is combined with the previous character, which here is an apostrophe."
      ]
    },
    {
      "cell_type": "markdown",
      "metadata": {
        "id": "g2jgvOvba9IE"
      },
      "source": [
        "We can search for letters with optional combining marks as letters, with the regex pattern below."
      ]
    },
    {
      "cell_type": "code",
      "execution_count": null,
      "metadata": {
        "id": "k3yULOVIa9IF"
      },
      "outputs": [],
      "source": [
        "letters_combiners_regex = regex.compile(r\"(?:\\p{L}\\p{M}*)+\")\n",
        "letters_combiners_regex.findall(combined_text)"
      ]
    },
    {
      "cell_type": "markdown",
      "metadata": {
        "id": "1g_JsWKaa9IG"
      },
      "source": [
        "Check your understanding of this pattern. `(?: )` is a non-capturing group, i.e. the group is used but not captured as part of the match, this allows to find multiple letters with `+`. We include 0 or more (`*`) combining characters, as it is possible to have multiple marks on the same letter, e.g.:"
      ]
    },
    {
      "cell_type": "code",
      "execution_count": null,
      "metadata": {
        "id": "F_r2p9dua9IG"
      },
      "outputs": [],
      "source": [
        "print(\"o\\u0308\\u0337\")"
      ]
    },
    {
      "cell_type": "markdown",
      "source": [
        "This may not display as one character on some browsers (e.g. Safari), though it seems to display okay on Google Chrome. This is a font display issue."
      ],
      "metadata": {
        "id": "C_Iw4-ugyU31"
      }
    },
    {
      "cell_type": "markdown",
      "metadata": {
        "id": "aLJTHBAQa9IH"
      },
      "source": [
        "<a name=\"emoji\"></a>\n",
        "### Emoji\n",
        "Lots and lots available: http://www.unicode.org/emoji/charts/full-emoji-list.html\n",
        "\n",
        "We can represent these as codepoints, or with the unicode character directly:"
      ]
    },
    {
      "cell_type": "code",
      "execution_count": null,
      "metadata": {
        "id": "oqPs4umLa9IH"
      },
      "outputs": [],
      "source": [
        "print(\"\\U0001F643\\U0001F596\")\n",
        "print(\"🙃🖖\")"
      ]
    },
    {
      "cell_type": "markdown",
      "metadata": {
        "id": "C8R8ReaZa9II"
      },
      "source": [
        "Emojis have their own combining markers, e.g. we can represent skintones (note, [not all will combine](https://www.unicode.org/emoji/charts/full-emoji-modifiers.html)):"
      ]
    },
    {
      "cell_type": "code",
      "execution_count": null,
      "metadata": {
        "id": "t3mRT9-Ia9IJ"
      },
      "outputs": [],
      "source": [
        "print(\"\\U0001F596\\U0001F3FE\")\n",
        "print(\"🖖\\U0001F3FD🖖\\U0001F3FC🖖\\U0001F3FB\")\n",
        "print(\"🙃\\U0001F3FE\")"
      ]
    },
    {
      "cell_type": "markdown",
      "metadata": {
        "id": "2CC7ERPma9IK"
      },
      "source": [
        "The \\u200D ([zero-width-joiner, ZWJ](https://blog.emojipedia.org/emoji-zwj-sequences-three-letters-many-possibilities/)) allows for multiple emojis to be combined into one."
      ]
    },
    {
      "cell_type": "code",
      "execution_count": null,
      "metadata": {
        "id": "Prqa8gifa9IL"
      },
      "outputs": [],
      "source": [
        "print(\"\\U0001F469\") #a woman\n",
        "print(\"\\U0001F680\") #a rocket\n",
        "print(\"\\U0001F469\\u200D\\U0001F680\") #put them together, a woman astronaut."
      ]
    },
    {
      "cell_type": "markdown",
      "metadata": {
        "id": "bO2Uathha9IN"
      },
      "source": [
        "For some emoji, a special codepoint is required [\"variation selector-16\"](https://unicode-table.com/en/FE0F/), to indicate to display as emoji. The fonts installed on your system will dictate how the below are displayed, some require the `\\uFE0F`, whilst others do not, whilst some will not display as an emoji regardless. The important point is to be aware that `\\uFE0F` might be used optionally in some emojis."
      ]
    },
    {
      "cell_type": "code",
      "execution_count": null,
      "metadata": {
        "id": "ITNaO5W3a9IO"
      },
      "outputs": [],
      "source": [
        "print(\"\\u2600\")\n",
        "print(\"\\u2600\\uFE0F\")\n",
        "print(\"\\u2639\")\n",
        "print(\"\\u2639\\uFE0F\")"
      ]
    },
    {
      "cell_type": "markdown",
      "metadata": {
        "id": "1oNXZeSea9IP"
      },
      "source": [
        "If we have a string with emoji in it, these will consist of different numbers of codepoints, depending on how many combining markers there are, and various zero-width special characters.\n",
        "\n",
        "The emoji will be displayed as single characters/graphemes, but underlying are multiple codepoints, these are seen when listing the string (codepoints are displayed), and the length indicates this."
      ]
    },
    {
      "cell_type": "code",
      "execution_count": null,
      "metadata": {
        "id": "ZoQhkzoXa9IQ"
      },
      "outputs": [],
      "source": [
        "emoji = \"🙃🖖🖖🏽🖖🏼🖖🏻👩\\u200D🚀\\u2639\\uFE0F\\U0001F468\\u200D\\U0001F469\\u200D\\U0001F467\\u200D\\U0001F466\"\n",
        "print(emoji)\n",
        "print(list(emoji))\n",
        "print(len(emoji))"
      ]
    },
    {
      "cell_type": "markdown",
      "metadata": {
        "id": "H9tPTGdya9IS"
      },
      "source": [
        "We can use the special regex `\\X`, which is the Unicode version of `.`, and will match any **grapheme** regardless as the number of codepoints that make it up."
      ]
    },
    {
      "cell_type": "code",
      "execution_count": null,
      "metadata": {
        "id": "78LKzO5aa9IT"
      },
      "outputs": [],
      "source": [
        "grapheme_regex = regex.compile(r\"\\X\")\n",
        "graphemes = grapheme_regex.findall(emoji)"
      ]
    },
    {
      "cell_type": "markdown",
      "metadata": {
        "id": "YQC_5twua9IT"
      },
      "source": [
        "(if we print the list of matches, some are not displayed properly, this is a fault in the way lists are displayed.)"
      ]
    },
    {
      "cell_type": "code",
      "execution_count": null,
      "metadata": {
        "id": "7cetMZsXa9IU"
      },
      "outputs": [],
      "source": [
        "print(graphemes)"
      ]
    },
    {
      "cell_type": "markdown",
      "metadata": {
        "id": "dXnxzdWYa9IV"
      },
      "source": [
        "Printing each grapheme in turn, shows us the correct matches are made."
      ]
    },
    {
      "cell_type": "code",
      "execution_count": null,
      "metadata": {
        "id": "yEv0BWUYa9IV"
      },
      "outputs": [],
      "source": [
        "print(len(graphemes))\n",
        "for grapheme in graphemes:\n",
        "    print(grapheme)"
      ]
    },
    {
      "cell_type": "markdown",
      "metadata": {
        "id": "3-k-ft6sa9IX"
      },
      "source": [
        "More Unicode fun:\n",
        "\n",
        "- https://norasandler.com/2017/11/02/Around-the-with-Unicode.html\n",
        "- https://blog.jonnew.com/posts/poo-dot-length-equals-two\n",
        "- https://pypi.org/project/emoji/"
      ]
    }
  ],
  "metadata": {
    "kernelspec": {
      "display_name": "Python 3",
      "language": "python",
      "name": "python3"
    },
    "language_info": {
      "codemirror_mode": {
        "name": "ipython",
        "version": 3
      },
      "file_extension": ".py",
      "mimetype": "text/x-python",
      "name": "python",
      "nbconvert_exporter": "python",
      "pygments_lexer": "ipython3",
      "version": "3.7.2"
    },
    "colab": {
      "name": "413-wk17-regex.ipynb",
      "provenance": [],
      "collapsed_sections": []
    }
  },
  "nbformat": 4,
  "nbformat_minor": 0
}