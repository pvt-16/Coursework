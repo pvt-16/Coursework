{
  "cells": [
    {
      "cell_type": "markdown",
      "metadata": {
        "id": "8ff6YhH2QjfY"
      },
      "source": [
        "# SCC.413 Applied Data Mining\n",
        "# Week 18\n",
        "# Feature Extraction\n",
        "# Answers"
      ]
    },
    {
      "cell_type": "markdown",
      "metadata": {
        "id": "tv1cIjIPQjfe"
      },
      "source": [
        "## Contents\n",
        "* [Introduction](#intro)\n",
        "* [Preamble](#preamble)\n",
        "* [Bag of Words](#bow)\n",
        "    - [Filtered List](#filtered)\n",
        "    - [Word N-grams](#wordn)\n",
        "* [Characters](#chars)\n",
        "    - [Char N-grams](#charn)\n",
        "* [Annotation](#ann)\n",
        "* [Other features](#other)\n",
        "* [Documents](#docs)\n",
        "* [Corpus analysis](#corpus)\n",
        "* [TF-IDF](#tfidf)\n",
        "* [Exercise](#ex)"
      ]
    },
    {
      "cell_type": "markdown",
      "metadata": {
        "id": "_ZaZjHUWQjfg"
      },
      "source": [
        "<a name=\"intro\"></a>\n",
        "## Introduction\n",
        "\n",
        "In previous weeks we have collected data, preprocessed and cleaned it, and tokenised the text into meaningful units (\"words\"). Now with usable text and a token list, in this lab we will look to extract features by counting occurrences of different elements, and calculating other features over the text, tokens, and other features.\n",
        "\n",
        "A range of features will be looked at here, that can be used for a variety of analyses, however there are many other feature that can be extracted (see lecture slides and reading list). You should keep under consideration how preprocessing and tokenisation (your pipeline) can impact the features extracted."
      ]
    },
    {
      "cell_type": "markdown",
      "metadata": {
        "id": "WKcxCEnWQjfg"
      },
      "source": [
        "<a name=\"preamble\"></a>\n",
        "## Preamble"
      ]
    },
    {
      "cell_type": "markdown",
      "source": [
        "You should upload all of the provided files to a Google Drive folder, you can then access these files from your Python code. See also the files tab."
      ],
      "metadata": {
        "id": "tS7ckSyCBCoA"
      }
    },
    {
      "cell_type": "code",
      "source": [
        "from google.colab import drive\n",
        "drive.mount('/content/gdrive/')"
      ],
      "metadata": {
        "id": "ydCluoej2UY8",
        "colab": {
          "base_uri": "https://localhost:8080/"
        },
        "outputId": "4c83b9ab-3de0-4921-8cf5-99fb39e35f9f"
      },
      "execution_count": null,
      "outputs": [
        {
          "output_type": "stream",
          "name": "stdout",
          "text": [
            "Drive already mounted at /content/gdrive/; to attempt to forcibly remount, call drive.mount(\"/content/gdrive/\", force_remount=True).\n"
          ]
        }
      ]
    },
    {
      "cell_type": "markdown",
      "source": [
        "We save the folder we are working from as a variable for easy access. You may need to edit the path to match your own."
      ],
      "metadata": {
        "id": "trooi5ZMzSM0"
      }
    },
    {
      "cell_type": "code",
      "source": [
        "working_folder = '/content/gdrive/MyDrive/413/wk18/'"
      ],
      "metadata": {
        "id": "c1YsiHLvzKeW"
      },
      "execution_count": null,
      "outputs": []
    },
    {
      "cell_type": "markdown",
      "source": [
        "The below code adds the working folder to the system path, so you can import Python files from this folder."
      ],
      "metadata": {
        "id": "ktoDdLMkBVMX"
      }
    },
    {
      "cell_type": "code",
      "source": [
        "import sys\n",
        "sys.path.append(working_folder)"
      ],
      "metadata": {
        "id": "Cq_7TvOW34v5"
      },
      "execution_count": null,
      "outputs": []
    },
    {
      "cell_type": "markdown",
      "source": [
        "We can use code from last week to preprocess our text, a method is defined below to do some basic preprocessing, please check your understanding. You may see fit to edit the preprocessing to suit your needs later."
      ],
      "metadata": {
        "id": "yk7Hgn4cTIiL"
      }
    },
    {
      "cell_type": "code",
      "source": [
        "!pip install ftfy"
      ],
      "metadata": {
        "colab": {
          "base_uri": "https://localhost:8080/"
        },
        "id": "OeWhdio5RQ9B",
        "outputId": "f022c6da-b4f2-452d-ce6b-3d9123136969"
      },
      "execution_count": null,
      "outputs": [
        {
          "output_type": "stream",
          "name": "stdout",
          "text": [
            "Requirement already satisfied: ftfy in /usr/local/lib/python3.7/dist-packages (6.1.1)\n",
            "Requirement already satisfied: wcwidth>=0.2.5 in /usr/local/lib/python3.7/dist-packages (from ftfy) (0.2.5)\n"
          ]
        }
      ]
    },
    {
      "cell_type": "code",
      "execution_count": null,
      "metadata": {
        "id": "xFnSpQtjQjfh"
      },
      "outputs": [],
      "source": [
        "import ftfy\n",
        "import re\n",
        "\n",
        "hashtag_re = re.compile(r\"#\\w+\")\n",
        "mention_re = re.compile(r\"@\\w+\")\n",
        "url_re = re.compile(r\"(?:https?://)?(?:[-\\w]+\\.)+[a-zA-Z]{2,9}[-\\w/#~:;.?+=&%@~]*\")\n",
        "\n",
        "def preprocess(text):\n",
        "    p_text = hashtag_re.sub(\"[hashtag]\",text)\n",
        "    p_text = mention_re.sub(\"[mention]\",p_text)\n",
        "    p_text = url_re.sub(\"[url]\",p_text)\n",
        "    p_text = ftfy.fix_text(p_text)\n",
        "    return p_text"
      ]
    },
    {
      "cell_type": "markdown",
      "metadata": {
        "id": "30lc6YknQjfk"
      },
      "source": [
        "To demonstrate the feature extraction, we're going to start by working with a single tweet:"
      ]
    },
    {
      "cell_type": "code",
      "execution_count": null,
      "metadata": {
        "id": "ARWHw52oQjfl"
      },
      "outputs": [],
      "source": [
        "tweet = \"This week we’re at a #careers event in #Blackpool @Pleasure_Beach, talking to students about #languages and language careers! Come have a go at some of our activities! 🌏#LoveLanguages #LoveLancaster @Lancaster_CI https://t.co/vQQWdrUuqh\""
      ]
    },
    {
      "cell_type": "code",
      "execution_count": null,
      "metadata": {
        "colab": {
          "base_uri": "https://localhost:8080/"
        },
        "id": "03330lhiQjfm",
        "outputId": "1aab1cdf-6453-4812-b68f-7b9a66d3183e"
      },
      "outputs": [
        {
          "output_type": "stream",
          "name": "stdout",
          "text": [
            "This week we're at a [hashtag] event in [hashtag] [mention], talking to students about [hashtag] and language careers! Come have a go at some of our activities! 🌏[hashtag] [hashtag] [mention] [url]\n"
          ]
        }
      ],
      "source": [
        "p_tweet = preprocess(tweet)\n",
        "print(p_tweet)"
      ]
    },
    {
      "cell_type": "markdown",
      "metadata": {
        "id": "X7Vj6WHkQjfo"
      },
      "source": [
        "For tokenisation, we have a basic custom tokeniser. This is equivalent to the custom tokenisers created last week, but with a pre-compiled regular expression. Alternation is used to separate patterns. Again, you may see fit to edit to suit your needs later."
      ]
    },
    {
      "cell_type": "code",
      "execution_count": null,
      "metadata": {
        "id": "WWEO_oHeQjfo"
      },
      "outputs": [],
      "source": [
        "tokenise_re = re.compile(r\"(\\[[^\\]]+\\]|[-'\\w]+|[^\\s\\w\\[']+)\") #([]|words|other non-space)\n",
        "def custom_tokenise(text):\n",
        "    return tokenise_re.findall(text)"
      ]
    },
    {
      "cell_type": "markdown",
      "metadata": {
        "id": "1MxVJKX2Qjfp"
      },
      "source": [
        "Utility methods for displaying/saving tokens list. Can be used for any list."
      ]
    },
    {
      "cell_type": "code",
      "execution_count": null,
      "metadata": {
        "id": "P2XiFpKzQjfp"
      },
      "outputs": [],
      "source": [
        "def print_tokens(tokens):\n",
        "    for token in tokens: #iterate tokens and print one per line.\n",
        "        print(token)\n",
        "    print(f\"Total: {len(tokens)} tokens\")"
      ]
    },
    {
      "cell_type": "code",
      "execution_count": null,
      "metadata": {
        "id": "HBHI9YwGQjfq"
      },
      "outputs": [],
      "source": [
        "def save_tokens(tokens, outfile):\n",
        "    with open(outfile, 'w', encoding=\"utf-8\") as f:\n",
        "        for token in tokens: #iterate tokens and output to file.\n",
        "            f.write(token + '\\n')\n",
        "        f.write(f\"Total: {len(tokens)} tokens\")"
      ]
    },
    {
      "cell_type": "markdown",
      "metadata": {
        "id": "j-uTzuPgQjfr"
      },
      "source": [
        "<a name=\"bow\"></a>\n",
        "## Bag of words"
      ]
    },
    {
      "cell_type": "markdown",
      "metadata": {
        "id": "E6ch70XqQjfr"
      },
      "source": [
        "Probably the most common NLP feature set, traditionally, is the \"bag of words\". This is a count of each word in the text, disregarding context. Whilst limited, due to the lack of context, a simple bag of words can achieve reasonable results for simple classification tasks, and is often used as a baseline."
      ]
    },
    {
      "cell_type": "markdown",
      "metadata": {
        "id": "QGjuOJpMQjfs"
      },
      "source": [
        "First we need to tokenise the text. The tokenisation used will determine what is considered a \"word\", although post processing of the token list could be undertaken, e.g. to filter."
      ]
    },
    {
      "cell_type": "code",
      "execution_count": null,
      "metadata": {
        "scrolled": true,
        "id": "joXERV7YQjft"
      },
      "outputs": [],
      "source": [
        "tokens = custom_tokenise(p_tweet)"
      ]
    },
    {
      "cell_type": "code",
      "execution_count": null,
      "metadata": {
        "colab": {
          "base_uri": "https://localhost:8080/"
        },
        "id": "Ey9ixwQrQjft",
        "outputId": "b218dcdf-cd74-45b2-e862-52ae32b6ca43"
      },
      "outputs": [
        {
          "output_type": "stream",
          "name": "stdout",
          "text": [
            "This\n",
            "week\n",
            "we're\n",
            "at\n",
            "a\n",
            "[hashtag]\n",
            "event\n",
            "in\n",
            "[hashtag]\n",
            "[mention]\n",
            ",\n",
            "talking\n",
            "to\n",
            "students\n",
            "about\n",
            "[hashtag]\n",
            "and\n",
            "language\n",
            "careers\n",
            "!\n",
            "Come\n",
            "have\n",
            "a\n",
            "go\n",
            "at\n",
            "some\n",
            "of\n",
            "our\n",
            "activities\n",
            "!\n",
            "🌏\n",
            "[hashtag]\n",
            "[hashtag]\n",
            "[mention]\n",
            "[url]\n",
            "Total: 35 tokens\n"
          ]
        }
      ],
      "source": [
        "print_tokens(tokens)"
      ]
    },
    {
      "cell_type": "markdown",
      "metadata": {
        "id": "KWamUj10Qjfu"
      },
      "source": [
        "For simple bag of words, it often makes sense to make the token list all lowercase, so the same word with different casings are merged (e.g. if a word is at the beginning of a sentence)."
      ]
    },
    {
      "cell_type": "code",
      "execution_count": null,
      "metadata": {
        "colab": {
          "base_uri": "https://localhost:8080/"
        },
        "id": "xI4ucB5YQjfv",
        "outputId": "585eef26-0799-4b6e-d843-0ba566a6053a"
      },
      "outputs": [
        {
          "output_type": "stream",
          "name": "stdout",
          "text": [
            "this\n",
            "week\n",
            "we're\n",
            "at\n",
            "a\n",
            "[hashtag]\n",
            "event\n",
            "in\n",
            "[hashtag]\n",
            "[mention]\n",
            ",\n",
            "talking\n",
            "to\n",
            "students\n",
            "about\n",
            "[hashtag]\n",
            "and\n",
            "language\n",
            "careers\n",
            "!\n",
            "come\n",
            "have\n",
            "a\n",
            "go\n",
            "at\n",
            "some\n",
            "of\n",
            "our\n",
            "activities\n",
            "!\n",
            "🌏\n",
            "[hashtag]\n",
            "[hashtag]\n",
            "[mention]\n",
            "[url]\n",
            "Total: 35 tokens\n"
          ]
        }
      ],
      "source": [
        "lower_tokens = [t.lower() for t in tokens] #list comprehension\n",
        "print_tokens(lower_tokens)"
      ]
    },
    {
      "cell_type": "markdown",
      "metadata": {
        "id": "tpKAO6n8Qjfw"
      },
      "source": [
        "Note that Python's `lower()` method is Unicode aware, and will lowercase letters with diacritics and from non-Latin alphabets."
      ]
    },
    {
      "cell_type": "code",
      "execution_count": null,
      "metadata": {
        "colab": {
          "base_uri": "https://localhost:8080/",
          "height": 37
        },
        "id": "W5h4q7VeQjfx",
        "outputId": "8f3ba014-17d8-4b10-bf10-8b2b67b803ab"
      },
      "outputs": [
        {
          "output_type": "execute_result",
          "data": {
            "application/vnd.google.colaboratory.intrinsic+json": {
              "type": "string"
            },
            "text/plain": [
              "'åéîñçλф'"
            ]
          },
          "metadata": {},
          "execution_count": 14
        }
      ],
      "source": [
        "\"ÅÉÎÑÇΛФ\".lower()"
      ]
    },
    {
      "cell_type": "markdown",
      "metadata": {
        "id": "rRuqbtHbQjfy"
      },
      "source": [
        "To make a frequency list, we simply place the token list in a [`Counter`](https://docs.python.org/3.7/library/collections.html#counter-objects) object, which extends `dict`, mapping items to frequencies. [NLTK's FreqDist](http://www.nltk.org/_modules/nltk/probability.html#FreqDist), which extends `Counter`, could also be used."
      ]
    },
    {
      "cell_type": "code",
      "execution_count": null,
      "metadata": {
        "id": "sdj5qOcHQjfz"
      },
      "outputs": [],
      "source": [
        "from collections import Counter\n",
        "\n",
        "tokens_fql = Counter(lower_tokens)"
      ]
    },
    {
      "cell_type": "code",
      "execution_count": null,
      "metadata": {
        "colab": {
          "base_uri": "https://localhost:8080/"
        },
        "id": "lKZqDYcUQjfz",
        "outputId": "d18d1842-3bee-48cc-9a51-7fb9c3879b34"
      },
      "outputs": [
        {
          "output_type": "execute_result",
          "data": {
            "text/plain": [
              "[('[hashtag]', 5),\n",
              " ('at', 2),\n",
              " ('a', 2),\n",
              " ('[mention]', 2),\n",
              " ('!', 2),\n",
              " ('this', 1),\n",
              " ('week', 1),\n",
              " (\"we're\", 1),\n",
              " ('event', 1),\n",
              " ('in', 1),\n",
              " (',', 1),\n",
              " ('talking', 1),\n",
              " ('to', 1),\n",
              " ('students', 1),\n",
              " ('about', 1),\n",
              " ('and', 1),\n",
              " ('language', 1),\n",
              " ('careers', 1),\n",
              " ('come', 1),\n",
              " ('have', 1),\n",
              " ('go', 1),\n",
              " ('some', 1),\n",
              " ('of', 1),\n",
              " ('our', 1),\n",
              " ('activities', 1),\n",
              " ('🌏', 1),\n",
              " ('[url]', 1)]"
            ]
          },
          "metadata": {},
          "execution_count": 16
        }
      ],
      "source": [
        "tokens_fql.most_common() #displays frequency list in descending frequency order."
      ]
    },
    {
      "cell_type": "markdown",
      "metadata": {
        "id": "Mpg43RZUQjf0"
      },
      "source": [
        "<a name=\"filtered\"></a>\n",
        "### Filtered list"
      ]
    },
    {
      "cell_type": "markdown",
      "metadata": {
        "id": "3_TGztpmQjf1"
      },
      "source": [
        "At some point we will need to filter the bag of words, e.g. to some top-500 or top-1000 words, as it rarely makes sense to have a feature vector containing all words.\n",
        "\n",
        "The method below uses word frequencies to create a new frequency list containing all in the predefined lists. Including 0s for words not found (dense vector). The vector can be made sparse (remove 0s) with `+counter`."
      ]
    },
    {
      "cell_type": "code",
      "execution_count": null,
      "metadata": {
        "id": "WZA8UG_sQjf1"
      },
      "outputs": [],
      "source": [
        "def filter_fql(fql, predefined_list):\n",
        "    return Counter({t: fql[t] for t in predefined_list}) #dict comprehension, t: fql[t] is token: freq."
      ]
    },
    {
      "cell_type": "markdown",
      "metadata": {
        "id": "j2UM25jcQjf2"
      },
      "source": [
        "A common feature set (especially for authorship analysis) is function words (aka stop words). Here we use the function word list taken from https://ieeexplore.ieee.org/abstract/document/6234420."
      ]
    },
    {
      "cell_type": "code",
      "execution_count": null,
      "metadata": {
        "id": "LpIja_AjQjf3"
      },
      "outputs": [],
      "source": [
        "def read_list(file):\n",
        "    with open(file) as f:\n",
        "        items = []\n",
        "        lines = f.readlines()\n",
        "        for line in lines:\n",
        "            items.append(line.strip())\n",
        "    return items"
      ]
    },
    {
      "cell_type": "code",
      "execution_count": null,
      "metadata": {
        "id": "WuPH-P_tQjf3"
      },
      "outputs": [],
      "source": [
        "fws = read_list(working_folder + \"functionwords.txt\")"
      ]
    },
    {
      "cell_type": "code",
      "execution_count": null,
      "metadata": {
        "colab": {
          "base_uri": "https://localhost:8080/"
        },
        "id": "ABJ7zHKGQjf4",
        "outputId": "3a897f1c-ecbb-4dd1-c333-85d7708cfc53"
      },
      "outputs": [
        {
          "output_type": "execute_result",
          "data": {
            "text/plain": [
              "[('a', 2),\n",
              " ('at', 2),\n",
              " ('about', 1),\n",
              " ('and', 1),\n",
              " ('have', 1),\n",
              " ('in', 1),\n",
              " ('of', 1),\n",
              " ('our', 1),\n",
              " ('some', 1),\n",
              " ('this', 1),\n",
              " ('to', 1),\n",
              " ('able', 0),\n",
              " ('aboard', 0),\n",
              " ('above', 0),\n",
              " ('absent', 0),\n",
              " ('according', 0),\n",
              " ('accordingly', 0),\n",
              " ('across', 0),\n",
              " ('after', 0),\n",
              " ('against', 0),\n",
              " ('ahead', 0),\n",
              " ('albeit', 0),\n",
              " ('all', 0),\n",
              " ('along', 0),\n",
              " ('alongside', 0),\n",
              " ('although', 0),\n",
              " ('am', 0),\n",
              " ('amid', 0),\n",
              " ('amidst', 0),\n",
              " ('among', 0),\n",
              " ('amongst', 0),\n",
              " ('amount', 0),\n",
              " ('an', 0),\n",
              " ('another', 0),\n",
              " ('anti', 0),\n",
              " ('any', 0),\n",
              " ('anybody', 0),\n",
              " ('anyone', 0),\n",
              " ('anything', 0),\n",
              " ('are', 0),\n",
              " ('around', 0),\n",
              " ('as', 0),\n",
              " ('aside', 0),\n",
              " ('astraddle', 0),\n",
              " ('astride', 0),\n",
              " ('away', 0),\n",
              " ('bar', 0),\n",
              " ('barring', 0),\n",
              " ('be', 0),\n",
              " ('because', 0),\n",
              " ('been', 0),\n",
              " ('before', 0),\n",
              " ('behind', 0),\n",
              " ('being', 0),\n",
              " ('below', 0),\n",
              " ('beneath', 0),\n",
              " ('beside', 0),\n",
              " ('besides', 0),\n",
              " ('better', 0),\n",
              " ('between', 0),\n",
              " ('beyond', 0),\n",
              " ('bit', 0),\n",
              " ('both', 0),\n",
              " ('but', 0),\n",
              " ('by', 0),\n",
              " ('can', 0),\n",
              " ('certain', 0),\n",
              " ('circa', 0),\n",
              " ('close', 0),\n",
              " ('concerning', 0),\n",
              " ('consequently', 0),\n",
              " ('considering', 0),\n",
              " ('could', 0),\n",
              " ('couple', 0),\n",
              " ('dare', 0),\n",
              " ('deal', 0),\n",
              " ('despite', 0),\n",
              " ('down', 0),\n",
              " ('due', 0),\n",
              " ('during', 0),\n",
              " ('each', 0),\n",
              " ('eight', 0),\n",
              " ('eighth', 0),\n",
              " ('either', 0),\n",
              " ('enough', 0),\n",
              " ('every', 0),\n",
              " ('everybody', 0),\n",
              " ('everyone', 0),\n",
              " ('everything', 0),\n",
              " ('except', 0),\n",
              " ('excepting', 0),\n",
              " ('excluding', 0),\n",
              " ('failing', 0),\n",
              " ('few', 0),\n",
              " ('fewer', 0),\n",
              " ('fifth', 0),\n",
              " ('first', 0),\n",
              " ('five', 0),\n",
              " ('following', 0),\n",
              " ('for', 0),\n",
              " ('four', 0),\n",
              " ('fourth', 0),\n",
              " ('from', 0),\n",
              " ('front', 0),\n",
              " ('given', 0),\n",
              " ('good', 0),\n",
              " ('great', 0),\n",
              " ('had', 0),\n",
              " ('half', 0),\n",
              " ('he', 0),\n",
              " ('heaps', 0),\n",
              " ('hence', 0),\n",
              " ('her', 0),\n",
              " ('hers', 0),\n",
              " ('herself', 0),\n",
              " ('him', 0),\n",
              " ('himself', 0),\n",
              " ('his', 0),\n",
              " ('however', 0),\n",
              " ('i', 0),\n",
              " ('if', 0),\n",
              " ('including', 0),\n",
              " ('inside', 0),\n",
              " ('instead', 0),\n",
              " ('into', 0),\n",
              " ('is', 0),\n",
              " ('it', 0),\n",
              " ('its', 0),\n",
              " ('itself', 0),\n",
              " ('keeping', 0),\n",
              " ('lack', 0),\n",
              " ('less', 0),\n",
              " ('like', 0),\n",
              " ('little', 0),\n",
              " ('loads', 0),\n",
              " ('lots', 0),\n",
              " ('majority', 0),\n",
              " ('many', 0),\n",
              " ('masses', 0),\n",
              " ('may', 0),\n",
              " ('me', 0),\n",
              " ('might', 0),\n",
              " ('mine', 0),\n",
              " ('minority', 0),\n",
              " ('minus', 0),\n",
              " ('more', 0),\n",
              " ('most', 0),\n",
              " ('much', 0),\n",
              " ('must', 0),\n",
              " ('my', 0),\n",
              " ('myself', 0),\n",
              " ('near', 0),\n",
              " ('need', 0),\n",
              " ('neither', 0),\n",
              " ('nevertheless', 0),\n",
              " ('next', 0),\n",
              " ('nine', 0),\n",
              " ('ninth', 0),\n",
              " ('no', 0),\n",
              " ('nobody', 0),\n",
              " ('none', 0),\n",
              " ('nor', 0),\n",
              " ('nothing', 0),\n",
              " ('notwithstanding', 0),\n",
              " ('number', 0),\n",
              " ('numbers', 0),\n",
              " ('off', 0),\n",
              " ('on', 0),\n",
              " ('once', 0),\n",
              " ('one', 0),\n",
              " ('onto', 0),\n",
              " ('opposite', 0),\n",
              " ('or', 0),\n",
              " ('other', 0),\n",
              " ('ought', 0),\n",
              " ('ours', 0),\n",
              " ('ourselves', 0),\n",
              " ('out', 0),\n",
              " ('outside', 0),\n",
              " ('over', 0),\n",
              " ('part', 0),\n",
              " ('past', 0),\n",
              " ('pending', 0),\n",
              " ('per', 0),\n",
              " ('pertaining', 0),\n",
              " ('place', 0),\n",
              " ('plenty', 0),\n",
              " ('plethora', 0),\n",
              " ('plus', 0),\n",
              " ('quantities', 0),\n",
              " ('quantity', 0),\n",
              " ('quarter', 0),\n",
              " ('regarding', 0),\n",
              " ('remainder', 0),\n",
              " ('respecting', 0),\n",
              " ('rest', 0),\n",
              " ('round', 0),\n",
              " ('save', 0),\n",
              " ('saving', 0),\n",
              " ('second', 0),\n",
              " ('seven', 0),\n",
              " ('seventh', 0),\n",
              " ('several', 0),\n",
              " ('shall', 0),\n",
              " ('she', 0),\n",
              " ('should', 0),\n",
              " ('similar', 0),\n",
              " ('since', 0),\n",
              " ('six', 0),\n",
              " ('sixth', 0),\n",
              " ('so', 0),\n",
              " ('somebody', 0),\n",
              " ('someone', 0),\n",
              " ('something', 0),\n",
              " ('spite', 0),\n",
              " ('such', 0),\n",
              " ('ten', 0),\n",
              " ('tenth', 0),\n",
              " ('than', 0),\n",
              " ('thanks', 0),\n",
              " ('that', 0),\n",
              " ('the', 0),\n",
              " ('their', 0),\n",
              " ('theirs', 0),\n",
              " ('them', 0),\n",
              " ('themselves', 0),\n",
              " ('then', 0),\n",
              " ('thence', 0),\n",
              " ('therefore', 0),\n",
              " ('these', 0),\n",
              " ('they', 0),\n",
              " ('third', 0),\n",
              " ('those', 0),\n",
              " ('though', 0),\n",
              " ('three', 0),\n",
              " ('through', 0),\n",
              " ('throughout', 0),\n",
              " ('thru', 0),\n",
              " ('thus', 0),\n",
              " ('till', 0),\n",
              " ('time', 0),\n",
              " ('tons', 0),\n",
              " ('top', 0),\n",
              " ('toward', 0),\n",
              " ('towards', 0),\n",
              " ('two', 0),\n",
              " ('under', 0),\n",
              " ('underneath', 0),\n",
              " ('unless', 0),\n",
              " ('unlike', 0),\n",
              " ('until', 0),\n",
              " ('unto', 0),\n",
              " ('up', 0),\n",
              " ('upon', 0),\n",
              " ('us', 0),\n",
              " ('used', 0),\n",
              " ('various', 0),\n",
              " ('versus', 0),\n",
              " ('via', 0),\n",
              " ('view', 0),\n",
              " ('wanting', 0),\n",
              " ('was', 0),\n",
              " ('we', 0),\n",
              " ('were', 0),\n",
              " ('what', 0),\n",
              " ('whatever', 0),\n",
              " ('when', 0),\n",
              " ('whenever', 0),\n",
              " ('where', 0),\n",
              " ('whereas', 0),\n",
              " ('wherever', 0),\n",
              " ('whether', 0),\n",
              " ('which', 0),\n",
              " ('whichever', 0),\n",
              " ('while', 0),\n",
              " ('whilst', 0),\n",
              " ('who', 0),\n",
              " ('whoever', 0),\n",
              " ('whole', 0),\n",
              " ('whom', 0),\n",
              " ('whomever', 0),\n",
              " ('whose', 0),\n",
              " ('will', 0),\n",
              " ('with', 0),\n",
              " ('within', 0),\n",
              " ('without', 0),\n",
              " ('would', 0),\n",
              " ('yet', 0),\n",
              " ('you', 0),\n",
              " ('your', 0),\n",
              " ('yours', 0),\n",
              " ('yourself', 0),\n",
              " ('yourselves', 0)]"
            ]
          },
          "metadata": {},
          "execution_count": 20
        }
      ],
      "source": [
        "fws_fql = filter_fql(tokens_fql, fws)\n",
        "fws_fql.most_common()"
      ]
    },
    {
      "cell_type": "markdown",
      "metadata": {
        "id": "FGjrJeSRQjf5"
      },
      "source": [
        "Remove 0s, and make into sparse vector: "
      ]
    },
    {
      "cell_type": "code",
      "execution_count": null,
      "metadata": {
        "colab": {
          "base_uri": "https://localhost:8080/"
        },
        "id": "OozYLRcoQjf6",
        "outputId": "d0f26574-973d-4a13-d366-7bb57e50859a"
      },
      "outputs": [
        {
          "output_type": "execute_result",
          "data": {
            "text/plain": [
              "Counter({'a': 2,\n",
              "         'about': 1,\n",
              "         'and': 1,\n",
              "         'at': 2,\n",
              "         'have': 1,\n",
              "         'in': 1,\n",
              "         'of': 1,\n",
              "         'our': 1,\n",
              "         'some': 1,\n",
              "         'this': 1,\n",
              "         'to': 1})"
            ]
          },
          "metadata": {},
          "execution_count": 21
        }
      ],
      "source": [
        "+fws_fql"
      ]
    },
    {
      "cell_type": "markdown",
      "metadata": {
        "id": "CzRTFxN4Qjf7"
      },
      "source": [
        "Note you need to be careful that the tokenisation matches what is in the function word / stopword list.\n",
        "\n",
        "You could also use NLTK's stopword list."
      ]
    },
    {
      "cell_type": "code",
      "execution_count": null,
      "metadata": {
        "colab": {
          "base_uri": "https://localhost:8080/"
        },
        "id": "EtzG9U7EQjf8",
        "outputId": "cc6b7d80-15cf-4451-a33e-c42fda8ffcfd"
      },
      "outputs": [
        {
          "output_type": "stream",
          "name": "stdout",
          "text": [
            "[nltk_data] Downloading package stopwords to /root/nltk_data...\n",
            "[nltk_data]   Package stopwords is already up-to-date!\n",
            "['i', 'me', 'my', 'myself', 'we', 'our', 'ours', 'ourselves', 'you', \"you're\", \"you've\", \"you'll\", \"you'd\", 'your', 'yours', 'yourself', 'yourselves', 'he', 'him', 'his', 'himself', 'she', \"she's\", 'her', 'hers', 'herself', 'it', \"it's\", 'its', 'itself', 'they', 'them', 'their', 'theirs', 'themselves', 'what', 'which', 'who', 'whom', 'this', 'that', \"that'll\", 'these', 'those', 'am', 'is', 'are', 'was', 'were', 'be', 'been', 'being', 'have', 'has', 'had', 'having', 'do', 'does', 'did', 'doing', 'a', 'an', 'the', 'and', 'but', 'if', 'or', 'because', 'as', 'until', 'while', 'of', 'at', 'by', 'for', 'with', 'about', 'against', 'between', 'into', 'through', 'during', 'before', 'after', 'above', 'below', 'to', 'from', 'up', 'down', 'in', 'out', 'on', 'off', 'over', 'under', 'again', 'further', 'then', 'once', 'here', 'there', 'when', 'where', 'why', 'how', 'all', 'any', 'both', 'each', 'few', 'more', 'most', 'other', 'some', 'such', 'no', 'nor', 'not', 'only', 'own', 'same', 'so', 'than', 'too', 'very', 's', 't', 'can', 'will', 'just', 'don', \"don't\", 'should', \"should've\", 'now', 'd', 'll', 'm', 'o', 're', 've', 'y', 'ain', 'aren', \"aren't\", 'couldn', \"couldn't\", 'didn', \"didn't\", 'doesn', \"doesn't\", 'hadn', \"hadn't\", 'hasn', \"hasn't\", 'haven', \"haven't\", 'isn', \"isn't\", 'ma', 'mightn', \"mightn't\", 'mustn', \"mustn't\", 'needn', \"needn't\", 'shan', \"shan't\", 'shouldn', \"shouldn't\", 'wasn', \"wasn't\", 'weren', \"weren't\", 'won', \"won't\", 'wouldn', \"wouldn't\"]\n"
          ]
        }
      ],
      "source": [
        "import nltk\n",
        "from nltk.corpus import stopwords\n",
        "nltk.download('stopwords')\n",
        "stoplist = stopwords.words('english')\n",
        "print(stoplist)"
      ]
    },
    {
      "cell_type": "markdown",
      "metadata": {
        "id": "YZ_WpqjnQjf9"
      },
      "source": [
        "We can remove words from a list (e.g. a stopword list) by iterating the list of words in the frequency list to remove, and 'popping off' ([dict.pop(key,None)](https://docs.python.org/3/library/stdtypes.html?highlight=pop#dict.pop)) each word if present. "
      ]
    },
    {
      "cell_type": "code",
      "execution_count": null,
      "metadata": {
        "colab": {
          "base_uri": "https://localhost:8080/"
        },
        "id": "rBTW-vfrQjf-",
        "outputId": "f0d5558c-0ec3-4e88-ecc9-143d96a53bdf"
      },
      "outputs": [
        {
          "output_type": "stream",
          "name": "stdout",
          "text": [
            "Counter({'[hashtag]': 5, '[mention]': 2, '!': 2, 'week': 1, \"we're\": 1, 'event': 1, ',': 1, 'talking': 1, 'students': 1, 'language': 1, 'careers': 1, 'come': 1, 'go': 1, 'activities': 1, '🌏': 1, '[url]': 1})\n"
          ]
        }
      ],
      "source": [
        "def remove_list(fql, to_remove):\n",
        "    filtered = Counter(fql)\n",
        "    for r in to_remove:\n",
        "        filtered.pop(r,None)        \n",
        "    return filtered\n",
        "\n",
        "filtered = remove_list(tokens_fql, stoplist)\n",
        "print(filtered)"
      ]
    },
    {
      "cell_type": "markdown",
      "metadata": {
        "id": "aTMxCWUVQjgA"
      },
      "source": [
        "<a name=\"wordn\"></a>\n",
        "### Word n-grams"
      ]
    },
    {
      "cell_type": "markdown",
      "metadata": {
        "id": "J1Ky88EeQjgB"
      },
      "source": [
        "To get some context for words, we can use sequences of words instead of single words, these are known as word n-grams. bigrams (2-grams) and trigrams (3-grams) are popular. One issue with word n-grams is their sparsity. It's a good idea to reduce the size of the vocabulary as much as possible, e.g. digits and dates could be mapped to single tokens."
      ]
    },
    {
      "cell_type": "markdown",
      "metadata": {
        "id": "aOodIkNMQjgC"
      },
      "source": [
        "Whether a token appears at the start or end of the text (or could be sentence) can be useful, so we can introduce buffer markers at the start and end to indicate this.\n",
        "\n",
        "Note also that n-grams should be created with a sliding window over the text, i.e. the first word bigram is the first and second word, the second bigram is the second and third word.\n",
        "\n",
        "The method below is a generic method for turning a list of tokens into an n-gram list, adding the buffer characters either side, and moving a sliding window of size n across the text and providing a list of n-grams. Check your understanding of how this works."
      ]
    },
    {
      "cell_type": "code",
      "execution_count": null,
      "metadata": {
        "id": "dTBskh9_QjgC"
      },
      "outputs": [],
      "source": [
        "def ngrams(tokens, n, sep = \"_\", buffer=\"^\"):\n",
        "    buffered = [buffer] * (n-1) + tokens + [buffer] * (n-1) #add buffer either side to denote start and end\n",
        "    return [sep.join(buffered[i:i+n]) for i in range(len(buffered)-n+1)] #list comprehension creating merged string of n chars, with a window of n through string"
      ]
    },
    {
      "cell_type": "code",
      "execution_count": null,
      "metadata": {
        "id": "GjhDBCncQjgD"
      },
      "outputs": [],
      "source": [
        "word_bigrams = ngrams(lower_tokens,2)"
      ]
    },
    {
      "cell_type": "code",
      "execution_count": null,
      "metadata": {
        "colab": {
          "base_uri": "https://localhost:8080/"
        },
        "id": "Nccl3qA7QjgD",
        "outputId": "90af671c-531e-4707-8713-c44536319d13"
      },
      "outputs": [
        {
          "output_type": "execute_result",
          "data": {
            "text/plain": [
              "['^_this',\n",
              " 'this_week',\n",
              " \"week_we're\",\n",
              " \"we're_at\",\n",
              " 'at_a',\n",
              " 'a_[hashtag]',\n",
              " '[hashtag]_event',\n",
              " 'event_in',\n",
              " 'in_[hashtag]',\n",
              " '[hashtag]_[mention]',\n",
              " '[mention]_,',\n",
              " ',_talking',\n",
              " 'talking_to',\n",
              " 'to_students',\n",
              " 'students_about',\n",
              " 'about_[hashtag]',\n",
              " '[hashtag]_and',\n",
              " 'and_language',\n",
              " 'language_careers',\n",
              " 'careers_!',\n",
              " '!_come',\n",
              " 'come_have',\n",
              " 'have_a',\n",
              " 'a_go',\n",
              " 'go_at',\n",
              " 'at_some',\n",
              " 'some_of',\n",
              " 'of_our',\n",
              " 'our_activities',\n",
              " 'activities_!',\n",
              " '!_🌏',\n",
              " '🌏_[hashtag]',\n",
              " '[hashtag]_[hashtag]',\n",
              " '[hashtag]_[mention]',\n",
              " '[mention]_[url]',\n",
              " '[url]_^']"
            ]
          },
          "metadata": {},
          "execution_count": 26
        }
      ],
      "source": [
        "word_bigrams"
      ]
    },
    {
      "cell_type": "code",
      "execution_count": null,
      "metadata": {
        "colab": {
          "base_uri": "https://localhost:8080/"
        },
        "id": "wLxb6sFjQjgE",
        "outputId": "6cdac7c8-7ec9-419d-8285-3ad343f7e00f"
      },
      "outputs": [
        {
          "output_type": "execute_result",
          "data": {
            "text/plain": [
              "[('[hashtag]_[mention]', 2),\n",
              " ('^_this', 1),\n",
              " ('this_week', 1),\n",
              " (\"week_we're\", 1),\n",
              " (\"we're_at\", 1),\n",
              " ('at_a', 1),\n",
              " ('a_[hashtag]', 1),\n",
              " ('[hashtag]_event', 1),\n",
              " ('event_in', 1),\n",
              " ('in_[hashtag]', 1),\n",
              " ('[mention]_,', 1),\n",
              " (',_talking', 1),\n",
              " ('talking_to', 1),\n",
              " ('to_students', 1),\n",
              " ('students_about', 1),\n",
              " ('about_[hashtag]', 1),\n",
              " ('[hashtag]_and', 1),\n",
              " ('and_language', 1),\n",
              " ('language_careers', 1),\n",
              " ('careers_!', 1),\n",
              " ('!_come', 1),\n",
              " ('come_have', 1),\n",
              " ('have_a', 1),\n",
              " ('a_go', 1),\n",
              " ('go_at', 1),\n",
              " ('at_some', 1),\n",
              " ('some_of', 1),\n",
              " ('of_our', 1),\n",
              " ('our_activities', 1),\n",
              " ('activities_!', 1),\n",
              " ('!_🌏', 1),\n",
              " ('🌏_[hashtag]', 1),\n",
              " ('[hashtag]_[hashtag]', 1),\n",
              " ('[mention]_[url]', 1),\n",
              " ('[url]_^', 1)]"
            ]
          },
          "metadata": {},
          "execution_count": 27
        }
      ],
      "source": [
        "word_bigrams_fql = Counter(word_bigrams)\n",
        "word_bigrams_fql.most_common()"
      ]
    },
    {
      "cell_type": "markdown",
      "metadata": {
        "id": "s9H1mmEnQjgF"
      },
      "source": [
        "**Quick task:** Produce a frequency list of word trigrams."
      ]
    },
    {
      "cell_type": "code",
      "execution_count": null,
      "metadata": {
        "id": "dG_50c28QjgG"
      },
      "outputs": [],
      "source": [
        ""
      ]
    },
    {
      "cell_type": "markdown",
      "metadata": {
        "id": "1P0yaevAQjgG"
      },
      "source": [
        "<a name=\"chars\"></a>\n",
        "## Characters"
      ]
    },
    {
      "cell_type": "markdown",
      "metadata": {
        "id": "Qw44aB_jQjgG"
      },
      "source": [
        "Just looking at characters as features is a simple (yet often powerful) way of processing text."
      ]
    },
    {
      "cell_type": "code",
      "execution_count": null,
      "metadata": {
        "colab": {
          "base_uri": "https://localhost:8080/"
        },
        "id": "k5WFWqUeQjgH",
        "outputId": "9b6c08b5-3c79-49cc-c306-25fcc99aefaa"
      },
      "outputs": [
        {
          "output_type": "stream",
          "name": "stdout",
          "text": [
            "This week we’re at a #careers event in #Blackpool @Pleasure_Beach, talking to students about #languages and language careers! Come have a go at some of our activities! 🌏#LoveLanguages #LoveLancaster @Lancaster_CI https://t.co/vQQWdrUuqh\n"
          ]
        }
      ],
      "source": [
        "print(tweet)"
      ]
    },
    {
      "cell_type": "code",
      "execution_count": null,
      "metadata": {
        "colab": {
          "base_uri": "https://localhost:8080/"
        },
        "id": "e0eK7nHaQjgI",
        "outputId": "f58b39ef-0c8b-4640-db38-b560ce814434"
      },
      "outputs": [
        {
          "output_type": "stream",
          "name": "stdout",
          "text": [
            "This week we're at a [hashtag] event in [hashtag] [mention], talking to students about [hashtag] and language careers! Come have a go at some of our activities! 🌏[hashtag] [hashtag] [mention] [url]\n"
          ]
        }
      ],
      "source": [
        "print(p_tweet)"
      ]
    },
    {
      "cell_type": "markdown",
      "metadata": {
        "id": "GGmSUjNvQjgJ"
      },
      "source": [
        "We probably don't want the artificial hashtag, mention, and url markers, we could keep these as is, replace with single chars, or just remove them. Below we just remove them. We often have different pre-processing for different features."
      ]
    },
    {
      "cell_type": "code",
      "execution_count": null,
      "metadata": {
        "id": "-9YM-S9BQjgJ"
      },
      "outputs": [],
      "source": [
        "def preprocess_remove(text):\n",
        "    r_text = hashtag_re.sub(\"\",text)\n",
        "    r_text = mention_re.sub(\"\",r_text)\n",
        "    r_text = url_re.sub(\"\",r_text)\n",
        "    r_text = ftfy.fix_text(r_text)\n",
        "    return r_text"
      ]
    },
    {
      "cell_type": "code",
      "execution_count": null,
      "metadata": {
        "colab": {
          "base_uri": "https://localhost:8080/"
        },
        "id": "jBJBQGU9QjgJ",
        "outputId": "2231da62-767f-4df3-e7c3-3f3cf1aab7b7"
      },
      "outputs": [
        {
          "output_type": "stream",
          "name": "stdout",
          "text": [
            "This week we're at a  event in  , talking to students about  and language careers! Come have a go at some of our activities! 🌏   \n"
          ]
        }
      ],
      "source": [
        "r_tweet = preprocess_remove(tweet)\n",
        "print(r_tweet)"
      ]
    },
    {
      "cell_type": "markdown",
      "metadata": {
        "id": "-4UUid-gQjgK"
      },
      "source": [
        "Note, extra spaces are included now, how could you preprocess the text further to reduce multiple spaces to a single space?"
      ]
    },
    {
      "cell_type": "markdown",
      "metadata": {
        "id": "4jH3EdukQjgK"
      },
      "source": [
        "In Python a string is just a sequence (list) of characters, so we can just iterate through the characters as below:"
      ]
    },
    {
      "cell_type": "code",
      "execution_count": null,
      "metadata": {
        "colab": {
          "base_uri": "https://localhost:8080/"
        },
        "id": "_y4cYa31QjgK",
        "outputId": "2ab59451-78d7-4d36-d76b-3a20491d83a6"
      },
      "outputs": [
        {
          "output_type": "stream",
          "name": "stdout",
          "text": [
            "T\n",
            "h\n",
            "i\n",
            "s\n",
            " \n",
            "w\n",
            "e\n",
            "e\n",
            "k\n",
            " \n",
            "w\n",
            "e\n",
            "'\n",
            "r\n",
            "e\n",
            " \n",
            "a\n",
            "t\n",
            " \n",
            "a\n",
            " \n",
            " \n",
            "e\n",
            "v\n",
            "e\n",
            "n\n",
            "t\n",
            " \n",
            "i\n",
            "n\n",
            " \n",
            " \n",
            ",\n",
            " \n",
            "t\n",
            "a\n",
            "l\n",
            "k\n",
            "i\n",
            "n\n",
            "g\n",
            " \n",
            "t\n",
            "o\n",
            " \n",
            "s\n",
            "t\n",
            "u\n",
            "d\n",
            "e\n",
            "n\n",
            "t\n",
            "s\n",
            " \n",
            "a\n",
            "b\n",
            "o\n",
            "u\n",
            "t\n",
            " \n",
            " \n",
            "a\n",
            "n\n",
            "d\n",
            " \n",
            "l\n",
            "a\n",
            "n\n",
            "g\n",
            "u\n",
            "a\n",
            "g\n",
            "e\n",
            " \n",
            "c\n",
            "a\n",
            "r\n",
            "e\n",
            "e\n",
            "r\n",
            "s\n",
            "!\n",
            " \n",
            "C\n",
            "o\n",
            "m\n",
            "e\n",
            " \n",
            "h\n",
            "a\n",
            "v\n",
            "e\n",
            " \n",
            "a\n",
            " \n",
            "g\n",
            "o\n",
            " \n",
            "a\n",
            "t\n",
            " \n",
            "s\n",
            "o\n",
            "m\n",
            "e\n",
            " \n",
            "o\n",
            "f\n",
            " \n",
            "o\n",
            "u\n",
            "r\n",
            " \n",
            "a\n",
            "c\n",
            "t\n",
            "i\n",
            "v\n",
            "i\n",
            "t\n",
            "i\n",
            "e\n",
            "s\n",
            "!\n",
            " \n",
            "🌏\n",
            " \n",
            " \n",
            " \n"
          ]
        }
      ],
      "source": [
        "for char in r_tweet:\n",
        "    print(char)"
      ]
    },
    {
      "cell_type": "markdown",
      "metadata": {
        "id": "Kkg4KyRYQjgL"
      },
      "source": [
        "We can make this count the frequency of each character easily:"
      ]
    },
    {
      "cell_type": "code",
      "execution_count": null,
      "metadata": {
        "colab": {
          "base_uri": "https://localhost:8080/"
        },
        "id": "JrH2j0g-QjgL",
        "outputId": "d066be8d-9973-4319-d34f-eae9a13db15a"
      },
      "outputs": [
        {
          "output_type": "execute_result",
          "data": {
            "text/plain": [
              "[(' ', 30),\n",
              " ('e', 14),\n",
              " ('a', 12),\n",
              " ('t', 10),\n",
              " ('o', 7),\n",
              " ('i', 6),\n",
              " ('s', 6),\n",
              " ('n', 6),\n",
              " ('r', 4),\n",
              " ('g', 4),\n",
              " ('u', 4),\n",
              " ('v', 3),\n",
              " ('h', 2),\n",
              " ('w', 2),\n",
              " ('k', 2),\n",
              " ('l', 2),\n",
              " ('d', 2),\n",
              " ('c', 2),\n",
              " ('!', 2),\n",
              " ('m', 2),\n",
              " ('T', 1),\n",
              " (\"'\", 1),\n",
              " (',', 1),\n",
              " ('b', 1),\n",
              " ('C', 1),\n",
              " ('f', 1),\n",
              " ('🌏', 1)]"
            ]
          },
          "metadata": {},
          "execution_count": 33
        }
      ],
      "source": [
        "char_fql = Counter(r_tweet)\n",
        "char_fql.most_common()"
      ]
    },
    {
      "cell_type": "markdown",
      "metadata": {
        "id": "dXSfAeLXQjgM"
      },
      "source": [
        "This appears to work well, **but this should be used with caution**:"
      ]
    },
    {
      "cell_type": "code",
      "execution_count": null,
      "metadata": {
        "colab": {
          "base_uri": "https://localhost:8080/"
        },
        "id": "3uju_Kx_QjgM",
        "outputId": "8b7d3549-a662-49f9-8c25-aa7b03fd1102"
      },
      "outputs": [
        {
          "output_type": "stream",
          "name": "stdout",
          "text": [
            "Remember the spicy jalapeño\n"
          ]
        }
      ],
      "source": [
        "test = \"Remember the spicy jalapen\\u0303o\"\n",
        "print(test)"
      ]
    },
    {
      "cell_type": "code",
      "execution_count": null,
      "metadata": {
        "colab": {
          "base_uri": "https://localhost:8080/"
        },
        "id": "L7afuIsJQjgM",
        "outputId": "d1cb75f7-0fb4-4d24-ebd3-bde9fba074d2"
      },
      "outputs": [
        {
          "output_type": "stream",
          "name": "stdout",
          "text": [
            "0 R\n",
            "1 e\n",
            "2 m\n",
            "3 e\n",
            "4 m\n",
            "5 b\n",
            "6 e\n",
            "7 r\n",
            "8  \n",
            "9 t\n",
            "10 h\n",
            "11 e\n",
            "12  \n",
            "13 s\n",
            "14 p\n",
            "15 i\n",
            "16 c\n",
            "17 y\n",
            "18  \n",
            "19 j\n",
            "20 a\n",
            "21 l\n",
            "22 a\n",
            "23 p\n",
            "24 e\n",
            "25 n\n",
            "26 ̃\n",
            "27 o\n"
          ]
        }
      ],
      "source": [
        "for i, char in enumerate(test):\n",
        "    print(i,char)"
      ]
    },
    {
      "cell_type": "markdown",
      "metadata": {
        "id": "-0TLeC8EQjgO"
      },
      "source": [
        "Notice the  ̃ separated from the n because it is a separate codepoint (combining). It is placed over the space."
      ]
    },
    {
      "cell_type": "markdown",
      "metadata": {
        "id": "OsIMBihGQjgP"
      },
      "source": [
        "This looks even worse if we view the characters as a list:"
      ]
    },
    {
      "cell_type": "code",
      "execution_count": null,
      "metadata": {
        "colab": {
          "base_uri": "https://localhost:8080/"
        },
        "id": "4l8cHphiQjgP",
        "outputId": "7d1ee086-2bf5-47ff-fe99-7bd13f49fea0"
      },
      "outputs": [
        {
          "output_type": "stream",
          "name": "stdout",
          "text": [
            "['R', 'e', 'm', 'e', 'm', 'b', 'e', 'r', ' ', 't', 'h', 'e', ' ', 's', 'p', 'i', 'c', 'y', ' ', 'j', 'a', 'l', 'a', 'p', 'e', 'n', '̃', 'o']\n"
          ]
        }
      ],
      "source": [
        "print(list(test))"
      ]
    },
    {
      "cell_type": "markdown",
      "metadata": {
        "id": "e7JIA_HXQjgP"
      },
      "source": [
        "See the  ̃ over the single quote mark. Nasty! 🤢\n",
        "\n",
        "The combining codepoint combines with whatever the character before is, and in this case it's displayed as the quote mark."
      ]
    },
    {
      "cell_type": "markdown",
      "metadata": {
        "id": "-t6a6VFkQjgQ"
      },
      "source": [
        "We need to be careful how we define \"character\". In Python a 'character' is a single Unicode codepoint. When in reality, we should be looking for \"graphemes\", i.e. displayed single characters (which may be a cluster of codepoints): https://unicode.org/reports/tr29/#Grapheme_Cluster_Boundaries"
      ]
    },
    {
      "cell_type": "markdown",
      "metadata": {
        "id": "GvY87AzHQjgQ"
      },
      "source": [
        "As you saw last week, we can use regular expressions to find these graphemes, but Python's default regular expression library (re), whilst being Unicode aware, does not deal with Unicode particularly well. The [regex library](https://pypi.org/project/regex/) has better support, providing the use of unicode categories: https://www.regular-expressions.info/unicode.html, including `\\X` to match single graphemes."
      ]
    },
    {
      "cell_type": "code",
      "execution_count": null,
      "metadata": {
        "id": "nq2vXYhkQjgQ"
      },
      "outputs": [],
      "source": [
        "import regex\n",
        "char_regex = regex.compile(r'\\X')"
      ]
    },
    {
      "cell_type": "code",
      "execution_count": null,
      "metadata": {
        "colab": {
          "base_uri": "https://localhost:8080/"
        },
        "id": "1L6DGfZNQjgQ",
        "outputId": "d3189daf-c159-4f5b-8c5d-30fc5200adc0"
      },
      "outputs": [
        {
          "output_type": "stream",
          "name": "stdout",
          "text": [
            "['R', 'e', 'm', 'e', 'm', 'b', 'e', 'r', ' ', 't', 'h', 'e', ' ', 's', 'p', 'i', 'c', 'y', ' ', 'j', 'a', 'l', 'a', 'p', 'e', 'ñ', 'o']\n"
          ]
        }
      ],
      "source": [
        "chars = char_regex.findall(test)\n",
        "print(chars)"
      ]
    },
    {
      "cell_type": "markdown",
      "metadata": {
        "id": "ODXrJOj6QjgS"
      },
      "source": [
        "This nicely separates ñ as single \"character\". We can put this into a frequency list:"
      ]
    },
    {
      "cell_type": "code",
      "execution_count": null,
      "metadata": {
        "colab": {
          "base_uri": "https://localhost:8080/"
        },
        "id": "R6HKWWJiQjgS",
        "outputId": "ce37d356-eb99-454c-dbb4-d2b29d43ced9"
      },
      "outputs": [
        {
          "output_type": "execute_result",
          "data": {
            "text/plain": [
              "[('e', 5),\n",
              " (' ', 3),\n",
              " ('m', 2),\n",
              " ('p', 2),\n",
              " ('a', 2),\n",
              " ('R', 1),\n",
              " ('b', 1),\n",
              " ('r', 1),\n",
              " ('t', 1),\n",
              " ('h', 1),\n",
              " ('s', 1),\n",
              " ('i', 1),\n",
              " ('c', 1),\n",
              " ('y', 1),\n",
              " ('j', 1),\n",
              " ('l', 1),\n",
              " ('ñ', 1),\n",
              " ('o', 1)]"
            ]
          },
          "metadata": {},
          "execution_count": 39
        }
      ],
      "source": [
        "char_fql = Counter(chars)\n",
        "char_fql.most_common()"
      ]
    },
    {
      "cell_type": "markdown",
      "metadata": {
        "id": "8M3ha4BTQjgT"
      },
      "source": [
        "Even more \"fun\" can be had with emojis, which can contain numerous codepoints, particularly joined with zero-width-joiners: https://unicode.org/emoji/charts/emoji-zwj-sequences.html."
      ]
    },
    {
      "cell_type": "code",
      "execution_count": null,
      "metadata": {
        "id": "SwApTvn3QjgT"
      },
      "outputs": [],
      "source": [
        "emoji_test = \"This is one emoji: \\U0001F468\\u200D\\U0001F469\\u200D\\U0001F467\\u200D\\U0001F466\""
      ]
    },
    {
      "cell_type": "code",
      "execution_count": null,
      "metadata": {
        "colab": {
          "base_uri": "https://localhost:8080/"
        },
        "id": "oINHxHYoQjgT",
        "outputId": "256ace6d-8e41-4bc6-bc15-a74bc012d20b"
      },
      "outputs": [
        {
          "output_type": "stream",
          "name": "stdout",
          "text": [
            "This is one emoji: 👨‍👩‍👧‍👦\n"
          ]
        }
      ],
      "source": [
        "print(emoji_test)"
      ]
    },
    {
      "cell_type": "code",
      "execution_count": null,
      "metadata": {
        "id": "ywBBXcfcQjgU"
      },
      "outputs": [],
      "source": [
        "test_matches = char_regex.findall(emoji_test)"
      ]
    },
    {
      "cell_type": "code",
      "execution_count": null,
      "metadata": {
        "colab": {
          "base_uri": "https://localhost:8080/"
        },
        "id": "3SWX-1wuQjgU",
        "outputId": "45ed1dc1-3ad4-4d19-e23b-6c40de73e21e"
      },
      "outputs": [
        {
          "output_type": "stream",
          "name": "stdout",
          "text": [
            "T\n",
            "h\n",
            "i\n",
            "s\n",
            " \n",
            "i\n",
            "s\n",
            " \n",
            "o\n",
            "n\n",
            "e\n",
            " \n",
            "e\n",
            "m\n",
            "o\n",
            "j\n",
            "i\n",
            ":\n",
            " \n",
            "👨‍👩‍👧‍👦\n"
          ]
        }
      ],
      "source": [
        "for match in test_matches:\n",
        "    print(match)"
      ]
    },
    {
      "cell_type": "markdown",
      "metadata": {
        "id": "0nmWvWCuQjgV"
      },
      "source": [
        "Another library, [grapheme](https://pypi.org/project/grapheme/), also provides funtionality to deal with these graphemes like characters."
      ]
    },
    {
      "cell_type": "code",
      "source": [
        "!pip install grapheme"
      ],
      "metadata": {
        "colab": {
          "base_uri": "https://localhost:8080/"
        },
        "id": "O7TrnmVcVSxv",
        "outputId": "b2d3e394-0fee-4dc3-ab9e-bc2a893628eb"
      },
      "execution_count": null,
      "outputs": [
        {
          "output_type": "stream",
          "name": "stdout",
          "text": [
            "Requirement already satisfied: grapheme in /usr/local/lib/python3.7/dist-packages (0.6.0)\n"
          ]
        }
      ]
    },
    {
      "cell_type": "code",
      "execution_count": null,
      "metadata": {
        "id": "v-d5NMOeQjgV"
      },
      "outputs": [],
      "source": [
        "import grapheme"
      ]
    },
    {
      "cell_type": "code",
      "execution_count": null,
      "metadata": {
        "id": "voQifQxZQjgV"
      },
      "outputs": [],
      "source": [
        "graphemes = list(grapheme.graphemes(emoji_test))"
      ]
    },
    {
      "cell_type": "code",
      "execution_count": null,
      "metadata": {
        "colab": {
          "base_uri": "https://localhost:8080/"
        },
        "id": "45h0eDnFQjgV",
        "outputId": "bcd19753-02eb-4520-becb-e45efa0ed2d4"
      },
      "outputs": [
        {
          "output_type": "stream",
          "name": "stdout",
          "text": [
            "T\n",
            "h\n",
            "i\n",
            "s\n",
            " \n",
            "i\n",
            "s\n",
            " \n",
            "o\n",
            "n\n",
            "e\n",
            " \n",
            "e\n",
            "m\n",
            "o\n",
            "j\n",
            "i\n",
            ":\n",
            " \n",
            "👨‍👩‍👧‍👦\n"
          ]
        }
      ],
      "source": [
        "for g in graphemes:\n",
        "    print(g)"
      ]
    },
    {
      "cell_type": "code",
      "execution_count": null,
      "metadata": {
        "colab": {
          "base_uri": "https://localhost:8080/"
        },
        "id": "Mt68XKekQjgW",
        "outputId": "88ab86a1-5e16-47bf-a2c3-24abd5666aca"
      },
      "outputs": [
        {
          "output_type": "execute_result",
          "data": {
            "text/plain": [
              "[(' ', 4),\n",
              " ('i', 3),\n",
              " ('s', 2),\n",
              " ('o', 2),\n",
              " ('e', 2),\n",
              " ('T', 1),\n",
              " ('h', 1),\n",
              " ('n', 1),\n",
              " ('m', 1),\n",
              " ('j', 1),\n",
              " (':', 1),\n",
              " ('👨\\u200d👩\\u200d👧\\u200d👦', 1)]"
            ]
          },
          "metadata": {},
          "execution_count": 48
        }
      ],
      "source": [
        "char_fql = Counter(graphemes)\n",
        "char_fql.most_common()"
      ]
    },
    {
      "cell_type": "markdown",
      "metadata": {
        "id": "H4QX3phBQjgW"
      },
      "source": [
        "Note, when composite graphemes are printed in a list/tuple, they're expanded for some reason (if you know why, please tell me!). As can be seen, this is just a display issue:"
      ]
    },
    {
      "cell_type": "code",
      "execution_count": null,
      "metadata": {
        "colab": {
          "base_uri": "https://localhost:8080/"
        },
        "id": "AQuhifOqQjgX",
        "outputId": "0711248e-97c7-4df5-f0e1-abb644047e82"
      },
      "outputs": [
        {
          "output_type": "stream",
          "name": "stdout",
          "text": [
            " \t4\n",
            "i\t3\n",
            "s\t2\n",
            "o\t2\n",
            "e\t2\n",
            "T\t1\n",
            "h\t1\n",
            "n\t1\n",
            "m\t1\n",
            "j\t1\n",
            ":\t1\n",
            "👨‍👩‍👧‍👦\t1\n"
          ]
        }
      ],
      "source": [
        "for char in char_fql.most_common():\n",
        "    print(\"{}\\t{}\".format(char[0], char[1]))"
      ]
    },
    {
      "cell_type": "markdown",
      "metadata": {
        "id": "y5oC4qkPQjgX"
      },
      "source": [
        "<a name=\"charn\"></a>\n",
        "### Character n-grams\n",
        "\n",
        "We can also look at sequences of characters, though be aware that these will overlap with words and other features (double counting).\n",
        "\n",
        "You have everything you need to do this (remember the n-grams function is generic).\n",
        "\n",
        "**Task:** Produce character trigrams for the tweet. You don't need a separator for chars, so the first trigram should be '^^T'"
      ]
    },
    {
      "cell_type": "code",
      "execution_count": null,
      "metadata": {
        "id": "dj8mflZTQjgY"
      },
      "outputs": [],
      "source": [
        ""
      ]
    },
    {
      "cell_type": "markdown",
      "metadata": {
        "id": "Gyl_F-9tQjgY"
      },
      "source": [
        "<a name=\"ann\"></a>\n",
        "## Annotation"
      ]
    },
    {
      "cell_type": "markdown",
      "metadata": {
        "id": "JlInHCKIQjgY"
      },
      "source": [
        "As discussed in the lecture, various levels of annotation are available to add on top of the tokens. These are extra levels of information that can be used as features for various NLP tasks. Lemmatisation is one option available and straightforward to [implement with nltk](http://www.nltk.org/book/ch03.html#lemmatization).\n",
        "\n",
        "Part-of-speech (POS) tags are probably the most used form of annotation, certainly for classification tasks. NLTK provides a POS tagger using the standard [Penn Treebank POS tagset](https://www.ling.upenn.edu/courses/Fall_2003/ling001/penn_treebank_pos.html). Tokenised text can be POS tagged easily:"
      ]
    },
    {
      "cell_type": "code",
      "execution_count": null,
      "metadata": {
        "colab": {
          "base_uri": "https://localhost:8080/"
        },
        "id": "fA6wakviQjgZ",
        "outputId": "63e22cbf-e0cb-499a-a958-b8ae59fa810f"
      },
      "outputs": [
        {
          "output_type": "stream",
          "name": "stdout",
          "text": [
            "[nltk_data] Downloading package punkt to /root/nltk_data...\n",
            "[nltk_data]   Package punkt is already up-to-date!\n",
            "[nltk_data] Downloading package maxent_treebank_pos_tagger to\n",
            "[nltk_data]     /root/nltk_data...\n",
            "[nltk_data]   Package maxent_treebank_pos_tagger is already up-to-\n",
            "[nltk_data]       date!\n",
            "[nltk_data] Downloading package averaged_perceptron_tagger to\n",
            "[nltk_data]     /root/nltk_data...\n",
            "[nltk_data]   Package averaged_perceptron_tagger is already up-to-\n",
            "[nltk_data]       date!\n"
          ]
        },
        {
          "output_type": "execute_result",
          "data": {
            "text/plain": [
              "True"
            ]
          },
          "metadata": {},
          "execution_count": 50
        }
      ],
      "source": [
        "nltk.download('punkt')\n",
        "nltk.download('maxent_treebank_pos_tagger')\n",
        "nltk.download('averaged_perceptron_tagger') # check how uses penn and look at alternatives."
      ]
    },
    {
      "cell_type": "code",
      "execution_count": null,
      "metadata": {
        "colab": {
          "base_uri": "https://localhost:8080/"
        },
        "id": "pwoDUammQjgZ",
        "outputId": "c30e0b88-a0ab-4df5-a97c-dd80ad745348"
      },
      "outputs": [
        {
          "output_type": "execute_result",
          "data": {
            "text/plain": [
              "[('This', 'DT'),\n",
              " ('week', 'NN'),\n",
              " (\"we're\", 'NN'),\n",
              " ('at', 'IN'),\n",
              " ('a', 'DT'),\n",
              " ('[hashtag]', 'JJ'),\n",
              " ('event', 'NN'),\n",
              " ('in', 'IN'),\n",
              " ('[hashtag]', 'NNP'),\n",
              " ('[mention]', 'NNP'),\n",
              " (',', ','),\n",
              " ('talking', 'VBG'),\n",
              " ('to', 'TO'),\n",
              " ('students', 'NNS'),\n",
              " ('about', 'IN'),\n",
              " ('[hashtag]', 'NN'),\n",
              " ('and', 'CC'),\n",
              " ('language', 'NN'),\n",
              " ('careers', 'NNS'),\n",
              " ('!', '.'),\n",
              " ('Come', 'NNP'),\n",
              " ('have', 'VBP'),\n",
              " ('a', 'DT'),\n",
              " ('go', 'NN'),\n",
              " ('at', 'IN'),\n",
              " ('some', 'DT'),\n",
              " ('of', 'IN'),\n",
              " ('our', 'PRP$'),\n",
              " ('activities', 'NNS'),\n",
              " ('!', '.'),\n",
              " ('🌏', 'NN'),\n",
              " ('[hashtag]', 'NNP'),\n",
              " ('[hashtag]', 'NNP'),\n",
              " ('[mention]', 'NNP'),\n",
              " ('[url]', 'NN')]"
            ]
          },
          "metadata": {},
          "execution_count": 51
        }
      ],
      "source": [
        "pos_tagged = nltk.pos_tag(tokens)\n",
        "pos_tagged"
      ]
    },
    {
      "cell_type": "markdown",
      "metadata": {
        "id": "ovNLg0YYQjga"
      },
      "source": [
        "What do you think of the accuracy of the POS tags on this small sample? You can see a description of each POS tag with the below. Note, we should POS tag the tokens without making them lowercase first, as POS taggers will use capital letters, e.g. for proper nouns."
      ]
    },
    {
      "cell_type": "markdown",
      "metadata": {
        "id": "CJzXlH5PQjga"
      },
      "source": [
        ""
      ]
    },
    {
      "cell_type": "code",
      "execution_count": null,
      "metadata": {
        "colab": {
          "base_uri": "https://localhost:8080/"
        },
        "id": "ub7wtSejQjgb",
        "outputId": "f594d1b7-6e8b-4977-8b59-4ae8adba6aba"
      },
      "outputs": [
        {
          "output_type": "stream",
          "name": "stdout",
          "text": [
            "[nltk_data] Downloading package tagsets to /root/nltk_data...\n",
            "[nltk_data]   Package tagsets is already up-to-date!\n",
            "$: dollar\n",
            "    $ -$ --$ A$ C$ HK$ M$ NZ$ S$ U.S.$ US$\n",
            "'': closing quotation mark\n",
            "    ' ''\n",
            "(: opening parenthesis\n",
            "    ( [ {\n",
            "): closing parenthesis\n",
            "    ) ] }\n",
            ",: comma\n",
            "    ,\n",
            "--: dash\n",
            "    --\n",
            ".: sentence terminator\n",
            "    . ! ?\n",
            ":: colon or ellipsis\n",
            "    : ; ...\n",
            "CC: conjunction, coordinating\n",
            "    & 'n and both but either et for less minus neither nor or plus so\n",
            "    therefore times v. versus vs. whether yet\n",
            "CD: numeral, cardinal\n",
            "    mid-1890 nine-thirty forty-two one-tenth ten million 0.5 one forty-\n",
            "    seven 1987 twenty '79 zero two 78-degrees eighty-four IX '60s .025\n",
            "    fifteen 271,124 dozen quintillion DM2,000 ...\n",
            "DT: determiner\n",
            "    all an another any both del each either every half la many much nary\n",
            "    neither no some such that the them these this those\n",
            "EX: existential there\n",
            "    there\n",
            "FW: foreign word\n",
            "    gemeinschaft hund ich jeux habeas Haementeria Herr K'ang-si vous\n",
            "    lutihaw alai je jour objets salutaris fille quibusdam pas trop Monte\n",
            "    terram fiche oui corporis ...\n",
            "IN: preposition or conjunction, subordinating\n",
            "    astride among uppon whether out inside pro despite on by throughout\n",
            "    below within for towards near behind atop around if like until below\n",
            "    next into if beside ...\n",
            "JJ: adjective or numeral, ordinal\n",
            "    third ill-mannered pre-war regrettable oiled calamitous first separable\n",
            "    ectoplasmic battery-powered participatory fourth still-to-be-named\n",
            "    multilingual multi-disciplinary ...\n",
            "JJR: adjective, comparative\n",
            "    bleaker braver breezier briefer brighter brisker broader bumper busier\n",
            "    calmer cheaper choosier cleaner clearer closer colder commoner costlier\n",
            "    cozier creamier crunchier cuter ...\n",
            "JJS: adjective, superlative\n",
            "    calmest cheapest choicest classiest cleanest clearest closest commonest\n",
            "    corniest costliest crassest creepiest crudest cutest darkest deadliest\n",
            "    dearest deepest densest dinkiest ...\n",
            "LS: list item marker\n",
            "    A A. B B. C C. D E F First G H I J K One SP-44001 SP-44002 SP-44005\n",
            "    SP-44007 Second Third Three Two * a b c d first five four one six three\n",
            "    two\n",
            "MD: modal auxiliary\n",
            "    can cannot could couldn't dare may might must need ought shall should\n",
            "    shouldn't will would\n",
            "NN: noun, common, singular or mass\n",
            "    common-carrier cabbage knuckle-duster Casino afghan shed thermostat\n",
            "    investment slide humour falloff slick wind hyena override subhumanity\n",
            "    machinist ...\n",
            "NNP: noun, proper, singular\n",
            "    Motown Venneboerger Czestochwa Ranzer Conchita Trumplane Christos\n",
            "    Oceanside Escobar Kreisler Sawyer Cougar Yvette Ervin ODI Darryl CTCA\n",
            "    Shannon A.K.C. Meltex Liverpool ...\n",
            "NNPS: noun, proper, plural\n",
            "    Americans Americas Amharas Amityvilles Amusements Anarcho-Syndicalists\n",
            "    Andalusians Andes Andruses Angels Animals Anthony Antilles Antiques\n",
            "    Apache Apaches Apocrypha ...\n",
            "NNS: noun, common, plural\n",
            "    undergraduates scotches bric-a-brac products bodyguards facets coasts\n",
            "    divestitures storehouses designs clubs fragrances averages\n",
            "    subjectivists apprehensions muses factory-jobs ...\n",
            "PDT: pre-determiner\n",
            "    all both half many quite such sure this\n",
            "POS: genitive marker\n",
            "    ' 's\n",
            "PRP: pronoun, personal\n",
            "    hers herself him himself hisself it itself me myself one oneself ours\n",
            "    ourselves ownself self she thee theirs them themselves they thou thy us\n",
            "PRP$: pronoun, possessive\n",
            "    her his mine my our ours their thy your\n",
            "RB: adverb\n",
            "    occasionally unabatingly maddeningly adventurously professedly\n",
            "    stirringly prominently technologically magisterially predominately\n",
            "    swiftly fiscally pitilessly ...\n",
            "RBR: adverb, comparative\n",
            "    further gloomier grander graver greater grimmer harder harsher\n",
            "    healthier heavier higher however larger later leaner lengthier less-\n",
            "    perfectly lesser lonelier longer louder lower more ...\n",
            "RBS: adverb, superlative\n",
            "    best biggest bluntest earliest farthest first furthest hardest\n",
            "    heartiest highest largest least less most nearest second tightest worst\n",
            "RP: particle\n",
            "    aboard about across along apart around aside at away back before behind\n",
            "    by crop down ever fast for forth from go high i.e. in into just later\n",
            "    low more off on open out over per pie raising start teeth that through\n",
            "    under unto up up-pp upon whole with you\n",
            "SYM: symbol\n",
            "    % & ' '' ''. ) ). * + ,. < = > @ A[fj] U.S U.S.S.R * ** ***\n",
            "TO: \"to\" as preposition or infinitive marker\n",
            "    to\n",
            "UH: interjection\n",
            "    Goodbye Goody Gosh Wow Jeepers Jee-sus Hubba Hey Kee-reist Oops amen\n",
            "    huh howdy uh dammit whammo shucks heck anyways whodunnit honey golly\n",
            "    man baby diddle hush sonuvabitch ...\n",
            "VB: verb, base form\n",
            "    ask assemble assess assign assume atone attention avoid bake balkanize\n",
            "    bank begin behold believe bend benefit bevel beware bless boil bomb\n",
            "    boost brace break bring broil brush build ...\n",
            "VBD: verb, past tense\n",
            "    dipped pleaded swiped regummed soaked tidied convened halted registered\n",
            "    cushioned exacted snubbed strode aimed adopted belied figgered\n",
            "    speculated wore appreciated contemplated ...\n",
            "VBG: verb, present participle or gerund\n",
            "    telegraphing stirring focusing angering judging stalling lactating\n",
            "    hankerin' alleging veering capping approaching traveling besieging\n",
            "    encrypting interrupting erasing wincing ...\n",
            "VBN: verb, past participle\n",
            "    multihulled dilapidated aerosolized chaired languished panelized used\n",
            "    experimented flourished imitated reunifed factored condensed sheared\n",
            "    unsettled primed dubbed desired ...\n",
            "VBP: verb, present tense, not 3rd person singular\n",
            "    predominate wrap resort sue twist spill cure lengthen brush terminate\n",
            "    appear tend stray glisten obtain comprise detest tease attract\n",
            "    emphasize mold postpone sever return wag ...\n",
            "VBZ: verb, present tense, 3rd person singular\n",
            "    bases reconstructs marks mixes displeases seals carps weaves snatches\n",
            "    slumps stretches authorizes smolders pictures emerges stockpiles\n",
            "    seduces fizzes uses bolsters slaps speaks pleads ...\n",
            "WDT: WH-determiner\n",
            "    that what whatever which whichever\n",
            "WP: WH-pronoun\n",
            "    that what whatever whatsoever which who whom whosoever\n",
            "WP$: WH-pronoun, possessive\n",
            "    whose\n",
            "WRB: Wh-adverb\n",
            "    how however whence whenever where whereby whereever wherein whereof why\n",
            "``: opening quotation mark\n",
            "    ` ``\n"
          ]
        }
      ],
      "source": [
        "nltk.download(\"tagsets\")\n",
        "nltk.help.upenn_tagset()"
      ]
    },
    {
      "cell_type": "markdown",
      "metadata": {
        "id": "xnPQmVngQjgb"
      },
      "source": [
        "To create a POS frequency list is straightforward:"
      ]
    },
    {
      "cell_type": "code",
      "execution_count": null,
      "metadata": {
        "colab": {
          "base_uri": "https://localhost:8080/"
        },
        "id": "bJ2aBRI2Qjgb",
        "outputId": "79ace1f1-a4b3-4bc1-9fec-15a8ccffd791"
      },
      "outputs": [
        {
          "output_type": "execute_result",
          "data": {
            "text/plain": [
              "[('NN', 8),\n",
              " ('NNP', 6),\n",
              " ('IN', 5),\n",
              " ('DT', 4),\n",
              " ('NNS', 3),\n",
              " ('.', 2),\n",
              " ('JJ', 1),\n",
              " (',', 1),\n",
              " ('VBG', 1),\n",
              " ('TO', 1),\n",
              " ('CC', 1),\n",
              " ('VBP', 1),\n",
              " ('PRP$', 1)]"
            ]
          },
          "metadata": {},
          "execution_count": 53
        }
      ],
      "source": [
        "pos = [tag[1] for tag in pos_tagged]\n",
        "pos_fql = Counter(pos)\n",
        "pos_fql.most_common()"
      ]
    },
    {
      "cell_type": "markdown",
      "metadata": {
        "id": "hB8CZkYlQjgc"
      },
      "source": [
        "**Task:** Try to make improvements to the POS tagging by changing the preprocessing and tokenisation. As a minimum, try using NLTK's default tokeniser."
      ]
    },
    {
      "cell_type": "code",
      "execution_count": null,
      "metadata": {
        "id": "L2fYs6w_Qjge"
      },
      "outputs": [],
      "source": [
        ""
      ]
    },
    {
      "cell_type": "markdown",
      "metadata": {
        "id": "azgFfC7WQjge"
      },
      "source": [
        "**Advanced task:** \n",
        "\n",
        "Developing a POS tagger that is capable of dealing well with the intricacies of user generated content (e.g. Twitter) text is difficult, although there have been attempts, e.g. http://www.cs.cmu.edu/~ark/TweetNLP/. One option is to post-process the POS tagged text to fix the main issues.\n",
        "\n",
        "Define a function that takes the POS tagged text and post-processes the output to add new tags for mentions, hashtags, urls, emojis, and anything else you can see to fix with simple rules."
      ]
    },
    {
      "cell_type": "markdown",
      "metadata": {
        "id": "2Yh0Ze6hQjgf"
      },
      "source": [
        "<a name=\"other\"></a>\n",
        "## Other features"
      ]
    },
    {
      "cell_type": "markdown",
      "metadata": {
        "id": "cUqhzGQNQjgf"
      },
      "source": [
        "Many other features can be calculated over the text, token stream, or other feature frequency lists. Some examples:"
      ]
    },
    {
      "cell_type": "code",
      "execution_count": null,
      "metadata": {
        "colab": {
          "base_uri": "https://localhost:8080/"
        },
        "id": "XtDLfU8yQjgf",
        "outputId": "80841a16-0803-4a19-8d56-acbb9ad8f6a9"
      },
      "outputs": [
        {
          "output_type": "stream",
          "name": "stdout",
          "text": [
            "236\n",
            "35\n"
          ]
        }
      ],
      "source": [
        "length_chars = len(tweet) #length of text in chars\n",
        "length_tokens = len(tokens) #length of text in tokens\n",
        "print(length_chars)\n",
        "print(length_tokens)"
      ]
    },
    {
      "cell_type": "markdown",
      "metadata": {
        "id": "tomMrtFbQjgf"
      },
      "source": [
        "Average word length:"
      ]
    },
    {
      "cell_type": "code",
      "execution_count": null,
      "metadata": {
        "scrolled": true,
        "colab": {
          "base_uri": "https://localhost:8080/"
        },
        "id": "Wx-Shc5HQjgg",
        "outputId": "187da371-5296-4800-d819-37165dd8e06f"
      },
      "outputs": [
        {
          "output_type": "stream",
          "name": "stdout",
          "text": [
            "4.771428571428571\n"
          ]
        }
      ],
      "source": [
        "avg_word_length = sum([len(tok) for tok in tokens])/length_tokens #make a list of lengths per token, sum and divide by number of tokens\n",
        "print(avg_word_length)"
      ]
    },
    {
      "cell_type": "markdown",
      "metadata": {
        "id": "ZE1mLJDqQjgh"
      },
      "source": [
        "Various vocabulary measures are available that represent how varied and large the vocabulary is of the text.\n",
        "\n",
        "We need to know the number of **word types** present, this is the number of words, counting multiple instances (tokens) of the same word once. This is simply the size of the frequency list:"
      ]
    },
    {
      "cell_type": "code",
      "execution_count": null,
      "metadata": {
        "id": "pfU-p463Qjgh"
      },
      "outputs": [],
      "source": [
        "length_types = len(tokens_fql)"
      ]
    },
    {
      "cell_type": "markdown",
      "metadata": {
        "id": "O3ASzHG9Qjgi"
      },
      "source": [
        "Type Token Ratio (TTR) is a popular vocabulary measure, simply dividing the number of types by the number of tokens."
      ]
    },
    {
      "cell_type": "code",
      "execution_count": null,
      "metadata": {
        "colab": {
          "base_uri": "https://localhost:8080/"
        },
        "id": "XnXVc6X7Qjgi",
        "outputId": "64ba1731-55c2-4ee6-9727-a386d7d74d66"
      },
      "outputs": [
        {
          "output_type": "stream",
          "name": "stdout",
          "text": [
            "0.7714285714285715\n"
          ]
        }
      ],
      "source": [
        "ttr = length_types / length_tokens #type token ratio (ttr)\n",
        "print(ttr)"
      ]
    },
    {
      "cell_type": "markdown",
      "metadata": {
        "id": "zmBEQGxHQjgk"
      },
      "source": [
        "TTR is not comparable over texts of very different lengths, instead use something like Moving-Average Type-Token Ratio (MATTR): https://doi.org/10.1080/09296171003643098\n",
        "\n",
        "**Advanced task**: Reading the above linked paper, implement MATTR."
      ]
    },
    {
      "cell_type": "markdown",
      "metadata": {
        "id": "CfxAjorpQjgk"
      },
      "source": [
        "Other vocabulary measures look at the number of hapaxes (words types which only appear once), below a simple hapax ratio is calculated."
      ]
    },
    {
      "cell_type": "code",
      "execution_count": null,
      "metadata": {
        "colab": {
          "base_uri": "https://localhost:8080/"
        },
        "id": "uX0rNaq_Qjgk",
        "outputId": "582770b6-85d0-4a1f-9a86-04c5a5c3757c"
      },
      "outputs": [
        {
          "output_type": "stream",
          "name": "stdout",
          "text": [
            "0.8148148148148148\n"
          ]
        }
      ],
      "source": [
        "hapaxes = list(tokens_fql.values()).count(1) #convert frequencies to list and count 1s.\n",
        "hapax_ratio = hapaxes / length_types\n",
        "print(hapax_ratio)"
      ]
    },
    {
      "cell_type": "markdown",
      "metadata": {
        "id": "AAnls1lpQjgm"
      },
      "source": [
        "There are many other features that could be implemented. Readability metrics could be calculated, most of which require a count of syllables. Counting syllables is actually [quite an involved task](https://stackoverflow.com/questions/405161/detecting-syllables-in-a-word/4103234), especially for user generated content, and multi-lingual data. [Big Phoney](https://github.com/repp/big-phoney) is one option that seems promising (based on some limited testing). An **Advanced Task** would be to implement one or more the readability measures (e.g. [*Flesch reading ease*](https://en.wikipedia.org/wiki/Flesch–Kincaid_readability_tests))."
      ]
    },
    {
      "cell_type": "markdown",
      "metadata": {
        "id": "I6GqZUebQjgn"
      },
      "source": [
        "Counting and splitting text into sentences is also needed for some features. This is quite simple to do with NLTK, as below. Though be aware, like other segmentation tasks, doing this accurately with user generated content is not straight-forward."
      ]
    },
    {
      "cell_type": "code",
      "execution_count": null,
      "metadata": {
        "colab": {
          "base_uri": "https://localhost:8080/"
        },
        "id": "mVRUK34qQjgn",
        "outputId": "30f10ef8-fe5e-405d-bf05-2e0401af2bab"
      },
      "outputs": [
        {
          "output_type": "execute_result",
          "data": {
            "text/plain": [
              "[\"This week we're at a [hashtag] event in [hashtag] [mention], talking to students about [hashtag] and language careers!\",\n",
              " 'Come have a go at some of our activities!',\n",
              " '🌏[hashtag] [hashtag] [mention] [url]']"
            ]
          },
          "metadata": {},
          "execution_count": 59
        }
      ],
      "source": [
        "from nltk.tokenize import sent_tokenize\n",
        "sent_tokenize(p_tweet)"
      ]
    },
    {
      "cell_type": "markdown",
      "metadata": {
        "id": "Fliq7dC-Qjgo"
      },
      "source": [
        "<a name=\"docs\"></a>\n",
        "## Documents"
      ]
    },
    {
      "cell_type": "markdown",
      "metadata": {
        "id": "ezWnIwxvQjgo"
      },
      "source": [
        "So far we have been utilising a single line of text (Tweet) to demonstrate feature extraction. However, we will often be dealing with larger texts consisting of lines of texts (e.g. paragraphs or sets of Tweets), we can call these documents. We normally do not want sequence features (e.g. n-grams) to go across line boundaries within a document. Hence we process and extract features per line of text."
      ]
    },
    {
      "cell_type": "markdown",
      "metadata": {
        "id": "0hjxapslQjgp"
      },
      "source": [
        "To make things a little easier, we create a `Document` class which holds the features of a document (and any metadata provided). Features are calculated with the `extract_featues` function, which takes in a list (iterable) of texts (which could be lines in a text, or individual tweets from a user). Currently, just tokens are counted (i.e. Bag of Words), and a single method to demonstrate how to return Document level features."
      ]
    },
    {
      "cell_type": "code",
      "execution_count": null,
      "metadata": {
        "id": "tvIhVAOKQjgp"
      },
      "outputs": [],
      "source": [
        "class Document:\n",
        "    def __init__(self, meta={}):\n",
        "        self.meta = meta\n",
        "        self.tokens_fql = Counter() #empty counter, ready to be added to with Counter.update.\n",
        "        \n",
        "    def extract_features(self, texts): #document should be iterable text lines, e.g. read in from file.\n",
        "        for text in texts:\n",
        "            p_text = preprocess(text)\n",
        "            tokens = custom_tokenise(p_text)\n",
        "            lower_tokens = [t.lower() for t in tokens]\n",
        "            self.tokens_fql.update(lower_tokens) #updating Counter counts items in list, adding to existing Counter items.\n",
        "            \n",
        "    def get_ttr(self): #type token ratio\n",
        "        length_types = len(self.tokens_fql)\n",
        "        length_tokens = sum(self.tokens_fql.values())\n",
        "        return length_types / length_tokens"
      ]
    },
    {
      "cell_type": "markdown",
      "metadata": {
        "id": "0cmici50Qjgp"
      },
      "source": [
        "To utilise this, we simply create a Document, and add text to it. An example using the existing tweet we've been using is given below."
      ]
    },
    {
      "cell_type": "code",
      "execution_count": null,
      "metadata": {
        "colab": {
          "base_uri": "https://localhost:8080/"
        },
        "id": "GvHYvObbQjgq",
        "outputId": "eb7480f7-bdd2-440f-fc86-dbd70f7edc31"
      },
      "outputs": [
        {
          "output_type": "stream",
          "name": "stdout",
          "text": [
            "Counter({'[hashtag]': 5, 'at': 2, 'a': 2, '[mention]': 2, '!': 2, 'this': 1, 'week': 1, \"we're\": 1, 'event': 1, 'in': 1, ',': 1, 'talking': 1, 'to': 1, 'students': 1, 'about': 1, 'and': 1, 'language': 1, 'careers': 1, 'come': 1, 'have': 1, 'go': 1, 'some': 1, 'of': 1, 'our': 1, 'activities': 1, '🌏': 1, '[url]': 1})\n"
          ]
        }
      ],
      "source": [
        "tweet_doc = Document()\n",
        "tweet_doc.extract_features([tweet])\n",
        "print(tweet_doc.tokens_fql)"
      ]
    },
    {
      "cell_type": "markdown",
      "metadata": {
        "id": "EgqY3lt3Qjgq"
      },
      "source": [
        "<a name=\"mps\"></a>\n",
        "## MPs Dataset\n",
        "In order to play with features, a collection of Tweets from MP accounts is provided in the `mps` folder. These are plain text files for each user, split into Labour and Conservative. These Tweets were collected a while back, so the list of MPs (some are no longer MPs, or have left Labour or Conservatives) and Tweets is not current. You could use what you've learnt from week 14 (data collection) to gather a list of MPs from https://www.politics-social.com/list/name, and download their latest tweets. More MP data also here: https://www.theyworkforyou.com/mps/.\n",
        "\n",
        "The corpus can be read into Documents as follows."
      ]
    },
    {
      "cell_type": "code",
      "execution_count": null,
      "metadata": {
        "id": "6G5buvTmQjgq"
      },
      "outputs": [],
      "source": [
        "from os import listdir\n",
        "from os.path import isfile, join, splitext, split\n",
        "\n",
        "\n",
        "def import_party_folder(party):\n",
        "    folder = working_folder + \"mps/\" + party\n",
        "    textfiles = [join(folder, f) for f in listdir(folder) if isfile(join(folder, f)) and f.endswith(\".txt\")]\n",
        "    for tf in textfiles:\n",
        "        username = splitext(split(tf)[1])[0] #extract just username from filename.\n",
        "        print(\"Processing \" + username)\n",
        "        doc = Document({'username': username, 'party': party}) #include metadata\n",
        "        with open(tf) as f:\n",
        "            tweets = f.readlines()\n",
        "        doc.extract_features(tweets)\n",
        "        yield doc"
      ]
    },
    {
      "cell_type": "code",
      "execution_count": null,
      "metadata": {
        "colab": {
          "base_uri": "https://localhost:8080/"
        },
        "id": "Q6uQcHcoQjgr",
        "outputId": "35da6615-7ec3-42f0-d1ce-1388d2a440f3"
      },
      "outputs": [
        {
          "output_type": "stream",
          "name": "stdout",
          "text": [
            "Processing angelaeagle\n",
            "Processing CatSmithMP\n",
            "Processing ChukaUmunna\n",
            "Processing DavidLammy\n",
            "Processing HackneyAbbott\n",
            "Processing RupaHuq\n",
            "Processing Ed_Miliband\n",
            "Processing EmilyThornberry\n",
            "Processing hilarybennmp\n",
            "Processing jeremycorbyn\n",
            "Processing Keir_Starmer\n",
            "Processing LindsayHoyle_MP\n",
            "Processing OwenSmith_MP\n",
            "Processing stellacreasy\n",
            "Processing tom_watson\n",
            "Processing YvetteCooperMP\n",
            "Processing AmberRuddHR\n",
            "Processing andrealeadsom\n",
            "Processing BWallaceMP\n",
            "Processing BorisJohnson\n",
            "Processing DamianGreen\n",
            "Processing LiamFox\n",
            "Processing grantshapps\n",
            "Processing Jeremy_Hunt\n",
            "Processing JoJohnsonUK\n",
            "Processing JustineGreening\n",
            "Processing michaelgove\n",
            "Processing NadineDorries\n",
            "Processing PhilipHammondUK\n",
            "Processing sajidjavid\n",
            "Processing SamGyimah\n",
            "Processing theresa_may\n",
            "Processing ZacGoldsmith\n"
          ]
        }
      ],
      "source": [
        "corpus = []\n",
        "corpus.extend(import_party_folder(\"labour\"))\n",
        "corpus.extend(import_party_folder(\"conservative\"))"
      ]
    },
    {
      "cell_type": "markdown",
      "metadata": {
        "id": "CoPiMGhJQjgr"
      },
      "source": [
        "We now have a **corpus** of MPs on Twitter we can use for further analysis."
      ]
    },
    {
      "cell_type": "code",
      "execution_count": null,
      "metadata": {
        "colab": {
          "base_uri": "https://localhost:8080/"
        },
        "id": "SA5jGYNkQjgr",
        "outputId": "9158fa6f-3e28-4937-b5fa-c872ddabe548"
      },
      "outputs": [
        {
          "output_type": "stream",
          "name": "stdout",
          "text": [
            "angelaeagle, labour, 18777\n",
            "CatSmithMP, labour, 45518\n",
            "ChukaUmunna, labour, 51660\n",
            "DavidLammy, labour, 108554\n",
            "HackneyAbbott, labour, 24253\n",
            "RupaHuq, labour, 46770\n",
            "Ed_Miliband, labour, 53573\n",
            "EmilyThornberry, labour, 24968\n",
            "hilarybennmp, labour, 34759\n",
            "jeremycorbyn, labour, 68650\n",
            "Keir_Starmer, labour, 36814\n",
            "LindsayHoyle_MP, labour, 46322\n",
            "OwenSmith_MP, labour, 41747\n",
            "stellacreasy, labour, 75873\n",
            "tom_watson, labour, 52955\n",
            "YvetteCooperMP, labour, 42760\n",
            "AmberRuddHR, conservative, 44575\n",
            "andrealeadsom, conservative, 22230\n",
            "BWallaceMP, conservative, 36876\n",
            "BorisJohnson, conservative, 36451\n",
            "DamianGreen, conservative, 18858\n",
            "LiamFox, conservative, 25977\n",
            "grantshapps, conservative, 59734\n",
            "Jeremy_Hunt, conservative, 65074\n",
            "JoJohnsonUK, conservative, 15362\n",
            "JustineGreening, conservative, 28113\n",
            "michaelgove, conservative, 10403\n",
            "NadineDorries, conservative, 49651\n",
            "PhilipHammondUK, conservative, 38985\n",
            "sajidjavid, conservative, 31125\n",
            "SamGyimah, conservative, 34720\n",
            "theresa_may, conservative, 25325\n",
            "ZacGoldsmith, conservative, 21340\n"
          ]
        }
      ],
      "source": [
        "for doc in corpus:\n",
        "    print(doc.meta['username'], doc.meta['party'], sum(doc.tokens_fql.values()),sep=\", \")"
      ]
    },
    {
      "cell_type": "markdown",
      "metadata": {
        "id": "nuuUILtpQjgr"
      },
      "source": [
        "<a name=\"corpus\"></a>\n",
        "## Corpus analysis\n",
        "We can compare corpora or sub-corpora to start to gain insights into language differences."
      ]
    },
    {
      "cell_type": "markdown",
      "metadata": {
        "id": "cdTmlcX3Qjgs"
      },
      "source": [
        "Our frequency lists (FQLs) are stored as [`Counters`](https://docs.python.org/3.7/library/collections.html#counter-objects), which can be merged easily by just adding them together."
      ]
    },
    {
      "cell_type": "code",
      "execution_count": null,
      "metadata": {
        "id": "HJznpEXCQjgs"
      },
      "outputs": [],
      "source": [
        "def merge_fqls(fqls):\n",
        "    merged = Counter()\n",
        "    for fql in fqls:\n",
        "        merged += fql\n",
        "    return merged"
      ]
    },
    {
      "cell_type": "markdown",
      "metadata": {
        "id": "zKpbDjqgQjgt"
      },
      "source": [
        "Create a sub-corpus, one for Conservative MPs, another for Labour MPs."
      ]
    },
    {
      "cell_type": "code",
      "execution_count": null,
      "metadata": {
        "id": "D9e4fCQDQjgt"
      },
      "outputs": [],
      "source": [
        "con_fql = merge_fqls([doc.tokens_fql for doc in corpus if doc.meta['party']==\"conservative\"])\n",
        "lab_fql = merge_fqls([doc.tokens_fql for doc in corpus if doc.meta['party']==\"labour\"])"
      ]
    },
    {
      "cell_type": "code",
      "execution_count": null,
      "metadata": {
        "colab": {
          "base_uri": "https://localhost:8080/"
        },
        "id": "HWwhTwTJQjgt",
        "outputId": "7039ef2a-721a-4ce6-89c5-4c835d74a950"
      },
      "outputs": [
        {
          "output_type": "stream",
          "name": "stdout",
          "text": [
            "564799 773953\n"
          ]
        }
      ],
      "source": [
        "con_size = sum(con_fql.values())\n",
        "lab_size = sum(lab_fql.values())\n",
        "print(con_size,lab_size)"
      ]
    },
    {
      "cell_type": "markdown",
      "metadata": {
        "id": "G2ygTApRQjgu"
      },
      "source": [
        "We can start analysing the most frequent words:"
      ]
    },
    {
      "cell_type": "code",
      "execution_count": null,
      "metadata": {
        "colab": {
          "base_uri": "https://localhost:8080/"
        },
        "id": "0J9CPLjtQjgu",
        "outputId": "466d46a6-6096-4a3c-8c93-5354938e3221"
      },
      "outputs": [
        {
          "output_type": "stream",
          "name": "stdout",
          "text": [
            "[('.', 32458), ('the', 28533), ('to', 23242), ('[mention]', 22552), ('[url]', 20988), ('and', 14235), (',', 14119), ('of', 13398), ('a', 12772), ('in', 11557), ('for', 9672), ('[hashtag]', 8237), ('is', 7794), ('on', 7471), ('this', 6668), ('with', 5207), ('i', 5140), ('you', 5075), ('it', 4733), ('that', 4679)]\n",
            "[('.', 21732), ('to', 19220), ('the', 18184), ('[mention]', 18182), ('[url]', 15350), ('[hashtag]', 11167), (',', 10474), ('and', 9560), ('in', 9532), ('of', 9129), ('a', 8107), ('for', 7928), ('on', 5589), ('is', 4589), ('with', 4525), ('&', 4146), ('!', 3520), ('-', 3490), ('this', 3426), ('i', 3422)]\n"
          ]
        }
      ],
      "source": [
        "print(lab_fql.most_common(20))\n",
        "print(con_fql.most_common(20))"
      ]
    },
    {
      "cell_type": "markdown",
      "metadata": {
        "id": "Wks7U0ISQjgu"
      },
      "source": [
        "And even create a basic [word cloud](https://github.com/amueller/word_cloud)."
      ]
    },
    {
      "cell_type": "code",
      "execution_count": null,
      "metadata": {
        "id": "8BK_HO7bQjgu"
      },
      "outputs": [],
      "source": [
        "from wordcloud import WordCloud\n",
        "import matplotlib.pyplot as plt\n",
        "\n",
        "def create_wordcloud(words):\n",
        "    wordcloud = WordCloud().generate_from_frequencies(words)\n",
        "    plt.imshow(wordcloud, interpolation='bilinear')\n",
        "    plt.axis(\"off\")\n",
        "    plt.show()"
      ]
    },
    {
      "cell_type": "code",
      "execution_count": null,
      "metadata": {
        "colab": {
          "base_uri": "https://localhost:8080/",
          "height": 198
        },
        "id": "vYPYNpB9Qjgv",
        "outputId": "60fea7df-7b30-4dbe-f6d7-66f3ee3bcc3e"
      },
      "outputs": [
        {
          "output_type": "display_data",
          "data": {
            "image/png": "[encoded data removed]",
            "text/plain": [
              "<Figure size 432x288 with 1 Axes>"
            ]
          },
          "metadata": {
            "needs_background": "light"
          }
        }
      ],
      "source": [
        "create_wordcloud(con_fql)"
      ]
    },
    {
      "cell_type": "code",
      "execution_count": null,
      "metadata": {
        "colab": {
          "base_uri": "https://localhost:8080/",
          "height": 198
        },
        "id": "Wp1-63kxQjgv",
        "outputId": "ef56102e-262d-45cd-d347-7e7c9145f5ea"
      },
      "outputs": [
        {
          "output_type": "display_data",
          "data": {
            "image/png": "[encoded data removed]",
            "text/plain": [
              "<Figure size 432x288 with 1 Axes>"
            ]
          },
          "metadata": {
            "needs_background": "light"
          }
        }
      ],
      "source": [
        "create_wordcloud(lab_fql)"
      ]
    },
    {
      "cell_type": "markdown",
      "metadata": {
        "id": "Vd-qyu3VQjgv"
      },
      "source": [
        "Common words dominate. How could we remove these?"
      ]
    },
    {
      "cell_type": "markdown",
      "metadata": {
        "id": "-aZdnMJAQjgw"
      },
      "source": [
        "filter out stop words."
      ]
    },
    {
      "cell_type": "markdown",
      "metadata": {
        "id": "fkrL4dDiQjgw"
      },
      "source": [
        "To normalise the frequencies, we can simply divide by the number of tokens, to gain relative frequencies."
      ]
    },
    {
      "cell_type": "code",
      "execution_count": null,
      "metadata": {
        "id": "DZ3P_JIjQjgw"
      },
      "outputs": [],
      "source": [
        "def relative_freqs(fql):\n",
        "    size = sum(fql.values())\n",
        "    return {term: fql[term]/size for term in fql}"
      ]
    },
    {
      "cell_type": "code",
      "execution_count": null,
      "metadata": {
        "id": "hv-lXmJfQjgw"
      },
      "outputs": [],
      "source": [
        "con_rel = relative_freqs(con_fql)\n",
        "lab_rel = relative_freqs(lab_fql)"
      ]
    },
    {
      "cell_type": "markdown",
      "metadata": {
        "id": "s-Ep4deuQjgw"
      },
      "source": [
        "To do a \"Key words\" comparison between the sub-corpora, we can utilise [*Log Ratio*](http://cass.lancs.ac.uk/log-ratio-an-informal-introduction/), which is the binary log of the relative risk (ratio between relative frequencies). Other significance tests and effect size measures can be used: http://ucrel.lancs.ac.uk/llwizard.html"
      ]
    },
    {
      "cell_type": "code",
      "execution_count": null,
      "metadata": {
        "id": "mPKqjtkEQjgx"
      },
      "outputs": [],
      "source": [
        "from math import log\n",
        "\n",
        "#Calculates log ratio for terms in corpus1, compared to corpus2.\n",
        "#we pass the corpus sizes for ease.\n",
        "#If the term is not present in corpus2, we make the frequency 0.5.\n",
        "def log_ratio(corpus1, corpus1_size, corpus2, corpus2_size, min_freq1=0, min_freq2=0):\n",
        "    return {term: log((corpus1[term]/corpus1_size)/((corpus2[term] if corpus2[term] else 0.5)/corpus2_size),2) for term in corpus1 if corpus1[term] >= min_freq1 and corpus2[term] >= min_freq2}"
      ]
    },
    {
      "cell_type": "markdown",
      "source": [
        "The above method is a dict comprehension one-liner, which may be difficult to interpret. The below method does exactly the same as the above, but is split over multiple lines to ease readability and understanding. "
      ],
      "metadata": {
        "id": "P8su00StPzuI"
      }
    },
    {
      "cell_type": "code",
      "execution_count": null,
      "metadata": {
        "id": "C_5LKzSSQjgx"
      },
      "outputs": [],
      "source": [
        "from math import log\n",
        "\n",
        "#Calculates log ratio for terms in corpus1, compared to corpus2.\n",
        "#we pass the corpus sizes for ease.\n",
        "#If the term is not present in corpus2, we make the frequency 0.5.\n",
        "def log_ratio(corpus1, corpus1_size, corpus2, corpus2_size, min_freq1=0, min_freq2=0):\n",
        "    lrs = dict()\n",
        "    for term in corpus1:\n",
        "      if corpus1[term] >= min_freq1 and corpus2[term] >= min_freq2:\n",
        "        rel_freq1 = corpus1[term]/corpus1_size\n",
        "        if corpus2[term]:\n",
        "          freq2 = corpus2[term]\n",
        "        else:\n",
        "          freq2 = 0.5\n",
        "        rel_freq2 = freq2/corpus2_size\n",
        "        lr = log(rel_freq1/rel_freq2, 2)\n",
        "        lrs[term] = lr\n",
        "\n",
        "    return lrs\n",
        "        \n",
        "            "
      ]
    },
    {
      "cell_type": "markdown",
      "metadata": {
        "id": "OtVRBJguQjgx"
      },
      "source": [
        "Calculate the terms from Conservative MPs with the biggest log ratio compared to terms from Labour MPs."
      ]
    },
    {
      "cell_type": "code",
      "execution_count": null,
      "metadata": {
        "id": "4uW43P3XQjgx"
      },
      "outputs": [],
      "source": [
        "con_lr = log_ratio(con_fql, con_size, lab_fql, lab_size)"
      ]
    },
    {
      "cell_type": "markdown",
      "metadata": {
        "id": "hmW_Mm3pQjgy"
      },
      "source": [
        "We can sort our list of terms by this log ratio:"
      ]
    },
    {
      "cell_type": "code",
      "execution_count": null,
      "metadata": {
        "colab": {
          "base_uri": "https://localhost:8080/"
        },
        "id": "B426QT6jQjgy",
        "outputId": "f9a7c582-88a0-444a-efdf-94a6fd3c9546"
      },
      "outputs": [
        {
          "output_type": "stream",
          "name": "stdout",
          "text": [
            "[('welwyn', 9.054421266123942), ('ashford', 8.938324201201072), ('fm', 8.498902543295268), ('wgc', 8.141008951120034), ('bromsgrove', 7.604255543441495), ('counterpart', 6.978070379993827), ('orpington', 6.776436518824176), ('dit', 6.6639617895657635), ('staffs', 6.6639617895657635), ('farnham', 6.624433425379126), ('leonards', 6.541971265187152), ('mili', 6.498902543295267), ('exhibitors', 6.454508423936813), ('grt', 6.454508423936813), (\"miliband's\", 6.361399019545332), (\"w'\", 6.261863345994418), ('ebola', 6.2093959261002825), ('putney', 6.182428878500013), ('ira', 6.154948142077906), ('southfields', 6.154948142077906)]\n"
          ]
        }
      ],
      "source": [
        "sorted_terms = sorted(con_lr.items(), key=lambda x: x[1], reverse=True)\n",
        "print(sorted_terms[:20])"
      ]
    },
    {
      "cell_type": "markdown",
      "metadata": {
        "id": "ZF_Fs5iDQjg0"
      },
      "source": [
        "and create a word cloud using the log ratios, instead of frequencies:"
      ]
    },
    {
      "cell_type": "code",
      "execution_count": null,
      "metadata": {
        "colab": {
          "base_uri": "https://localhost:8080/",
          "height": 198
        },
        "id": "Hp0MsaGUQjg0",
        "outputId": "7663471c-fc93-406d-a95e-3c49f1e02223"
      },
      "outputs": [
        {
          "output_type": "display_data",
          "data": {
            "image/png": "[encoded data removed]",
            "text/plain": [
              "<Figure size 432x288 with 1 Axes>"
            ]
          },
          "metadata": {
            "needs_background": "light"
          }
        }
      ],
      "source": [
        "create_wordcloud(con_lr)"
      ]
    },
    {
      "cell_type": "markdown",
      "metadata": {
        "id": "Gz51gm-bQjg0"
      },
      "source": [
        "and the other way round:"
      ]
    },
    {
      "cell_type": "code",
      "execution_count": null,
      "metadata": {
        "colab": {
          "base_uri": "https://localhost:8080/",
          "height": 235
        },
        "id": "7hh3CkrOQjg1",
        "outputId": "caca1680-55e6-419f-c21c-802ec03a4dc7"
      },
      "outputs": [
        {
          "output_type": "stream",
          "name": "stdout",
          "text": [
            "[('chorley', 9.62764061741706), ('walthamstow', 9.256298009762538), ('thankyou', 8.06119141434723), ('….', 7.988435071911915), ('camden', 7.352846498120791), ('↓', 6.920531007410112), ('→', 6.84927232424029), ('deportation', 6.735316134943203), ('tottenham', 6.4762289136260724), ('hoylel', 6.352846498120791), (\"tories'\", 6.300379078226655), ('tbh', 6.160201420178395), ('botched', 6.100080427740823), ('deported', 6.100080427740823), ('clp', 6.004923194700484), ('islamophobia', 6.004923194700484), ('holborn', 5.90304358068127), ('murdoch', 5.867419670950549), ('ponty', 5.793419089506772), ('pancras', 5.754944941692136)]\n"
          ]
        },
        {
          "output_type": "display_data",
          "data": {
            "image/png": "[encoded data removed]",
            "text/plain": [
              "<Figure size 432x288 with 1 Axes>"
            ]
          },
          "metadata": {
            "needs_background": "light"
          }
        }
      ],
      "source": [
        "lab_lr = log_ratio(lab_fql, lab_size, con_fql, con_size)\n",
        "sorted_terms = sorted(lab_lr.items(), key=lambda x: x[1], reverse=True)\n",
        "print(sorted_terms[:20])\n",
        "create_wordcloud(lab_lr)"
      ]
    },
    {
      "cell_type": "markdown",
      "metadata": {
        "id": "6njOZsjfQjg1"
      },
      "source": [
        "Some interesting terms appear, but with a small number of authors, some terms will be prominent from one MP, boosting the frequency in the sub-corpus. You can set a minimum frequency for a term to appear in each corpus. The below sets a minimum frequency of 5 in each corpus, which will rule out words that only appear in one sub corpus. You can change these minimum frequencies. Notice you will gett quittew different words highlighted in the wordcloud."
      ]
    },
    {
      "cell_type": "code",
      "source": [
        "lab_lr = log_ratio(lab_fql, lab_size, con_fql, con_size,5,5)\n",
        "sorted_terms = sorted(lab_lr.items(), key=lambda x: x[1], reverse=True)\n",
        "print(sorted_terms[:20])\n",
        "create_wordcloud(lab_lr)"
      ],
      "metadata": {
        "colab": {
          "base_uri": "https://localhost:8080/",
          "height": 235
        },
        "id": "YTpOwBcAWDjR",
        "outputId": "6e66b2d5-aaa9-4173-df13-f879d28d277b"
      },
      "execution_count": null,
      "outputs": [
        {
          "output_type": "stream",
          "name": "stdout",
          "text": [
            "[('ealing', 4.581115485793908), ('yep', 4.200843404675741), ('hostile', 4.130454076784344), ('lancaster', 3.715416577505499), ('windrush', 3.6713355090413815), ('tories', 3.5123247121279877), ('cuts', 3.348718612498114), (\"deal'\", 3.2679576005342774), ('leeds', 3.221952431269839), (\"'no\", 3.2084565887856153), ('podcast', 3.1102761948467124), ('demanding', 3.089812092286997), ('migrants', 3.081544476303396), ('donald', 2.9514839357390237), ('abortion', 2.8349981932581714), ('tory', 2.8275269438270363), ('homeless', 2.8275269438270363), ('erg', 2.793419089506772), ('electoral', 2.7678839973996343), ('shd', 2.760504467034037)]\n"
          ]
        },
        {
          "output_type": "display_data",
          "data": {
            "image/png": "[encoded data removed]",
            "text/plain": [
              "<Figure size 432x288 with 1 Axes>"
            ]
          },
          "metadata": {
            "needs_background": "light"
          }
        }
      ]
    },
    {
      "cell_type": "markdown",
      "metadata": {
        "id": "a-ePPuKEQjg2"
      },
      "source": [
        "<a name=\"tfidf\"></a>\n",
        "## TF-IDF"
      ]
    },
    {
      "cell_type": "markdown",
      "metadata": {
        "id": "epGHmuUZQjg2"
      },
      "source": [
        "As discussed in the lecture, TF-IDF is a commonly used normalisation method which considers the term frequency along with how many documents in the corpus the term appears in."
      ]
    },
    {
      "cell_type": "code",
      "execution_count": null,
      "metadata": {
        "id": "2qJlD-bXQjg2"
      },
      "outputs": [],
      "source": [
        "#doc is a Counter representing an fql from a document.\n",
        "def tf(term, doc):\n",
        "    return doc[term] / sum(doc.values()) #term freq / total terms (relative term freq)\n",
        "\n",
        "def num_containing(term, corpus):\n",
        "    return sum(1 for doc in corpus if term in doc) #counts docs in corpus containing term.\n",
        "\n",
        "#1 added to numerator and denominator is for preventing division by zero. Equivalent of an extra document containing all terms once.\n",
        "def idf(term, corpus):\n",
        "    n_t = num_containing(term,corpus)\n",
        "    return log((len(corpus)+1) / ((n_t) + 1))\n",
        "    \n",
        "def tfidf(term, doc, corpus):\n",
        "    return tf(term, doc) * idf(term, corpus)"
      ]
    },
    {
      "cell_type": "markdown",
      "metadata": {
        "id": "0lovkoWdQjg3"
      },
      "source": [
        "We can calculate the TF-IDF for every term for every MP in the corpus. By listing the terms with the highest TF-IDF, we can look at terms that are used by that MP frequently, but only used by that MP alone, or a small number of MPs."
      ]
    },
    {
      "cell_type": "code",
      "execution_count": null,
      "metadata": {
        "id": "lv1kM5MIQjg3"
      },
      "outputs": [],
      "source": [
        "corpus_fqls = [doc.tokens_fql for doc in corpus]\n",
        "for doc in corpus:\n",
        "    print(doc.meta['username'], doc.meta['party'])\n",
        "    scores = {term: tfidf(term,doc.tokens_fql,corpus_fqls) for term in doc.tokens_fql}\n",
        "    sorted_terms = sorted(scores.items(), key=lambda x: x[1], reverse=True)\n",
        "    for term, score in sorted_terms[:5]:\n",
        "        print(\"\\tToken: {}, TF-IDF: {}\".format(term, round(score, 5)))"
      ]
    },
    {
      "cell_type": "markdown",
      "metadata": {
        "id": "i5DyYEw5Qjg3"
      },
      "source": [
        "<a name=\"ex\"></a>\n",
        "## Exercise\n",
        "Use the MPs data provided to conduct some further feature extraction and analysis. Write code to answer the following questions:\n",
        "\n",
        "1. Which MP in the dataset has the highest average token length?\n",
        "2. What are the 5 **key** part-of-speech tags overused by Labour MPs compared to Conservative MPs?\n",
        "3. What hashtags does Jeremy Corbyn use frequently, which aren't used widely by the rest of the Labour party MPs in the dataset (TF-IDF)?\n",
        "4. **Advanced:** What are the **key** adjectives overused by Boris Johnson compared to other MPs?\n",
        "4. **Advanced:** If you want to go further, devise your own research question, either using the MP data provided, collecting a new MP dataset, or on different data.\n",
        "\n",
        "You may need to pre-process and tokenise the text differently. Re-use the code above, including adapting the Document class, adding/editing preprocessing, tokenisation, and feature extraction.\n",
        "\n",
        "If you prefer, you can create a new notebook for the exercise work. The methods and imports above are provided in a Python file too: `features.py`."
      ]
    },
    {
      "cell_type": "code",
      "execution_count": null,
      "metadata": {
        "id": "Ukf69CoOQjg3"
      },
      "outputs": [],
      "source": [
        "# stuff added here to document class to enable use for answering questions.\n",
        "\n",
        "ht_regex = re.compile(r\"#(\\w+)\")\n",
        "\n",
        "class Document:    \n",
        "    def __init__(self, meta={}):\n",
        "        self.meta = meta\n",
        "        self.tokens_fql = Counter() #empty counter, ready to be added to with Counter.update.\n",
        "        self.pos_fql = Counter()\n",
        "        self.hashtag_fql = Counter()\n",
        "        self.adjectives_fql = Counter()\n",
        "        \n",
        "    def extract_features(self, texts): #document should be iterable text lines, e.g. read in from file.\n",
        "        for text in texts:\n",
        "            p_text = preprocess(text)\n",
        "            tokens = custom_tokenise(p_text)\n",
        "            lower_tokens = [t.lower() for t in tokens]\n",
        "            self.tokens_fql.update(lower_tokens) #updating Counter counts items in list, adding to existing Counter items.\n",
        "            pos_tags = nltk.pos_tag(tokens) #better to POS tag original tokens, not lower case.\n",
        "            self.pos_fql.update([tag[1] for tag in pos_tags])\n",
        "            hashtags = [ht.lower() for ht in ht_regex.findall(text)] # should make lowercase so freq not split, but don't lose mark if not done\n",
        "            #hashtags = ht_regex.findall(text)\n",
        "            self.hashtag_fql.update(hashtags)\n",
        "            self.adjectives_fql.update([tag[0].lower() for tag in pos_tags if tag[1].startswith(\"JJ\")])\n",
        "            \n",
        "    def get_ttr(self): #type token ratio\n",
        "        length_types = len(self.tokens_fql)\n",
        "        length_tokens = sum(self.tokens_fql.values())\n",
        "        return length_types / length_tokens\n",
        "    \n",
        "    def get_average_word_length(self):\n",
        "        return sum([len(tok) * self.tokens_fql[tok] for tok in self.tokens_fql])/sum(self.tokens_fql.values())"
      ]
    },
    {
      "cell_type": "code",
      "execution_count": null,
      "metadata": {
        "id": "czpC0CVGQjg4"
      },
      "outputs": [],
      "source": [
        "# need to reinitialise corpus, with new Document class used.\n",
        "\n",
        "corpus = []\n",
        "corpus.extend(import_party_folder(\"labour\"))\n",
        "corpus.extend(import_party_folder(\"conservative\"))"
      ]
    },
    {
      "cell_type": "code",
      "execution_count": null,
      "metadata": {
        "id": "ENG_Y_zHQjg4"
      },
      "outputs": [],
      "source": [
        "ttrs = {}\n",
        "\n",
        "for doc in corpus:\n",
        "    ttrs[doc.meta['username']] = doc.get_ttr()\n",
        "\n",
        "sorted_ttrs = sorted(ttrs.items(), key=lambda x: x[1], reverse=True)\n",
        "\n",
        "print(sorted_ttrs)"
      ]
    },
    {
      "cell_type": "code",
      "execution_count": null,
      "metadata": {
        "id": "wEj3XZ_ZQjg5"
      },
      "outputs": [],
      "source": [
        "# Code for 1 here.\n",
        "# Which MP in the dataset has the highest average token length?\n",
        "\n",
        "awls = {}\n",
        "\n",
        "for doc in corpus:\n",
        "    awls[doc.meta['username']] = doc.get_average_word_length()\n",
        "                                \n",
        "sorted_awls = sorted(awls.items(), key=lambda x: x[1], reverse=True)\n",
        "\n",
        "print(sorted_awls)\n",
        "\n",
        "# Make sure that you have not got the average type length, you don't have the token list directly, so should multiply by the number of tokens per type."
      ]
    },
    {
      "cell_type": "code",
      "execution_count": null,
      "metadata": {
        "id": "78AkyI9HQjg5"
      },
      "outputs": [],
      "source": [
        "# Code for 2 here.\n",
        "# What are the 5 key part-of-speech tags overused by Labour MPs compared to Conservative MPs?\n",
        "\n",
        "con_pos_fql = merge_fqls([doc.pos_fql for doc in corpus if doc.meta['party']==\"conservative\"])\n",
        "lab_pos_fql = merge_fqls([doc.pos_fql for doc in corpus if doc.meta['party']==\"labour\"])\n",
        "# the sizes are the same as when calculated for tokens earlier, but repeated for cla\n",
        "con_size = sum(con_pos_fql.values())\n",
        "lab_size = sum(lab_pos_fql.values())"
      ]
    },
    {
      "cell_type": "code",
      "execution_count": null,
      "metadata": {
        "id": "wWzNToAxQjg5"
      },
      "outputs": [],
      "source": [
        "lab_lr = log_ratio(lab_pos_fql, lab_size, con_pos_fql, con_size)\n",
        "sorted_terms = sorted(lab_lr.items(), key=lambda x: x[1], reverse=True)\n",
        "print(sorted_terms[:5])"
      ]
    },
    {
      "cell_type": "code",
      "execution_count": null,
      "metadata": {
        "id": "7UtE75kBQjg6"
      },
      "outputs": [],
      "source": [
        "# Code for 3 here.\n",
        "# What hashtags does Jeremy Corbyn use frequently, which aren't used widely by the rest of the Labour party MPs in the dataset (TF-IDF)?\n",
        "\n",
        "labour_hts_fql = [doc.hashtag_fql for doc in corpus if doc.meta['party']==\"labour\" and doc.meta['username'] != \"jeremycorbyn\"]\n",
        "jc_hts_fql = next((doc.hashtag_fql for doc in corpus if doc.meta['username'] == \"jeremycorbyn\"), None)\n",
        "hts = {ht: tfidf(ht,jc_hts_fql,labour_hts_fql) for ht in jc_hts_fql}\n",
        "sorted_hts = sorted(hts.items(), key=lambda x: x[1], reverse=True)\n",
        "for term, score in sorted_hts[:5]:\n",
        "        print(\"\\tHashtag: {}, TF-IDF: {}\".format(term, round(score, 5)))"
      ]
    },
    {
      "cell_type": "markdown",
      "metadata": {
        "id": "LdR9Sq04Qjg7"
      },
      "source": [
        "With case not lowered:\n",
        "- Hashtag: ForTheMany, TF-IDF: 0.14469\n",
        "- Hashtag: Lab17, TF-IDF: 0.03995\n",
        "- Hashtag: DurhamMinersGala, TF-IDF: 0.02782\n",
        "- Hashtag: CBI2017, TF-IDF: 0.02568\n",
        "- Hashtag: Lab18, TF-IDF: 0.02547"
      ]
    },
    {
      "cell_type": "code",
      "execution_count": null,
      "metadata": {
        "id": "beQFqfuoQjg7"
      },
      "outputs": [],
      "source": [
        "# Code for 4 here.\n",
        "# Advanced: What are the key adjectives overused by Boris Johnson compared to other MPs?\n",
        "\n",
        "bojo_jj_fql = next((doc.adjectives_fql for doc in corpus if doc.meta['username'] == \"BorisJohnson\"), None)\n",
        "all_jj_fql = merge_fqls([doc.adjectives_fql for doc in corpus if doc.meta['username'] != \"BorisJohnson\"])\n",
        "bojo_size = sum(bojo_jj_fql.values())\n",
        "all_size = sum(all_jj_fql.values())\n",
        "bojo_lr = log_ratio(bojo_jj_fql, bojo_size, all_jj_fql, all_size, 5, 5)\n",
        "sorted_terms = sorted(bojo_lr.items(), key=lambda x: x[1], reverse=True)\n",
        "print(sorted_terms[:10])"
      ]
    },
    {
      "cell_type": "code",
      "execution_count": null,
      "metadata": {
        "id": "gcwDIa9LQjg7"
      },
      "outputs": [],
      "source": [
        "#Code for 5 here\n",
        "# Advanced: If you want to go further, devise your own research question, either using the MP data provided, collecting a new MP dataset, or on different data."
      ]
    }
  ],
  "metadata": {
    "kernelspec": {
      "display_name": "Python 3",
      "language": "python",
      "name": "python3"
    },
    "language_info": {
      "codemirror_mode": {
        "name": "ipython",
        "version": 3
      },
      "file_extension": ".py",
      "mimetype": "text/x-python",
      "name": "python",
      "nbconvert_exporter": "python",
      "pygments_lexer": "ipython3",
      "version": "3.7.2"
    },
    "colab": {
      "name": "413-wk18-features-answers.ipynb",
      "provenance": [],
      "collapsed_sections": [],
      "toc_visible": true
    }
  },
  "nbformat": 4,
  "nbformat_minor": 0
}