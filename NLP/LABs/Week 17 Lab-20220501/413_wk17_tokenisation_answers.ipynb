{
  "cells": [
    {
      "cell_type": "markdown",
      "metadata": {
        "id": "0Fd6Wxlg-64x"
      },
      "source": [
        "# SCC.413 Applied Data Mining\n",
        "# Week 17\n",
        "# Tokenisation\n",
        "# Answers"
      ]
    },
    {
      "cell_type": "markdown",
      "metadata": {
        "id": "yRVBmY_n-644"
      },
      "source": [
        "## Contents\n",
        "- [Introduction](#intro)\n",
        "- [Data](#data)\n",
        "- [Code](#code)\n",
        "- [Functions and imports](#functions)\n",
        "- [Whitespace tokeniser](#whitespace)\n",
        "- [Matching tokeniser](#matching)\n",
        "- [NLTK tokeniser](#nltk)\n",
        "- [Custom tokeniser](#custom)\n",
        "- [Frequency analysis](#freq)\n",
        "- [Exercise](#exercise)"
      ]
    },
    {
      "cell_type": "markdown",
      "metadata": {
        "id": "Kh7i2lmO-646"
      },
      "source": [
        "<a name=\"intro\"></a>\n",
        "## Introduction\n",
        "\n",
        "In this lab you will be honing your regular expression skills to perform the key task of tokenisation. The aim of tokenisation is to separate the text into meaningful components that are useful for future analysis (e.g. counting or annotating). Often the most logical token is a \"word\" (e.g. for \"bag-of-words\" based methods), but deciding what constitutes a word is not straight-forward. At other times, punctuation should be maintained (e.g. for part of speech annotation). You will see that choosing the wrong tokenisation can impact follow-on analysis of the text."
      ]
    },
    {
      "cell_type": "markdown",
      "metadata": {
        "id": "RDQ2IIYM-648"
      },
      "source": [
        "<a name=\"data\"></a>\n",
        "## Data\n",
        "\n",
        "You will be trying different tokenisers. Four texts are provided for testing the tokenisers: `tweet.txt` - a single tweet for testing, `mumsnet.txt` - a collection of mumsnet forum posts as collected in last week's lab, and `mirrormirror.txt` & `charliex.txt` - short plot summaries of Star Trek episodes from Wikipedia. You are also welcome to collect and use your own data, utilising techniques from last week's lab. `tweet.txt` will be used primarily below, but feel free to swap any text throughout to aid your understanding."
      ]
    },
    {
      "cell_type": "markdown",
      "source": [
        "You should upload all of the provided files to a Google Drive folder, you can then access these files from your Python code. See also the files tab."
      ],
      "metadata": {
        "id": "tS7ckSyCBCoA"
      }
    },
    {
      "cell_type": "code",
      "source": [
        "from google.colab import drive\n",
        "drive.mount('/content/gdrive/')"
      ],
      "metadata": {
        "id": "ydCluoej2UY8",
        "colab": {
          "base_uri": "https://localhost:8080/"
        },
        "outputId": "a5d3d439-63a3-4bfc-a382-715d9b9d7bf6"
      },
      "execution_count": null,
      "outputs": [
        {
          "output_type": "stream",
          "name": "stdout",
          "text": [
            "Mounted at /content/gdrive/\n"
          ]
        }
      ]
    },
    {
      "cell_type": "markdown",
      "source": [
        "We save the folder we are working from as a variable for easy access. You may need to edit the path to match your own."
      ],
      "metadata": {
        "id": "trooi5ZMzSM0"
      }
    },
    {
      "cell_type": "code",
      "source": [
        "working_folder = '/content/gdrive/MyDrive/413/wk17/'"
      ],
      "metadata": {
        "id": "c1YsiHLvzKeW"
      },
      "execution_count": null,
      "outputs": []
    },
    {
      "cell_type": "markdown",
      "source": [
        "The below code adds the working folder to the system path, so you can import Python files from this folder."
      ],
      "metadata": {
        "id": "ktoDdLMkBVMX"
      }
    },
    {
      "cell_type": "code",
      "source": [
        "import sys\n",
        "sys.path.append(working_folder)"
      ],
      "metadata": {
        "id": "Cq_7TvOW34v5"
      },
      "execution_count": null,
      "outputs": []
    },
    {
      "cell_type": "markdown",
      "metadata": {
        "id": "XEkGEVgZ-648"
      },
      "source": [
        "<a name=\"code\"></a>\n",
        "## Code\n",
        "\n",
        "If you prefer, `tokeniser.py` provides skeleton code for what is presented below. It simply runs the tokenisation method provided in `tokenise(text)` over the text file provided on the command line, printing out the tokens 1 per line (as is standard for tokenisation), and a total count of tokens found. To run the tokeniser over a file, run the below on your command line:\n",
        "\n",
        "```\n",
        "$ python3 tokeniser.py infile.txt\n",
        "```\n",
        "\n",
        "You can redirect the printed output to a file if you wish, simply add `> outfile.txt` to the end of the command."
      ]
    },
    {
      "cell_type": "markdown",
      "metadata": {
        "id": "zZa6fVAd-649"
      },
      "source": [
        "<a name=\"functions\"></a>\n",
        "## Functions and Imports\n",
        "\n",
        "We'll need regular expressions later (you might want to use the `regex` library instead). We'll also be using NLTK. You'll need to download a tokeniser model (this is only needed once)."
      ]
    },
    {
      "cell_type": "code",
      "execution_count": null,
      "metadata": {
        "colab": {
          "base_uri": "https://localhost:8080/"
        },
        "id": "13WiKLCs-64-",
        "outputId": "33bc9ef6-4aaa-44c4-85db-84eaf82cf246"
      },
      "outputs": [
        {
          "output_type": "stream",
          "name": "stdout",
          "text": [
            "[nltk_data] Downloading package punkt to /root/nltk_data...\n",
            "[nltk_data]   Unzipping tokenizers/punkt.zip.\n"
          ]
        },
        {
          "output_type": "execute_result",
          "data": {
            "text/plain": [
              "True"
            ]
          },
          "metadata": {},
          "execution_count": 11
        }
      ],
      "source": [
        "import re\n",
        "import sys\n",
        "import nltk\n",
        "nltk.download('punkt') #download tokeniser models, will download first time, and find on second run. You can remove this line once installed"
      ]
    },
    {
      "cell_type": "markdown",
      "metadata": {
        "id": "6ptRNzuD-65C"
      },
      "source": [
        "Functions will be used in this lab to define regularly used code.\n",
        "\n",
        "First to open a file, tokenise it with a provided tokeniser method, and return a list of tokens:"
      ]
    },
    {
      "cell_type": "code",
      "execution_count": null,
      "metadata": {
        "id": "8tmU1P_e-65E"
      },
      "outputs": [],
      "source": [
        "# takes file and tokeniser function, reads line by line, and returns list of tokens.\n",
        "def tokenise_file(textfile, tokenise):\n",
        "    with open(textfile, encoding=\"utf-8\") as f:\n",
        "        tokens = []\n",
        "        lines = f.readlines()\n",
        "        for line in lines:\n",
        "            line_tokens = tokenise(line.strip())\n",
        "            tokens.extend(line_tokens)\n",
        "    return tokens"
      ]
    },
    {
      "cell_type": "markdown",
      "metadata": {
        "id": "g4SMOe5B-65E"
      },
      "source": [
        "To print a list of tokens and the number of tokens present, and to a file:"
      ]
    },
    {
      "cell_type": "code",
      "execution_count": null,
      "metadata": {
        "id": "E6Ji5A0y-65F"
      },
      "outputs": [],
      "source": [
        "def print_tokens(tokens):\n",
        "    for token in tokens: #iterate tokens and print one per line.\n",
        "        print(token)\n",
        "    print(f\"Total: {len(tokens)} tokens\")"
      ]
    },
    {
      "cell_type": "code",
      "execution_count": null,
      "metadata": {
        "id": "n1QOddPI-65G"
      },
      "outputs": [],
      "source": [
        "def save_tokens(tokens, outfile):\n",
        "    with open(outfile, 'w', encoding=\"utf-8\") as f:\n",
        "        for token in tokens: #iterate tokens and output to file.\n",
        "            f.write(token + '\\n')\n",
        "        f.write(f\"Total: {len(tokens)} tokens\")"
      ]
    },
    {
      "cell_type": "markdown",
      "metadata": {
        "id": "miZWiMYe-65H"
      },
      "source": [
        "We open our tweet file as follows:"
      ]
    },
    {
      "cell_type": "code",
      "execution_count": null,
      "metadata": {
        "colab": {
          "base_uri": "https://localhost:8080/"
        },
        "id": "6yfLkgvo-65H",
        "outputId": "47092886-74e1-4cb7-976e-f144b34ed162"
      },
      "outputs": [
        {
          "output_type": "stream",
          "name": "stdout",
          "text": [
            "This week we’re at a #careers event in #Blackpool @Pleasure_Beach, talking to students about #languages and language careers! Come have a go at some of our activities! 🌏#LoveLanguages #LoveLancaster @Lancaster_CI https://t.co/vQQWdrUuqh\n"
          ]
        }
      ],
      "source": [
        "# for reference\n",
        "with open(working_folder + \"tweet.txt\", encoding=\"utf-8\") as f:\n",
        "    tweet = f.read()\n",
        "print(tweet)"
      ]
    },
    {
      "cell_type": "markdown",
      "metadata": {
        "id": "E5Fky5BP-65I"
      },
      "source": [
        "<a name=\"whitespace\"></a>\n",
        "## Whitespace tokeniser"
      ]
    },
    {
      "cell_type": "markdown",
      "metadata": {
        "id": "EGtPn19b-65J"
      },
      "source": [
        "The simplest method of tokenisation is to just split the text on whitespace. The tokeniser below does just this, using Python's split function, simply on a space character."
      ]
    },
    {
      "cell_type": "code",
      "execution_count": null,
      "metadata": {
        "id": "2XVOqrVn-65L"
      },
      "outputs": [],
      "source": [
        "def whitespace_tokenise(text):\n",
        "    return text.split(\" \")"
      ]
    },
    {
      "cell_type": "code",
      "execution_count": null,
      "metadata": {
        "colab": {
          "base_uri": "https://localhost:8080/"
        },
        "id": "4JXCh1GC-65M",
        "outputId": "bcd675c0-f108-42a2-d466-1a13377fa90f"
      },
      "outputs": [
        {
          "output_type": "stream",
          "name": "stdout",
          "text": [
            "This week we’re at a #careers event in #Blackpool @Pleasure_Beach, talking to students about #languages and language careers! Come have a go at some of our activities! 🌏#LoveLanguages #LoveLancaster @Lancaster_CI https://t.co/vQQWdrUuqh\n",
            "\n",
            "This\n",
            "week\n",
            "we’re\n",
            "at\n",
            "a\n",
            "#careers\n",
            "event\n",
            "in\n",
            "#Blackpool\n",
            "@Pleasure_Beach,\n",
            "talking\n",
            "to\n",
            "students\n",
            "about\n",
            "#languages\n",
            "and\n",
            "language\n",
            "careers!\n",
            "Come\n",
            "have\n",
            "a\n",
            "go\n",
            "at\n",
            "some\n",
            "of\n",
            "our\n",
            "activities!\n",
            "🌏#LoveLanguages\n",
            "#LoveLancaster\n",
            "@Lancaster_CI\n",
            "https://t.co/vQQWdrUuqh\n",
            "Total: 31 tokens\n"
          ]
        }
      ],
      "source": [
        "#The whitespace_tokenise function has been defined, so can be passed as a callable object to the tokenise_file function.\n",
        "tokens = tokenise_file(working_folder + \"tweet.txt\", whitespace_tokenise)\n",
        "print(tweet)\n",
        "print()\n",
        "print_tokens(tokens)"
      ]
    },
    {
      "cell_type": "markdown",
      "metadata": {
        "id": "ZlccySDt-65N"
      },
      "source": [
        "Observe the output, what potential issues can you observe? Are any characters missing from the original input? Can you improve it?\n",
        "\n",
        "1. Can you think of a better white space tokeniser, e.g. that splits on multiple spaces, or other white space characters using a regular expression?\n",
        "\n",
        "2. Can you come up with an alternative than using split, and instead using findall with a regular expression to do the same? (See simple tokeniser below)"
      ]
    },
    {
      "cell_type": "code",
      "execution_count": null,
      "metadata": {
        "colab": {
          "base_uri": "https://localhost:8080/"
        },
        "id": "DW8To9Qi-65O",
        "outputId": "8e73a312-2697-4fea-e5dd-8654c8ff3efc"
      },
      "outputs": [
        {
          "output_type": "stream",
          "name": "stdout",
          "text": [
            "This\n",
            "week\n",
            "we’re\n",
            "at\n",
            "a\n",
            "#careers\n",
            "event\n",
            "in\n",
            "#Blackpool\n",
            "@Pleasure_Beach,\n",
            "talking\n",
            "to\n",
            "students\n",
            "about\n",
            "#languages\n",
            "and\n",
            "language\n",
            "careers!\n",
            "Come\n",
            "have\n",
            "a\n",
            "go\n",
            "at\n",
            "some\n",
            "of\n",
            "our\n",
            "activities!\n",
            "🌏#LoveLanguages\n",
            "#LoveLancaster\n",
            "@Lancaster_CI\n",
            "https://t.co/vQQWdrUuqh\n",
            "Total: 31 tokens\n"
          ]
        }
      ],
      "source": [
        "# 1. answer, actually given in the regex lab\n",
        "\n",
        "whitespace_regex = re.compile(r\"\\s+\")\n",
        "split = whitespace_regex.split(tweet)\n",
        "print_tokens(split)"
      ]
    },
    {
      "cell_type": "code",
      "execution_count": null,
      "metadata": {
        "colab": {
          "base_uri": "https://localhost:8080/"
        },
        "id": "pTJmx3TN-65P",
        "outputId": "3dbecca2-a4d2-42b3-c63a-26ad96337293"
      },
      "outputs": [
        {
          "output_type": "stream",
          "name": "stdout",
          "text": [
            "This\n",
            "week\n",
            "we’re\n",
            "at\n",
            "a\n",
            "#careers\n",
            "event\n",
            "in\n",
            "#Blackpool\n",
            "@Pleasure_Beach,\n",
            "talking\n",
            "to\n",
            "students\n",
            "about\n",
            "#languages\n",
            "and\n",
            "language\n",
            "careers!\n",
            "Come\n",
            "have\n",
            "a\n",
            "go\n",
            "at\n",
            "some\n",
            "of\n",
            "our\n",
            "activities!\n",
            "🌏#LoveLanguages\n",
            "#LoveLancaster\n",
            "@Lancaster_CI\n",
            "https://t.co/vQQWdrUuqh\n",
            "Total: 31 tokens\n"
          ]
        }
      ],
      "source": [
        "# 2. answer\n",
        "\n",
        "p = re.compile(r\"\\S+\")\n",
        "print_tokens(p.findall(tweet))"
      ]
    },
    {
      "cell_type": "markdown",
      "metadata": {
        "id": "gcWFVr8K-65P"
      },
      "source": [
        "<a name=\"matching\"></a>\n",
        "## Matching tokeniser"
      ]
    },
    {
      "cell_type": "markdown",
      "metadata": {
        "id": "5V7aXGk1-65Q"
      },
      "source": [
        "Next we can try a very simple tokeniser that instead of finding the space between tokens, looks for patterns that match words. We use a basic regular expression for this."
      ]
    },
    {
      "cell_type": "code",
      "execution_count": null,
      "metadata": {
        "id": "cIu24Jjg-65R"
      },
      "outputs": [],
      "source": [
        "def simple_match_tokenise(text):\n",
        "    p = re.compile(r\"[a-zA-Z]+\")\n",
        "    return p.findall(text)"
      ]
    },
    {
      "cell_type": "code",
      "execution_count": null,
      "metadata": {
        "colab": {
          "base_uri": "https://localhost:8080/"
        },
        "id": "KNMsrvCa-65S",
        "outputId": "128604b0-167e-4e0d-e5a4-e229a771bbca"
      },
      "outputs": [
        {
          "output_type": "stream",
          "name": "stdout",
          "text": [
            "This week we’re at a #careers event in #Blackpool @Pleasure_Beach, talking to students about #languages and language careers! Come have a go at some of our activities! 🌏#LoveLanguages #LoveLancaster @Lancaster_CI https://t.co/vQQWdrUuqh\n",
            "\n",
            "This\n",
            "week\n",
            "we\n",
            "re\n",
            "at\n",
            "a\n",
            "careers\n",
            "event\n",
            "in\n",
            "Blackpool\n",
            "Pleasure\n",
            "Beach\n",
            "talking\n",
            "to\n",
            "students\n",
            "about\n",
            "languages\n",
            "and\n",
            "language\n",
            "careers\n",
            "Come\n",
            "have\n",
            "a\n",
            "go\n",
            "at\n",
            "some\n",
            "of\n",
            "our\n",
            "activities\n",
            "LoveLanguages\n",
            "LoveLancaster\n",
            "Lancaster\n",
            "CI\n",
            "https\n",
            "t\n",
            "co\n",
            "vQQWdrUuqh\n",
            "Total: 37 tokens\n"
          ]
        }
      ],
      "source": [
        "tokens = tokenise_file(working_folder + \"tweet.txt\", simple_match_tokenise)\n",
        "print(tweet)\n",
        "print()\n",
        "print_tokens(tokens)"
      ]
    },
    {
      "cell_type": "markdown",
      "metadata": {
        "id": "7tDwzba3-65U"
      },
      "source": [
        "Again, observe the output. What potential issues do you see? Why do you have more tokens? Are any characters missing from the original input?\n",
        "- Can you invert the function to use split instead?"
      ]
    },
    {
      "cell_type": "code",
      "execution_count": null,
      "metadata": {
        "colab": {
          "base_uri": "https://localhost:8080/"
        },
        "id": "jlDCvjZy-65V",
        "outputId": "a4f06ab0-7572-456b-d807-d711e5062861"
      },
      "outputs": [
        {
          "output_type": "stream",
          "name": "stdout",
          "text": [
            "This\n",
            "week\n",
            "we\n",
            "re\n",
            "at\n",
            "a\n",
            "careers\n",
            "event\n",
            "in\n",
            "Blackpool\n",
            "Pleasure\n",
            "Beach\n",
            "talking\n",
            "to\n",
            "students\n",
            "about\n",
            "languages\n",
            "and\n",
            "language\n",
            "careers\n",
            "Come\n",
            "have\n",
            "a\n",
            "go\n",
            "at\n",
            "some\n",
            "of\n",
            "our\n",
            "activities\n",
            "LoveLanguages\n",
            "LoveLancaster\n",
            "Lancaster\n",
            "CI\n",
            "https\n",
            "t\n",
            "co\n",
            "vQQWdrUuqh\n",
            "Total: 37 tokens\n"
          ]
        }
      ],
      "source": [
        "# answer\n",
        "\n",
        "not_letters_regex = re.compile(r\"[^a-zA-Z]+\")\n",
        "split = not_letters_regex.split(tweet)\n",
        "print_tokens(split)"
      ]
    },
    {
      "cell_type": "markdown",
      "metadata": {
        "id": "NSkB-sUa-65W"
      },
      "source": [
        "<a name=\"nltk\"></a>\n",
        "## NLTK Tokeniser\n",
        "\n",
        "All NLP toolkits, and many NLP tools themselves have built in tokenisers. [NLTK](http://www.nltk.org) is one of the best known ones and has a specialsed tokeniser for online text, and specifically Twitter data. Running the tokenisers is straight-forward, with methods provided below, `nltk_tokenise`: default, and `nltk_twitter_tokenise`: for Twitter. Note the \"Twitter\" tokeniser will be applicable to other online text too, e.g. forum data. Run these tokenisers over the texts and compare the results."
      ]
    },
    {
      "cell_type": "code",
      "execution_count": null,
      "metadata": {
        "id": "UKYR47dj-65W"
      },
      "outputs": [],
      "source": [
        "def nltk_tokenise(text):\n",
        "    return nltk.word_tokenize(text)"
      ]
    },
    {
      "cell_type": "code",
      "execution_count": null,
      "metadata": {
        "id": "8sioNBGL-65X"
      },
      "outputs": [],
      "source": [
        "def nltk_twitter_tokenise(text):\n",
        "    twtok = nltk.tokenize.TweetTokenizer()\n",
        "    return twtok.tokenize(text)"
      ]
    },
    {
      "cell_type": "code",
      "execution_count": null,
      "metadata": {
        "colab": {
          "base_uri": "https://localhost:8080/"
        },
        "id": "u4wur250-65X",
        "outputId": "818738db-c185-493c-8429-acd94be92b12"
      },
      "outputs": [
        {
          "output_type": "stream",
          "name": "stdout",
          "text": [
            "This week we’re at a #careers event in #Blackpool @Pleasure_Beach, talking to students about #languages and language careers! Come have a go at some of our activities! 🌏#LoveLanguages #LoveLancaster @Lancaster_CI https://t.co/vQQWdrUuqh\n",
            "\n",
            "This\n",
            "week\n",
            "we\n",
            "’\n",
            "re\n",
            "at\n",
            "a\n",
            "#\n",
            "careers\n",
            "event\n",
            "in\n",
            "#\n",
            "Blackpool\n",
            "@\n",
            "Pleasure_Beach\n",
            ",\n",
            "talking\n",
            "to\n",
            "students\n",
            "about\n",
            "#\n",
            "languages\n",
            "and\n",
            "language\n",
            "careers\n",
            "!\n",
            "Come\n",
            "have\n",
            "a\n",
            "go\n",
            "at\n",
            "some\n",
            "of\n",
            "our\n",
            "activities\n",
            "!\n",
            "🌏\n",
            "#\n",
            "LoveLanguages\n",
            "#\n",
            "LoveLancaster\n",
            "@\n",
            "Lancaster_CI\n",
            "https\n",
            ":\n",
            "//t.co/vQQWdrUuqh\n",
            "Total: 46 tokens\n"
          ]
        }
      ],
      "source": [
        "tokens = tokenise_file(working_folder + \"tweet.txt\", nltk_tokenise)\n",
        "print(tweet)\n",
        "print()\n",
        "print_tokens(tokens)"
      ]
    },
    {
      "cell_type": "code",
      "execution_count": null,
      "metadata": {
        "colab": {
          "base_uri": "https://localhost:8080/"
        },
        "id": "Ant0Jb4j-65Y",
        "outputId": "60774b2f-cce3-4334-d56b-cb2685a34ec5"
      },
      "outputs": [
        {
          "output_type": "stream",
          "name": "stdout",
          "text": [
            "This week we’re at a #careers event in #Blackpool @Pleasure_Beach, talking to students about #languages and language careers! Come have a go at some of our activities! 🌏#LoveLanguages #LoveLancaster @Lancaster_CI https://t.co/vQQWdrUuqh\n",
            "\n",
            "This\n",
            "week\n",
            "we\n",
            "’\n",
            "re\n",
            "at\n",
            "a\n",
            "#careers\n",
            "event\n",
            "in\n",
            "#Blackpool\n",
            "@Pleasure_Beach\n",
            ",\n",
            "talking\n",
            "to\n",
            "students\n",
            "about\n",
            "#languages\n",
            "and\n",
            "language\n",
            "careers\n",
            "!\n",
            "Come\n",
            "have\n",
            "a\n",
            "go\n",
            "at\n",
            "some\n",
            "of\n",
            "our\n",
            "activities\n",
            "!\n",
            "🌏\n",
            "#LoveLanguages\n",
            "#LoveLancaster\n",
            "@Lancaster_CI\n",
            "https://t.co/vQQWdrUuqh\n",
            "Total: 37 tokens\n"
          ]
        }
      ],
      "source": [
        "tokens = tokenise_file(working_folder + \"tweet.txt\", nltk_twitter_tokenise)\n",
        "print(tweet)\n",
        "print()\n",
        "print_tokens(tokens)"
      ]
    },
    {
      "cell_type": "markdown",
      "metadata": {
        "id": "sfxQKkFs-65b"
      },
      "source": [
        "What is dealt with better by NLTK? And by the Twitter tokeniser? Any potential issues outstanding?"
      ]
    },
    {
      "cell_type": "markdown",
      "metadata": {
        "id": "yUrozykp-65c"
      },
      "source": [
        ""
      ]
    },
    {
      "cell_type": "markdown",
      "metadata": {
        "id": "x6d7LPzZ-65d"
      },
      "source": [
        "<a name=\"custom\"></a>\n",
        "## Custom tokeniser"
      ]
    },
    {
      "cell_type": "markdown",
      "metadata": {
        "id": "q89llSiu-65f"
      },
      "source": [
        "The main task of this lab is to write your own tokeniser to list tokens useful for different purposes and different texts. You have a template for this in `custom_tokenise`. Here, a list of regular expression patterns are used to search for different types of tokens in turn, utilising *alternation* in one large compiled regular expression. You are provided with patterns for URLs, and simple words. Try this out on the tweet, the URLs should be tokenised separately."
      ]
    },
    {
      "cell_type": "code",
      "execution_count": null,
      "metadata": {
        "id": "P3HHJesa-65g"
      },
      "outputs": [],
      "source": [
        "def custom_tokenise(text):\n",
        "    URL = '(?:https?://)?(?:[-\\w]+\\.)+[a-zA-Z]{2,9}[-\\w/#~:;.?+=&%@~]*' #this is one possible URL pattern, more complicated patterns that catch different URLs are possible.\n",
        "    word = '\\w+'\n",
        "    patterns = (URL, word)\n",
        "    joint_patterns = '|'.join(patterns) #the patterns are split with | for alternation.\n",
        "    p = re.compile(r'(?:{})'.format(joint_patterns)) # format is used to build the pattern, surrounding with (?:...) for non-captured grouping for alternation.\n",
        "    return p.findall(text)"
      ]
    },
    {
      "cell_type": "code",
      "execution_count": null,
      "metadata": {
        "colab": {
          "base_uri": "https://localhost:8080/"
        },
        "id": "lAy7kwXQ-65j",
        "outputId": "b81f088b-ad70-40df-ae1b-b2c661ccd9f0"
      },
      "outputs": [
        {
          "output_type": "stream",
          "name": "stdout",
          "text": [
            "This week we’re at a #careers event in #Blackpool @Pleasure_Beach, talking to students about #languages and language careers! Come have a go at some of our activities! 🌏#LoveLanguages #LoveLancaster @Lancaster_CI https://t.co/vQQWdrUuqh\n",
            "\n",
            "This\n",
            "week\n",
            "we\n",
            "re\n",
            "at\n",
            "a\n",
            "careers\n",
            "event\n",
            "in\n",
            "Blackpool\n",
            "Pleasure_Beach\n",
            "talking\n",
            "to\n",
            "students\n",
            "about\n",
            "languages\n",
            "and\n",
            "language\n",
            "careers\n",
            "Come\n",
            "have\n",
            "a\n",
            "go\n",
            "at\n",
            "some\n",
            "of\n",
            "our\n",
            "activities\n",
            "LoveLanguages\n",
            "LoveLancaster\n",
            "Lancaster_CI\n",
            "https://t.co/vQQWdrUuqh\n",
            "Total: 32 tokens\n"
          ]
        }
      ],
      "source": [
        "tokens = tokenise_file(working_folder + \"tweet.txt\", custom_tokenise)\n",
        "print(tweet)\n",
        "print()\n",
        "print_tokens(tokens)"
      ]
    },
    {
      "cell_type": "markdown",
      "metadata": {
        "id": "IoMewC2y-65k"
      },
      "source": [
        "A point to be aware of here is the ordering of the pattern sequence. Regular expressions in Python (and most other languages) process alternation options in order (left to right). This means a longer match (i.e. greedy) may be ignored if an earlier option leads to a successful match (regular expression finds will not overlap). It is therefore important to consider the order of the regular expressions, as a more general pattern may match some text before a more specific pattern has chance to see it. You can see this in action by swapping the URL and word patterns (`patterns = (word,URL)`) and tokenising the tweet again, now the URL will not be tokenised separately as the word pattern hits first and consumes the start of the URLs."
      ]
    },
    {
      "cell_type": "markdown",
      "metadata": {
        "id": "SfoXeIoZ-65l"
      },
      "source": [
        "In order to aid understanding, a tokeniser is provided below specialised for the tokenising the `mirrormirror.txt`. Here the following tokenisation rules have been applied:\n",
        "- all punctuation is separated as individual tokens\n",
        "- titles and initials are single tokens (e.g. `Dr.` and `T.`)\n",
        "- hyphenated words are a single token (e.g. `mirror-universe`)\n",
        "- cases of possessive s (`'s`) are separated, e.g. `Kirk` & `'s` are separate tokens."
      ]
    },
    {
      "cell_type": "code",
      "execution_count": null,
      "metadata": {
        "id": "OTaN5BOY-65m"
      },
      "outputs": [],
      "source": [
        "def custom_tokenise_mirror(text):\n",
        "    title = \"[A-Z][a-z]?\\.\"\n",
        "    word = \"[-\\w]+\" # - in character set at start doesn't need escaping.\n",
        "    apos = \"\\'[a-z]*\"\n",
        "    other_chars = \"[^\\w\\s]\"\n",
        "    leftover = \"\\S+\" #Having a final catch all of \"non-white-space\" will pick up anything not explicity looked for earlier.\n",
        "    patterns = (title, apos, other_chars, word, leftover) #leftover not actually needed here, as all caught in other_chars.\n",
        "    joint_patterns = '|'.join(patterns)\n",
        "    p = re.compile(r'(?:{})'.format(joint_patterns))\n",
        "    return p.findall(text)"
      ]
    },
    {
      "cell_type": "code",
      "execution_count": null,
      "metadata": {
        "id": "dsj-qCXR-65m"
      },
      "outputs": [],
      "source": [
        "tokens = tokenise_file(working_folder + \"mirrormirror.txt\", custom_tokenise_mirror)\n",
        "save_tokens(tokens, \"mirrormirror_tok.txt\")"
      ]
    },
    {
      "cell_type": "markdown",
      "metadata": {
        "id": "HkxIQRcJ-65n"
      },
      "source": [
        "Observe the output in `mirrormirror_tok.txt`. Check you understand which patterns are catching which tokens?\n",
        "\n",
        "Can you edit the tokeniser so that punctuation tokens aren't included, but the tokens above (titles and initials) with punctuation are still present?"
      ]
    },
    {
      "cell_type": "markdown",
      "metadata": {
        "id": "Iyf-bqcI-65o"
      },
      "source": [
        "**Advanced**: Try running your tokeniser on `charliex.txt` too. This is very similar to mirrormirror.txt, but it also contains contractions (e.g. `don't`). How are these dealt with by the above tokeniser? Ideally, `n't` should be a separate token, to represent `not`. This is tricky, without breaking other parts or adding pre- or post-processing. A hint is available if you would like it."
      ]
    },
    {
      "cell_type": "code",
      "execution_count": null,
      "metadata": {
        "id": "e96u54tw-65p"
      },
      "outputs": [],
      "source": [
        "# Answer\n",
        "# hint is that you need a negative lookahead for what to do around 't.\n",
        "# this is a good one to step through on a whiteboard to check the input string and where in the regex you are.\n",
        "\n",
        "def custom_tokenise_charliex(text):\n",
        "    title = \"[A-Z][a-z]\\.\"\n",
        "    word = \"[-\\w]+(?!\\'t)\" #negative lookahead needed so that if get to don, but then lookahead to 't, then do is consumed, and n't is next in sequence. If we don't have t, and just lookahead for ', then Kirk would be rejected with ' next (Kirk's), so Kir would be consumed, k's would not be valid, so the k ends up being lost.\n",
        "    nt = \"n\\'t\"\n",
        "    apos = \"\\'[a-z]*\"\n",
        "    other_chars = \"[^\\w\\s]\"\n",
        "    leftover = \"\\S+\"\n",
        "    patterns = (title, nt, apos, other_chars, word)\n",
        "    joint_patterns = \"|\".join(patterns)\n",
        "    p = re.compile(r\"(%s)\" % joint_patterns)\n",
        "    return p.findall(text)"
      ]
    },
    {
      "cell_type": "code",
      "source": [
        "tokens = tokenise_file(working_folder + \"charliex.txt\", custom_tokenise_charliex)\n",
        "save_tokens(tokens, \"charliex_tok.txt\")"
      ],
      "metadata": {
        "id": "v9v_oAM6CLjd"
      },
      "execution_count": null,
      "outputs": []
    },
    {
      "cell_type": "markdown",
      "metadata": {
        "id": "zjbPsiSC-65r"
      },
      "source": [
        "<a name=\"freq\"></a>\n",
        "## Frequency analysis\n",
        "Once we have text tokenised we can start to count words, and do some analysis. We will start in earnest with this next week. For now, we will do a simple counting of tokens and producing a frequency list and plot.\n",
        "\n",
        "The `frequency_analysis` method takes a list of tokens (outputted from the various tokenise methods) and counts the frequency of each token. The list of tokens is printed alongside the frequency of each, in descending frequency order. A frequency plot is also produced, with the top 20 tokens as default.\n",
        "\n",
        "Examining the frequency list (and token streams) can help to find common tokenisation issues.\n",
        "\n",
        "You can try this on different texts. Increase the number of items in the plot, given enough text you should start to see a nice [Zipfian curve](https://en.wikipedia.org/wiki/Zipf\\%27s_law). Try `cumulative=True`."
      ]
    },
    {
      "cell_type": "code",
      "execution_count": null,
      "metadata": {
        "id": "WGM-m3jN-65s"
      },
      "outputs": [],
      "source": [
        "%matplotlib inline\n",
        "\n",
        "def frequency_analysis(tokens, top=20):\n",
        "    freq = nltk.FreqDist(tokens)\n",
        "    for key,val in freq.most_common(top):\n",
        "        print(key,val,sep=\"\\t\")\n",
        "\n",
        "    freq.plot(top, cumulative=False)"
      ]
    },
    {
      "cell_type": "code",
      "execution_count": null,
      "metadata": {
        "colab": {
          "base_uri": "https://localhost:8080/",
          "height": 666
        },
        "id": "1wGmAEAM-65s",
        "outputId": "a2928256-b8ce-448a-d920-b13fe6b77cf2"
      },
      "outputs": [
        {
          "output_type": "stream",
          "name": "stdout",
          "text": [
            ",\t68\n",
            "the\t55\n",
            ".\t42\n",
            "to\t39\n",
            "Kirk\t33\n",
            "and\t33\n",
            "Spock\t20\n",
            "\"\t17\n",
            "a\t16\n",
            "that\t14\n",
            "of\t14\n",
            "'s\t12\n",
            "his\t12\n",
            "their\t11\n",
            "Scott\t10\n",
            "for\t10\n",
            "in\t10\n",
            "transporter\t9\n",
            "is\t9\n",
            "McCoy\t8\n"
          ]
        },
        {
          "output_type": "display_data",
          "data": {
            "image/png": "[encoded data removed]",
            "text/plain": [
              "<Figure size 432x288 with 1 Axes>"
            ]
          },
          "metadata": {
            "needs_background": "light"
          }
        }
      ],
      "source": [
        "tokens = tokenise_file(working_folder + \"mirrormirror.txt\", custom_tokenise_mirror)\n",
        "frequency_analysis(tokens)"
      ]
    },
    {
      "cell_type": "markdown",
      "metadata": {
        "id": "KU2tFexs-65t"
      },
      "source": [
        "<a name=\"exercise\"></a>\n",
        "## Exercise\n",
        "\n",
        "Build a tokeniser for the mumsnet forum data (`mumsnet.txt`) by building on the `custom_tokenise` method. Produce the frequency analysis as above. Tokenise the text with the following rules:\n",
        "- all punctuation separated as individual tokens, unless sequences of punctuation (e.g. `!!!`), which should be combined to a single token.\n",
        "- URLs, hashtags, and mentions as separate tokens\n",
        "- hyphenated words as a single token\n",
        "- words with apostrophes should be a single token (e.g. `don't`, `I'm` and `1940's`)\n",
        "- **Advanced/Extra**: Emoticons separated as separate tokens (e.g. `:-)`)\n",
        "- **Advanced/Extra**: You will find other sequences in the text that should be single tokens, deal with as many of these as possible for as clean a tokenisation as possible ready for creating a frequency list.\n",
        "\n",
        "You may want to consider pre-processing (i.e. cleaning/normalising) the text to make tokenisation easier.\n",
        "\n",
        "Remember, it's important to look at the text, the token list, and the frequency analysis to see issues you may need to deal with."
      ]
    },
    {
      "cell_type": "code",
      "execution_count": null,
      "metadata": {
        "id": "eQE3Bsma-65u"
      },
      "outputs": [],
      "source": [
        "# Exercise, edit the function below\n",
        "\n",
        "def custom_tokenise_forum(text):\n",
        "    URL = '(?:https?://)?(?:[-\\w]+\\.)+[a-zA-Z]{2,9}[-\\w/#~:;.?+=&%@~]*' #this is one possible URL pattern, more complicated patterns that catch different URLs are possible.\n",
        "    word = '\\w+'\n",
        "    patterns = (URL, word)\n",
        "    joint_patterns = '|'.join(patterns) #the patterns are split with | for alternation.\n",
        "    p = re.compile(r'(?:{})'.format(joint_patterns)) # format is used to build the pattern, surrounding with (?:...) for non-captured grouping for alternation.\n",
        "    return p.findall(text)"
      ]
    },
    {
      "cell_type": "code",
      "execution_count": null,
      "metadata": {
        "id": "MajcqndU-65v"
      },
      "outputs": [],
      "source": [
        "# answer\n",
        "\n",
        "def custom_tokenise_forum(text):\n",
        "    URL = '(?:https?://)?(?:[-\\w]+\\.)+[a-zA-Z]{2,9}[-\\w/#~:;.?+=&%@~]*' #this is one possible URL pattern, more complicated patterns that catch different URLs are possible.\n",
        "    word = '[-\\'’\\w]+'\n",
        "    other_chars = \"[^\\w\\s]+\"\n",
        "    leftover = \"\\S+\"\n",
        "    hashtagsmentions = \"[#@]\\w+\"\n",
        "    patterns = (URL, hashtagsmentions, other_chars, word, leftover)\n",
        "    #patterns = (URL, word)\n",
        "    joint_patterns = '|'.join(patterns) #the patterns are split with | for alternation.\n",
        "    p = re.compile(r'(?:{})'.format(joint_patterns)) # format is used to build the pattern, surrounding with (?:...) for non-captured grouping for alternation.\n",
        "    return p.findall(text)"
      ]
    },
    {
      "cell_type": "code",
      "execution_count": null,
      "metadata": {
        "colab": {
          "base_uri": "https://localhost:8080/",
          "height": 1000
        },
        "id": "KxELknxS-65w",
        "outputId": "90faf2a4-bb55-4ca2-cac4-caac2012d0aa"
      },
      "outputs": [
        {
          "output_type": "stream",
          "name": "stdout",
          "text": [
            "the\t120\n",
            "I\t61\n",
            "it\t57\n",
            "a\t55\n",
            "to\t55\n",
            "and\t53\n",
            "of\t35\n",
            "is\t34\n",
            "s\t33\n",
            "toot\t32\n",
            "that\t28\n",
            "in\t26\n",
            "for\t25\n",
            "my\t25\n",
            "have\t23\n",
            "off\t20\n",
            "when\t18\n",
            "you\t17\n",
            "on\t17\n",
            "them\t17\n",
            "vtech\t16\n",
            "this\t16\n",
            "with\t15\n",
            "It\t15\n",
            "t\t15\n",
            "an\t15\n",
            "but\t15\n",
            "so\t14\n",
            "as\t14\n",
            "My\t13\n",
            "m\t13\n",
            "we\t13\n",
            "The\t13\n",
            "song\t12\n",
            "toy\t12\n",
            "one\t12\n",
            "has\t11\n",
            "toys\t11\n",
            "can\t11\n",
            "Vtech\t11\n",
            "up\t11\n",
            "are\t10\n",
            "just\t10\n",
            "me\t10\n",
            "over\t10\n",
            "annoying\t9\n",
            "get\t9\n",
            "be\t9\n",
            "walker\t9\n",
            "switch\t9\n",
            "like\t9\n",
            "they\t9\n",
            "singing\t9\n",
            "noisy\t8\n",
            "was\t8\n",
            "bought\t8\n",
            "not\t8\n",
            "at\t8\n",
            "out\t8\n",
            "We\t8\n",
            "DS\t8\n",
            "years\t7\n",
            "her\t7\n",
            "remember\t7\n",
            "all\t7\n",
            "he\t7\n",
            "still\t7\n",
            "night\t7\n",
            "which\t7\n",
            "ve\t7\n",
            "had\t7\n",
            "his\t7\n",
            "worst\t6\n",
            "button\t6\n",
            "cookie\t6\n",
            "jar\t6\n",
            "about\t6\n",
            "tech\t6\n",
            "too\t6\n",
            "Toot\t6\n",
            "from\t6\n",
            "our\t6\n",
            "batteries\t6\n",
            "little\t6\n",
            "love\t6\n",
            "old\t5\n",
            "most\t5\n",
            "she\t5\n",
            "us\t5\n",
            "go\t5\n",
            "head\t5\n",
            "way\t5\n",
            "cars\t5\n",
            "noise\t5\n",
            "got\t5\n",
            "put\t5\n",
            "Alfie\t5\n",
            "or\t5\n",
            "train\t5\n",
            "thread\t5\n"
          ]
        },
        {
          "output_type": "display_data",
          "data": {
            "image/png": "[encoded data removed]",
            "text/plain": [
              "<Figure size 432x288 with 1 Axes>"
            ]
          },
          "metadata": {
            "needs_background": "light"
          }
        }
      ],
      "source": [
        "tokens = tokenise_file(working_folder + \"mumsnet.txt\", custom_tokenise_forum)\n",
        "save_tokens(tokens,\"mumsnet_tok.txt\")\n",
        "frequency_analysis(tokens,100)"
      ]
    },
    {
      "cell_type": "code",
      "execution_count": null,
      "metadata": {
        "id": "i8TXvUre-65w"
      },
      "outputs": [],
      "source": [
        ""
      ]
    }
  ],
  "metadata": {
    "kernelspec": {
      "display_name": "Python 3",
      "language": "python",
      "name": "python3"
    },
    "language_info": {
      "codemirror_mode": {
        "name": "ipython",
        "version": 3
      },
      "file_extension": ".py",
      "mimetype": "text/x-python",
      "name": "python",
      "nbconvert_exporter": "python",
      "pygments_lexer": "ipython3",
      "version": "3.7.2"
    },
    "colab": {
      "name": "413-wk17-tokenisation-answers.ipynb",
      "provenance": [],
      "collapsed_sections": [],
      "toc_visible": true
    }
  },
  "nbformat": 4,
  "nbformat_minor": 0
}