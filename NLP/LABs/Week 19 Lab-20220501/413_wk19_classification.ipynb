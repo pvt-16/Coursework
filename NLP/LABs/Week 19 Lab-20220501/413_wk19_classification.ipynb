{
  "cells": [
    {
      "cell_type": "markdown",
      "metadata": {
        "id": "VMr2dRvOS2dU"
      },
      "source": [
        "# SCC.413 Applied Data Mining\n",
        "# Week 19\n",
        "# Classification with scikit-learn "
      ]
    },
    {
      "cell_type": "markdown",
      "metadata": {
        "id": "JJ3rw3WgS2da"
      },
      "source": [
        "## Contents\n",
        "* [Introduction](#intro)\n",
        "* [Preamble](#preamble)\n",
        "* [Dataset](#dataset)\n",
        "* [Train / Test split](#split)\n",
        "* [CountVectorizer](#vectorizer)\n",
        "* [Fitting a classifier](#fitting)\n",
        "* [Making predictions](#predictions)\n",
        "* [Evaluation](#eval)\n",
        "* [Pipelines](#pipelines)\n",
        "* [Cross validation](#cv)\n",
        "* [Scaling and Normalization](#scaling)\n",
        "* [Feature selection](#selection)\n",
        "* [Scaling and Normalization](#scaling)\n",
        "* [Optimisation with GridSearch](#gridsearch)\n",
        "* [Customising preprocessing and feature extraction](#custom)\n",
        "* [Exercise](#ex)"
      ]
    },
    {
      "cell_type": "markdown",
      "metadata": {
        "id": "FboWcRciS2db"
      },
      "source": [
        "<a name=\"intro\"></a>\n",
        "## Introduction\n",
        "\n",
        "In this lab you will be using [scikit-learn (sklearn)](https://scikit-learn.org/stable/index.html) to classify texts. sci-kit learn provides numerous classification algorithms for use, and other tools for preprocessing, feature selection, and evaluation. "
      ]
    },
    {
      "cell_type": "markdown",
      "metadata": {
        "id": "5fWGjAeOS2db"
      },
      "source": [
        "We will be using authorship analysis as an example of classification, but the same techniques can be used for various NLP tasks involving classification, e.g. classifying topics, sentiment classification, etc. The features and documents used should be dictated by the task."
      ]
    },
    {
      "cell_type": "markdown",
      "metadata": {
        "id": "WKcxCEnWQjfg"
      },
      "source": [
        "<a name=\"preamble\"></a>\n",
        "## Preamble"
      ]
    },
    {
      "cell_type": "markdown",
      "source": [
        "You should upload all of the provided files to a Google Drive folder, you can then access these files from your Python code. See also the files tab."
      ],
      "metadata": {
        "id": "tS7ckSyCBCoA"
      }
    },
    {
      "cell_type": "code",
      "source": [
        "from google.colab import drive\n",
        "drive.mount('/content/gdrive/')"
      ],
      "metadata": {
        "id": "ydCluoej2UY8"
      },
      "execution_count": null,
      "outputs": []
    },
    {
      "cell_type": "markdown",
      "source": [
        "We save the folder we are working from as a variable for easy access. You may need to edit the path to match your own."
      ],
      "metadata": {
        "id": "trooi5ZMzSM0"
      }
    },
    {
      "cell_type": "code",
      "source": [
        "working_folder = '/content/gdrive/MyDrive/413/wk19/'"
      ],
      "metadata": {
        "id": "c1YsiHLvzKeW"
      },
      "execution_count": null,
      "outputs": []
    },
    {
      "cell_type": "markdown",
      "source": [
        "The below code adds the working folder to the system path, so you can import Python files from this folder."
      ],
      "metadata": {
        "id": "ktoDdLMkBVMX"
      }
    },
    {
      "cell_type": "code",
      "source": [
        "import sys\n",
        "sys.path.append(working_folder)"
      ],
      "metadata": {
        "id": "Cq_7TvOW34v5"
      },
      "execution_count": null,
      "outputs": []
    },
    {
      "cell_type": "markdown",
      "metadata": {
        "id": "XV3gvqRHS2dc"
      },
      "source": [
        "<a name=\"dataset\"></a>\n",
        "## Dataset (Twitter GB celebs)"
      ]
    },
    {
      "cell_type": "markdown",
      "metadata": {
        "id": "XSb_X-u_S2dc"
      },
      "source": [
        "We will use a small dataset of 70 British Twitter \"celebrities\" for demonstration. A larger dataset of US Twitter celebrities is also available, but the increased size will mean that extracting features and fitting models will take longer."
      ]
    },
    {
      "cell_type": "markdown",
      "metadata": {
        "id": "UvZWySbVS2dd"
      },
      "source": [
        "A simple function for extracting filenames from a provided folder is given below. We pass filenames to sklearn to load the file and extract text, to avoid loading the whole corpus into memory. We can also pass in text directly (the default)."
      ]
    },
    {
      "cell_type": "code",
      "execution_count": null,
      "metadata": {
        "id": "FOQwqt6iS2de"
      },
      "outputs": [],
      "source": [
        "from os import listdir\n",
        "from os.path import isfile, join, splitext, split\n",
        "\n",
        "def list_files(folder):\n",
        "    txtfiles = [join(folder, f) for f in listdir(folder) if isfile(join(folder, f)) and f.endswith(\".txt\")]\n",
        "    return txtfiles"
      ]
    },
    {
      "cell_type": "markdown",
      "metadata": {
        "id": "tJHuq9sBS2dg"
      },
      "source": [
        "We will start by performing binary classification of gender (gender can be non-binary, but we focus on two genders here to simplify matters). The celeb data has been split into female and male folders, which are read in below and saved to the variable X (the standard \"features\" dataset variable). We store labels (classes) separately in the variable y."
      ]
    },
    {
      "cell_type": "code",
      "execution_count": null,
      "metadata": {
        "id": "SVXeENapS2dh"
      },
      "outputs": [],
      "source": [
        "f_files = list_files(working_folder + \"celebs-gb-txt/female\")\n",
        "m_files = list_files(working_folder + \"celebs-gb-txt/male\")\n",
        "X = f_files + m_files #X is usually used to denote the dataset to be trained and tested on, i.e. the features (or where features are extracted from)\n",
        "y = [\"female\"] * len(f_files) + [\"male\"] * len(m_files) #y is usually used to store the labels/classes. Here we simply repeat female for how many female users we have, and then the same for male. Obviously X and y must be in same order.\n",
        "\n",
        "print(len(X), len(y))"
      ]
    },
    {
      "cell_type": "markdown",
      "metadata": {
        "id": "U0cNj3gxS2di"
      },
      "source": [
        "X and y should be the same length, with elements in the lists corresponding to eachother."
      ]
    },
    {
      "cell_type": "code",
      "execution_count": null,
      "metadata": {
        "id": "8q-ODIY9S2dj"
      },
      "outputs": [],
      "source": [
        "print(y.count(\"female\"), y.count(\"male\"))"
      ]
    },
    {
      "cell_type": "markdown",
      "metadata": {
        "id": "fchueDUCS2dk"
      },
      "source": [
        "We can see the dataset is biased to males. The US dataset has the same bias. This will generally mean that males are predicted more accurately (more training data), and we should consider that a classifier which predicts everybody as male would achieve a raw accuracy of 64.2%. One could undersample the data (e.g. choose a random subset of 25 males), but this would reduce the amount of training data available, or even oversample. This won't be covered here, but feel free to experiment."
      ]
    },
    {
      "cell_type": "markdown",
      "metadata": {
        "id": "40WUH2lVS2dl"
      },
      "source": [
        "<a name=\"split\"></a>\n",
        "## Train / Test split"
      ]
    },
    {
      "cell_type": "markdown",
      "metadata": {
        "id": "2XAk24RfS2dl"
      },
      "source": [
        "We need to train our model on some data, and test/evaluate on a separate set (later we will see evaluation through cross-validation). sklearn provides functionality for this with [`train_test_split`](https://scikit-learn.org/stable/modules/generated/sklearn.model_selection.train_test_split.html).\n",
        "\n",
        "We provide the full dataset/corpus (X), the labels (y), and how large the test portion should be. Here we split the data 4 parts training, 1 part test. We provide a random_state so the split is consistent on each run. We stratify the splits (with the labels list (y)) to maintain the same proportions/bias. Returned are X and y split into train and test lists (of the same type as the input)."
      ]
    },
    {
      "cell_type": "code",
      "execution_count": null,
      "metadata": {
        "id": "Lzm3hMCGS2dm"
      },
      "outputs": [],
      "source": [
        "from sklearn.model_selection import train_test_split\n",
        "\n",
        "X_train, X_test, y_train, y_test = train_test_split(X,y, test_size=0.2, random_state = 0, stratify=y)\n",
        "print(len(X_train), len(X_test))\n",
        "print(len(y_train), len(y_test))"
      ]
    },
    {
      "cell_type": "markdown",
      "metadata": {
        "id": "N6oLG5yhS2dn"
      },
      "source": [
        "X_train and y_train are the same length (and corresponding order is maintained), likewise for X_test and y_test."
      ]
    },
    {
      "cell_type": "code",
      "execution_count": null,
      "metadata": {
        "id": "Q4fxHYA0S2do"
      },
      "outputs": [],
      "source": [
        "print(y_train.count(\"female\"), y_train.count(\"male\"))\n",
        "print(y_test.count(\"female\"), y_test.count(\"male\"))"
      ]
    },
    {
      "cell_type": "markdown",
      "metadata": {
        "id": "m1dfQsPVS2do"
      },
      "source": [
        "The same proportions are maintained with stratify. Try setting stratify to None, and see the impact."
      ]
    },
    {
      "cell_type": "markdown",
      "metadata": {
        "id": "ikl1sUfaS2dp"
      },
      "source": [
        "<a name=\"vectorizer\"></a>\n",
        "## CountVectorizer"
      ]
    },
    {
      "cell_type": "markdown",
      "metadata": {
        "id": "V8fGVvdSS2dq"
      },
      "source": [
        "Now we have some training and test data, we can start training a model. We have files of texts, from which we need to extract features (the subject of previous labs) to form vectors that can be used in a classifier. sklearn provides some functionality for extracting text features (vectorization), in the form of [`CountVectorizer`](https://scikit-learn.org/stable/modules/generated/sklearn.feature_extraction.text.CountVectorizer.html)."
      ]
    },
    {
      "cell_type": "code",
      "execution_count": null,
      "metadata": {
        "id": "8FX2aiEhS2dq"
      },
      "outputs": [],
      "source": [
        "from sklearn.feature_extraction.text import CountVectorizer\n",
        "\n",
        "vectorizer = CountVectorizer(input='filename', analyzer='word')"
      ]
    },
    {
      "cell_type": "markdown",
      "metadata": {
        "id": "WUR7kgOkS2dr"
      },
      "source": [
        "We create an instance of the `CountVectorizer` with default settings, except for specifying the input type as `filename` meaning the files are read in and the text extracted. The default is to extract \"words\" from the text, meaning the text is tokenised and the words found counted (raw frequencies are returned).\n",
        "\n",
        "You can try the `char` `analyzer`, which counts characters (codepoints actually, see previous lab), or `char_wb`, which counts characters within words. You can also use ngrams for both words and chars with `ngram_range`. You can also remove stopwords, and several other options.\n",
        "\n",
        "To actually extract features (vectorize), we call `fit_transform` which both creates the vocabulary from the training data (fit), and creates a vector for each training instance (document), which in this case will be the counts for each word in the vocabulary. Because no restriction has been set on the vocabulary, every word type found in the training set will be included."
      ]
    },
    {
      "cell_type": "code",
      "execution_count": null,
      "metadata": {
        "id": "d1i7YIX1S2dr"
      },
      "outputs": [],
      "source": [
        "X_train_vectorized = vectorizer.fit_transform(X_train)"
      ]
    },
    {
      "cell_type": "markdown",
      "metadata": {
        "id": "sjOdayQ_S2ds"
      },
      "source": [
        "If we examine this vector, we can see it is large, with 56 rows (for the 56 training instances/documents), and over 180,000 features (the vocabulary)."
      ]
    },
    {
      "cell_type": "code",
      "execution_count": null,
      "metadata": {
        "id": "fb5dFtXlS2dt"
      },
      "outputs": [],
      "source": [
        "X_train_vectorized.shape"
      ]
    },
    {
      "cell_type": "markdown",
      "metadata": {
        "id": "4tKVLPDjS2dt"
      },
      "source": [
        "You can see the features (words) in the vocabulary with `get_feature_names` from the vectorizer (every 5000th feature is shown below). You can see some of the noise in the words."
      ]
    },
    {
      "cell_type": "code",
      "execution_count": null,
      "metadata": {
        "id": "pStCGJKTS2du"
      },
      "outputs": [],
      "source": [
        "vectorizer.get_feature_names_out()[::5000]"
      ]
    },
    {
      "cell_type": "markdown",
      "metadata": {
        "id": "nYIe4iZnS2du"
      },
      "source": [
        "<a name=\"fitting\"></a>\n",
        "## Fitting a classifier"
      ]
    },
    {
      "cell_type": "markdown",
      "metadata": {
        "id": "drw96AHLS2dv"
      },
      "source": [
        "Now we have features, we can train a classifier. We use standard [Logistic Regression](https://scikit-learn.org/stable/modules/generated/sklearn.linear_model.LogisticRegression.html) with default settings (except a `random_state` to get consistent results each run). Any classifier could be used here, and you are encouraged to try different classifiers, [many are available](https://scikit-learn.org/stable/supervised_learning.html).\n",
        "\n",
        "Once we have created the classifier, we run `fit`, providing the training vectors and training labels."
      ]
    },
    {
      "cell_type": "code",
      "execution_count": null,
      "metadata": {
        "id": "eHrNIplqS2dw"
      },
      "outputs": [],
      "source": [
        "from sklearn.linear_model import LogisticRegression\n",
        "\n",
        "clf = LogisticRegression(solver='liblinear', random_state=0)\n",
        "clf.fit(X_train_vectorized, y_train)"
      ]
    },
    {
      "cell_type": "markdown",
      "metadata": {
        "id": "avj1nyp7S2dx"
      },
      "source": [
        "<a name=\"predictions\"></a>\n",
        "## Making predictions"
      ]
    },
    {
      "cell_type": "markdown",
      "metadata": {
        "id": "oA51B8SGS2dy"
      },
      "source": [
        "We now have a trained model which we can use to make predictions, i.e. on our test set.\n",
        "\n",
        "First though, we need to convert our test data into the same form as the train set (same features). To do this, we use the vectorizer and call `transform`. What would happen if we instead used `fit_transform`?"
      ]
    },
    {
      "cell_type": "code",
      "execution_count": null,
      "metadata": {
        "id": "KRMcrznVS2dz"
      },
      "outputs": [],
      "source": [
        "X_test_vectorized = vectorizer.transform(X_test)\n",
        "X_test_vectorized.shape"
      ]
    },
    {
      "cell_type": "markdown",
      "metadata": {
        "id": "Ez94draFS2d1"
      },
      "source": [
        "We get a list of predictions by passing the vectorized test set to the classifier's predict method."
      ]
    },
    {
      "cell_type": "code",
      "execution_count": null,
      "metadata": {
        "id": "NPMX2KEKS2d3"
      },
      "outputs": [],
      "source": [
        "predictions = clf.predict(X_test_vectorized)\n",
        "print(predictions)"
      ]
    },
    {
      "cell_type": "markdown",
      "metadata": {
        "id": "HhC4f5P1S2d4"
      },
      "source": [
        "<a name=\"eval\"></a>\n",
        "## Evaluation"
      ]
    },
    {
      "cell_type": "markdown",
      "metadata": {
        "id": "9bYZtMz3S2d4"
      },
      "source": [
        "To evaluate how well the classifier is predicting, we compare to the actual labels (y_test). There are [various metrics available for evaluation](https://scikit-learn.org/stable/modules/model_evaluation.html#classification-metrics), a few are shown below."
      ]
    },
    {
      "cell_type": "code",
      "execution_count": null,
      "metadata": {
        "id": "SO6ebADNS2d5"
      },
      "outputs": [],
      "source": [
        "from sklearn.metrics import accuracy_score, classification_report, confusion_matrix\n",
        "\n",
        "print(\"Accuracy: \", accuracy_score(y_test, predictions))\n",
        "print(classification_report(y_test, predictions))\n",
        "print(confusion_matrix(y_test, predictions))"
      ]
    },
    {
      "cell_type": "markdown",
      "metadata": {
        "id": "w1W-FRqfS2d6"
      },
      "source": [
        "The confusion matrix shows actual against predicted, with actuals as rows, and predicted as columns. Order is the order of the classes in the classifier:"
      ]
    },
    {
      "cell_type": "code",
      "execution_count": null,
      "metadata": {
        "id": "-KRPRsQxS2d7"
      },
      "outputs": [],
      "source": [
        "clf.classes_"
      ]
    },
    {
      "cell_type": "markdown",
      "metadata": {
        "id": "EV89EsMyS2d8"
      },
      "source": [
        "So:\n",
        "- top left is the number of actual females predicted as female\n",
        "- top right is the number of actual females predicted as male\n",
        "- bottom left is the number of actual males predicted as female\n",
        "- bottom right is the number of actual males predicted as male.\n",
        "\n",
        "For binary classification, these are actually true positives (tp), false positives (fp), true negatives (tn), and false negatives (fn):\n",
        "\n",
        "`[[tn fp]\n",
        "  [fn tp]]`\n",
        "  \n",
        "The classes (only due to ordering) are 0 (negative): 'female' and 1 (positive): 'male'. Hence a male predicted as male is considered a 'true positive', and a female predicted as female is considered as 'true negatives'. But these labels are meaningless when we are not classifying successes or hits (e.g. for information retrieval).\n",
        "\n",
        "A nice way to view a confusion matrix is with a heatmap:"
      ]
    },
    {
      "cell_type": "code",
      "execution_count": null,
      "metadata": {
        "id": "vcbGhkvNS2d9"
      },
      "outputs": [],
      "source": [
        "import seaborn as sns\n",
        "import pandas as pd\n",
        "import matplotlib.pyplot as plt\n",
        "%matplotlib inline\n",
        "\n",
        "def confusion_matrix_heatmap(cm, index):\n",
        "    cmdf = pd.DataFrame(cm, index = index, columns=index)\n",
        "    dims = (5, 5)\n",
        "    fig, ax = plt.subplots(figsize=dims)\n",
        "    sns.heatmap(cmdf, annot=True, cmap=\"coolwarm\", center=0)\n",
        "    ax.set_ylabel('Actual')    \n",
        "    ax.set_xlabel('Predicted')"
      ]
    },
    {
      "cell_type": "code",
      "execution_count": null,
      "metadata": {
        "id": "H7qKQduwS2d-"
      },
      "outputs": [],
      "source": [
        "confusion_matrix_heatmap(confusion_matrix(y_test,predictions), clf.classes_)"
      ]
    },
    {
      "cell_type": "markdown",
      "metadata": {
        "id": "AiZHacu-S2d-"
      },
      "source": [
        "We can view which instances were predicted correctly and incorrectly as follows ([`zip`](https://docs.python.org/3.7/library/functions.html#zip) aggregates lists):"
      ]
    },
    {
      "cell_type": "code",
      "execution_count": null,
      "metadata": {
        "scrolled": true,
        "id": "yB_ZwtJ-S2d_"
      },
      "outputs": [],
      "source": [
        "shortened = [f.replace(working_folder, \"\") for f in X_test]\n",
        "pd.DataFrame(list(zip(shortened,y_test,predictions,y_test==predictions)), columns=[\"Instance\", \"Actual\", \"Predicted\",\"Correct\"])"
      ]
    },
    {
      "cell_type": "markdown",
      "metadata": {
        "id": "Qedh5QgRS2d_"
      },
      "source": [
        "<a name=\"pipelines\"></a>\n",
        "## Pipelines\n",
        "\n",
        "Steps for vectorization, preprocessing, normalising, feature selection, classification, and more can be combined with an sklearn [Pipeline](https://scikit-learn.org/stable/modules/generated/sklearn.pipeline.Pipeline.html). They conveniently combine steps to transform and fit training data. The same pipeline can then be used to transform and predict test data. They also make cross-validation much simpler, by running train/test on each fold by processing the pipeline in the same way."
      ]
    },
    {
      "cell_type": "code",
      "execution_count": null,
      "metadata": {
        "id": "DBV0875cS2d_"
      },
      "outputs": [],
      "source": [
        "from sklearn.pipeline import Pipeline\n",
        "\n",
        "model = Pipeline([\n",
        "    ('vectorizer', CountVectorizer(input='filename', analyzer='word')),\n",
        "    ('clf', LogisticRegression(solver='liblinear', random_state=0)),\n",
        "])"
      ]
    },
    {
      "cell_type": "markdown",
      "metadata": {
        "id": "hd9eq3pxS2eA"
      },
      "source": [
        "Above, we create a pipeline exactly as we have used above. To perform all transforms (before classifier), and do final training (fit), we simply use `fit`, providing the training data as below. `transform_fit` is called on all steps before final step has `fit` called."
      ]
    },
    {
      "cell_type": "code",
      "execution_count": null,
      "metadata": {
        "id": "96zGX2zYS2eB"
      },
      "outputs": [],
      "source": [
        "model.fit(X_train, y_train)"
      ]
    },
    {
      "cell_type": "markdown",
      "metadata": {
        "id": "qnqe549zS2eB"
      },
      "source": [
        "We now have a trained model. It is important to note, the Pipeline provides all functions from the last step, which in this case is a classifier. We can get predictions by simply calling `predict`. This performs all transforms on the (already fitted) steps before the classifier, and then finally predict on the last step."
      ]
    },
    {
      "cell_type": "code",
      "execution_count": null,
      "metadata": {
        "id": "B-3YgnOcS2eC"
      },
      "outputs": [],
      "source": [
        "predictions = model.predict(X_test)"
      ]
    },
    {
      "cell_type": "code",
      "execution_count": null,
      "metadata": {
        "scrolled": true,
        "id": "kzmcbdY6S2eC"
      },
      "outputs": [],
      "source": [
        "print(\"Accuracy: \", accuracy_score(y_test, predictions))\n",
        "print(classification_report(y_test, predictions))\n",
        "print(confusion_matrix(y_test, predictions))"
      ]
    },
    {
      "cell_type": "markdown",
      "metadata": {
        "id": "itlJCursS2eD"
      },
      "source": [
        "The results are exactly the same as above, as we've used the same steps. We can edit the pipeline parameters, or even replace whole steps. To reference a step, we use `step__param`. For example, to add a `max_features` to the vectorizer (to limit the number of features to the top n):"
      ]
    },
    {
      "cell_type": "code",
      "execution_count": null,
      "metadata": {
        "id": "NZC96T90S2eD"
      },
      "outputs": [],
      "source": [
        "model.set_params(vectorizer__max_features=1000)"
      ]
    },
    {
      "cell_type": "code",
      "execution_count": null,
      "metadata": {
        "id": "q8E6QEfTS2eE"
      },
      "outputs": [],
      "source": [
        "model.fit(X_train, y_train)\n",
        "predictions = model.predict(X_test)\n",
        "print(\"Accuracy: \", accuracy_score(y_test, predictions))\n",
        "print(classification_report(y_test, predictions))\n",
        "print(confusion_matrix(y_test, predictions))"
      ]
    },
    {
      "cell_type": "markdown",
      "metadata": {
        "id": "FVIoGI40S2eE"
      },
      "source": [
        "To change the classifier we use the same process, just referencing the named step for the classifier (`clf` here). Below we change to a [Multinomial Naive Bayes classifier](https://scikit-learn.org/stable/modules/generated/sklearn.naive_bayes.MultinomialNB.html)."
      ]
    },
    {
      "cell_type": "code",
      "execution_count": null,
      "metadata": {
        "id": "od9v6jH4S2eF"
      },
      "outputs": [],
      "source": [
        "from sklearn.naive_bayes import MultinomialNB\n",
        "\n",
        "model.set_params(clf=MultinomialNB())"
      ]
    },
    {
      "cell_type": "code",
      "execution_count": null,
      "metadata": {
        "id": "kG6IL1J_S2eF"
      },
      "outputs": [],
      "source": [
        "model.fit(X_train, y_train)\n",
        "predictions = model.predict(X_test)\n",
        "print(\"Accuracy: \", accuracy_score(y_test, predictions))\n",
        "print(classification_report(y_test, predictions))\n",
        "print(confusion_matrix(y_test, predictions))"
      ]
    },
    {
      "cell_type": "markdown",
      "metadata": {
        "id": "wSrf0cfHS2eG"
      },
      "source": [
        "<a name=\"cv\"></a>\n",
        "## Cross validation\n",
        "\n",
        "So far we have been using a single train/test split. What if our test set happens to be particularly easy or hard to predict? What if our training set contains noisier data than average. As discussed in the lecture, cross validation helps here by performing multiple evaluations, splitting the data into different train/test splits.\n",
        "\n",
        "With pipleines and sklearn, performing cross validation is straightforward, and we can be assured that the entire pipeline is fit and transformed for each fold individually. [Various methods are available for cross validation](https://scikit-learn.org/stable/modules/classes.html#module-sklearn.model_selection), we use [`cross_validate`](https://scikit-learn.org/stable/modules/generated/sklearn.model_selection.cross_validate.html#sklearn.model_selection.cross_validate) (to return multiple metrics) with [`StratifiedKFold`](https://scikit-learn.org/stable/modules/generated/sklearn.model_selection.StratifiedKFold.html#sklearn.model_selection.StratifiedKFold), with 5 folds."
      ]
    },
    {
      "cell_type": "code",
      "execution_count": null,
      "metadata": {
        "id": "yDqFmpY_S2eG"
      },
      "outputs": [],
      "source": [
        "from sklearn.model_selection import cross_validate, StratifiedKFold\n",
        "\n",
        "cv_scores = cross_validate(model, X, y, \n",
        "                           cv=StratifiedKFold(n_splits=5, shuffle=True, random_state=0), \n",
        "                           return_train_score=False, \n",
        "                           scoring=['accuracy', 'precision_weighted', 'recall_weighted', 'f1_weighted']\n",
        "                          )"
      ]
    },
    {
      "cell_type": "code",
      "execution_count": null,
      "metadata": {
        "scrolled": false,
        "id": "8-x_Pe2fS2eH"
      },
      "outputs": [],
      "source": [
        "print(cv_scores)"
      ]
    },
    {
      "cell_type": "code",
      "execution_count": null,
      "metadata": {
        "id": "uq3MQIXdS2eH"
      },
      "outputs": [],
      "source": [
        "def print_cv_scores_summary(name, scores):\n",
        "    print(\"{}: mean = {:.2f}%, sd = {:.2f}%, min = {:.2f}, max = {:.2f}\".format(name, scores.mean()*100, scores.std()*100, scores.min()*100, scores.max()*100))"
      ]
    },
    {
      "cell_type": "code",
      "execution_count": null,
      "metadata": {
        "id": "ZiIMla32S2eH"
      },
      "outputs": [],
      "source": [
        "print_cv_scores_summary(\"Accuracy\", cv_scores['test_accuracy'])\n",
        "print_cv_scores_summary(\"Precision\", cv_scores['test_precision_weighted'])\n",
        "print_cv_scores_summary(\"Recall\", cv_scores['test_recall_weighted'])\n",
        "print_cv_scores_summary(\"F1\", cv_scores['test_f1_weighted'])"
      ]
    },
    {
      "cell_type": "markdown",
      "metadata": {
        "id": "pEQQ4M3qS2eI"
      },
      "source": [
        "Results are returned for all folds, and by looking at the mean, standard deviation, and range of scores, one can observe the classifier performance more thoroughly. It would appear there is some variance between folds, and the original train/test split was quite lucky in terms of achieving the high accuracy observed under cross validation."
      ]
    },
    {
      "cell_type": "markdown",
      "metadata": {
        "id": "eVuIH03BS2eI"
      },
      "source": [
        "<a name=\"scaling\"></a>\n",
        "## Scaling and Normalization\n",
        "So far we have been using raw frequencies in our model. Often we want to standardize, scale or normalize features. [Various options are available](https://scikit-learn.org/stable/modules/preprocessing.html#preprocessing). A few options are demonstrated below.\n",
        "\n",
        "For 'standardization', i.e. to zero mean and unit variance, you can use [`StandardScaler`](https://scikit-learn.org/stable/modules/generated/sklearn.preprocessing.StandardScaler.html#sklearn.preprocessing.StandardScaler).\n",
        "\n",
        "For 'normalization', i.e. setting each instance's feature vector's norm (l1 or l2) to 1, you can use [`Normalizer`](https://scikit-learn.org/stable/modules/generated/sklearn.preprocessing.Normalizer.html#sklearn.preprocessing.Normalizer). Using l1 norm, it is possible to get something equivalent to relative frequencies of words (i.e. dividing by total frequency), but this is only the case if every word is included as a feature (which isn't normally the case).\n",
        "\n",
        "A more common normalization for text data is the already discussed TF-IDF. sklearn's [`TfidfTransformer`](https://scikit-learn.org/stable/modules/generated/sklearn.feature_extraction.text.TfidfTransformer.html#sklearn.feature_extraction.text.TfidfTransformer) can be utilised to calculate TF-IDF scores, though the implementation is different to that normally used, and includes l2 normalization after TF-IDF is calculated by default."
      ]
    },
    {
      "cell_type": "code",
      "execution_count": null,
      "metadata": {
        "id": "KZj4gvnSS2eJ"
      },
      "outputs": [],
      "source": [
        "from sklearn.feature_extraction.text import TfidfTransformer"
      ]
    },
    {
      "cell_type": "code",
      "execution_count": null,
      "metadata": {
        "id": "Nv3FEgsbS2eJ"
      },
      "outputs": [],
      "source": [
        "model = Pipeline([\n",
        "    ('vectorizer', CountVectorizer(input='filename', analyzer='word', max_features=1000)),\n",
        "    ('norm', TfidfTransformer(norm=None)),\n",
        "    ('clf', LogisticRegression(solver='liblinear', random_state=0)),\n",
        "])"
      ]
    },
    {
      "cell_type": "code",
      "execution_count": null,
      "metadata": {
        "id": "_0iewixmS2eJ"
      },
      "outputs": [],
      "source": [
        "cv_scores = cross_validate(model, X, y, cv=StratifiedKFold(n_splits=5, shuffle=True, random_state=0), return_train_score=False, scoring=['accuracy', 'precision_weighted', 'recall_weighted', 'f1_weighted'])\n",
        "print_cv_scores_summary(\"Accuracy\", cv_scores['test_accuracy'])\n",
        "print_cv_scores_summary(\"Precision\", cv_scores['test_precision_weighted'])\n",
        "print_cv_scores_summary(\"Recall\", cv_scores['test_recall_weighted'])\n",
        "print_cv_scores_summary(\"F1\", cv_scores['test_f1_weighted'])"
      ]
    },
    {
      "cell_type": "markdown",
      "metadata": {
        "id": "Q2NFt16VS2eK"
      },
      "source": [
        "Finally, another common normalization technique is to binarize features (i.e. scale to 0 for not present or 1 for present at any frequency), this is useful when documents are short (e.g. individual Tweets). This is performed with [`Binarizer`](https://scikit-learn.org/stable/modules/generated/sklearn.preprocessing.Binarizer.html#sklearn.preprocessing.Binarizer). Here we perform binarization before TF-IDF."
      ]
    },
    {
      "cell_type": "code",
      "execution_count": null,
      "metadata": {
        "id": "e0VOJWOvS2eK"
      },
      "outputs": [],
      "source": [
        "from sklearn.preprocessing import Binarizer\n",
        "\n",
        "model = Pipeline([\n",
        "    ('vectorizer', CountVectorizer(input='filename', analyzer='word', max_features=1000)),\n",
        "    ('norm', Binarizer()),\n",
        "    ('norm2', TfidfTransformer(norm=None)),\n",
        "    ('clf', LogisticRegression(solver='liblinear', random_state=0)),\n",
        "])"
      ]
    },
    {
      "cell_type": "code",
      "execution_count": null,
      "metadata": {
        "id": "OlwzTGGGS2eK"
      },
      "outputs": [],
      "source": [
        "cv_scores = cross_validate(model, X, y, cv=StratifiedKFold(n_splits=5, shuffle=True, random_state=0), return_train_score=False, scoring=['accuracy', 'precision_weighted', 'recall_weighted', 'f1_weighted'])\n",
        "print_cv_scores_summary(\"Accuracy\", cv_scores['test_accuracy'])\n",
        "print_cv_scores_summary(\"Precision\", cv_scores['test_precision_weighted'])\n",
        "print_cv_scores_summary(\"Recall\", cv_scores['test_recall_weighted'])\n",
        "print_cv_scores_summary(\"F1\", cv_scores['test_f1_weighted'])"
      ]
    },
    {
      "cell_type": "markdown",
      "metadata": {
        "id": "HnhfyqP3S2eL"
      },
      "source": [
        "<a name=\"selection\"></a>\n",
        "## Feature selection\n",
        "When the number of features is high, one option available is some form of dimensionality reduction or feature selection, e.g. to remove features with low variance across instances/documents, to select features with significant differences between classes, or features that have high weights/coefficients in other models. [Various methods are available for this](https://scikit-learn.org/stable/modules/classes.html#module-sklearn.feature_selection). An example below selects 1000 features with the highest values for the [chi-squared test](https://scikit-learn.org/stable/modules/generated/sklearn.feature_selection.chi2.html#sklearn.feature_selection.chi2)."
      ]
    },
    {
      "cell_type": "code",
      "execution_count": null,
      "metadata": {
        "id": "jgni1-icS2eL"
      },
      "outputs": [],
      "source": [
        "from sklearn.feature_selection import SelectKBest, chi2\n",
        "\n",
        "model = Pipeline([\n",
        "    ('vectorizer', CountVectorizer(input='filename', analyzer='word')),\n",
        "    ('selector', SelectKBest(chi2, k=1000)),\n",
        "    ('clf', LogisticRegression(solver='liblinear', random_state=0)),\n",
        "])"
      ]
    },
    {
      "cell_type": "code",
      "execution_count": null,
      "metadata": {
        "id": "Q6WEosGyS2eM"
      },
      "outputs": [],
      "source": [
        "cv_scores = cross_validate(model, X, y, cv=StratifiedKFold(n_splits=5, shuffle=True, random_state=0), return_train_score=False, scoring=['accuracy', 'precision_weighted', 'recall_weighted', 'f1_weighted'])\n",
        "print_cv_scores_summary(\"Accuracy\", cv_scores['test_accuracy'])\n",
        "print_cv_scores_summary(\"Precision\", cv_scores['test_precision_weighted'])\n",
        "print_cv_scores_summary(\"Recall\", cv_scores['test_recall_weighted'])\n",
        "print_cv_scores_summary(\"F1\", cv_scores['test_f1_weighted'])"
      ]
    },
    {
      "cell_type": "markdown",
      "metadata": {
        "id": "Uumu8IBuS2eN"
      },
      "source": [
        "If you would like to view the selected features, the code below will help."
      ]
    },
    {
      "cell_type": "code",
      "execution_count": null,
      "metadata": {
        "id": "XjpE6hJCS2eN"
      },
      "outputs": [],
      "source": [
        "vectorizer = CountVectorizer(input='filename', analyzer='word')\n",
        "selector = SelectKBest(chi2, k=100)\n",
        "feats = vectorizer.fit_transform(X_train)\n",
        "filtered = selector.fit_transform(feats, y_train)"
      ]
    },
    {
      "cell_type": "code",
      "execution_count": null,
      "metadata": {
        "scrolled": true,
        "id": "t8AMtkf-S2eN"
      },
      "outputs": [],
      "source": [
        "from itertools import compress\n",
        "cols = selector.get_support()\n",
        "names = vectorizer.get_feature_names_out()\n",
        "\n",
        "print(list(compress(names,cols)))"
      ]
    },
    {
      "cell_type": "markdown",
      "metadata": {
        "id": "ieO4hK6dS2eO"
      },
      "source": [
        "<a name=\"gridsearch\"></a>\n",
        "## Optimisation with GridSearch\n",
        "\n",
        "We have played around with different options available in sklearn, but for actual experiments you will want to be more structured and scientific. [Various optimizers are available](https://scikit-learn.org/stable/modules/classes.html#hyper-parameter-optimizers). [`GridSearchCV`](https://scikit-learn.org/stable/modules/generated/sklearn.model_selection.GridSearchCV.html#sklearn.model_selection.GridSearchCV) allows for an exhaustive search across a range of listed parameter values, and then runs cross validation for every model built (for every combination of parameters). With a large number of parameters, the search will take some time to run due to the number of models that need to be fit and tested.\n",
        "\n",
        "An example is given below with top_k from chi squared feature selection set to different values, and two different classifiers (Naive Bayes and Logistic Regression). This could easily be extended to introduce new paramaters and steps in the pipeline.\n",
        "\n",
        "Note, we are performing our cross-validation over just the training data (X_train). X_test is reserved for testing the best model. By supplying a scoring parameter to `refit`, the best performing parameters are selected from the grid search, and a fitted model across the entire provided instances (here `X_train`) is produced and returned."
      ]
    },
    {
      "cell_type": "code",
      "execution_count": null,
      "metadata": {
        "id": "FBhsJGLMS2eO"
      },
      "outputs": [],
      "source": [
        "from sklearn.model_selection import GridSearchCV\n",
        "\n",
        "model = Pipeline([\n",
        "    ('vectorizer', CountVectorizer(input='filename', analyzer='word')),\n",
        "    ('selector', SelectKBest(score_func = chi2)),\n",
        "    ('clf', None), #clf set in param_grid.\n",
        "])\n",
        "\n",
        "search = GridSearchCV(model, cv=StratifiedKFold(n_splits=5, shuffle=True, random_state=0), \n",
        "                      return_train_score=False, \n",
        "                      scoring=['accuracy', 'precision_weighted', 'recall_weighted', 'f1_weighted'],\n",
        "                      refit = 'f1_weighted',\n",
        "                      param_grid={\n",
        "                          'selector__k': [10, 50, 100, 500],\n",
        "                          'clf': [MultinomialNB(), LogisticRegression(solver='liblinear', random_state=0)],\n",
        "                      },\n",
        "                      n_jobs=-1) #run folds in parallel on multiple processors if available.\n",
        "search.fit(X_train, y_train)"
      ]
    },
    {
      "cell_type": "markdown",
      "metadata": {
        "id": "wCS_TY_eS2eP"
      },
      "source": [
        "We can see the results of all classifiers. Note which is ranked highest."
      ]
    },
    {
      "cell_type": "code",
      "execution_count": null,
      "metadata": {
        "id": "VOzNXAvBS2eP"
      },
      "outputs": [],
      "source": [
        "pd.DataFrame(search.cv_results_)"
      ]
    },
    {
      "cell_type": "markdown",
      "metadata": {
        "id": "yl1JsjFkS2eP"
      },
      "source": [
        "`search` contains the highest ranked model, which is already fit, and can be used to make prdictions and evaluate on the test set."
      ]
    },
    {
      "cell_type": "code",
      "execution_count": null,
      "metadata": {
        "id": "c8D95QTcS2eQ"
      },
      "outputs": [],
      "source": [
        "predictions = search.predict(X_test)\n",
        "\n",
        "print(\"Accuracy: \", accuracy_score(y_test, predictions))\n",
        "print(classification_report(y_test, predictions))\n",
        "print(confusion_matrix(y_test, predictions))\n",
        "\n",
        "confusion_matrix_heatmap(confusion_matrix(y_test,predictions), search.classes_)"
      ]
    },
    {
      "cell_type": "markdown",
      "metadata": {
        "id": "CI4oyfVuS2eQ"
      },
      "source": [
        "<a name=\"custom\"></a>\n",
        "## Customising preprocessing and feature extraction\n",
        "So far we have been using sklearn's own tokenisation and basic bag-of-words. What about all that you've learnt for preprocessing, tokenisation, and feature extraction in previous labs? Surely we can do better than BoW with broken tokenisation!\n",
        "\n",
        "Included below are some basic methods for preprocessing and tokenisation from last week's lab."
      ]
    },
    {
      "cell_type": "code",
      "source": [
        "!pip install ftfy"
      ],
      "metadata": {
        "id": "9ZsvgLQyWDF5"
      },
      "execution_count": null,
      "outputs": []
    },
    {
      "cell_type": "code",
      "execution_count": null,
      "metadata": {
        "id": "Bt0k7m5VS2eQ"
      },
      "outputs": [],
      "source": [
        "import ftfy\n",
        "import nltk\n",
        "import re\n",
        "\n",
        "hashtag_re = re.compile(r\"#\\w+\")\n",
        "mention_re = re.compile(r\"@\\w+\")\n",
        "url_re = re.compile(r\"(?:https?://)?(?:[-\\w]+\\.)+[a-zA-Z]{2,9}[-\\w/#~:;.?+=&%@~]*\")\n",
        "\n",
        "\n",
        "def preprocess(text):\n",
        "    p_text = hashtag_re.sub(\"[hashtag]\",text)\n",
        "    p_text = mention_re.sub(\"[mention]\",p_text)\n",
        "    p_text = url_re.sub(\"[url]\",p_text)\n",
        "    p_text = ftfy.fix_text(p_text)\n",
        "    return p_text\n",
        "\n",
        "tokenise_re = re.compile(r\"(\\[[^\\]]+\\]|[-'\\w]+|[^\\s\\w\\[']+)\") #([]|words|other non-space)\n",
        "def custom_tokenise(text):\n",
        "    return tokenise_re.findall(text.lower())\n",
        "\n",
        "def nltk_twitter_tokenise(text):\n",
        "    twtok = nltk.tokenize.TweetTokenizer()\n",
        "    return twtok.tokenize(text.lower())"
      ]
    },
    {
      "cell_type": "markdown",
      "metadata": {
        "id": "YoW3KOhsS2eR"
      },
      "source": [
        "We can utilise these methods with `CountVectorizer` by simply passing the callable functions for `preprocessor` and `tokenizer`:"
      ]
    },
    {
      "cell_type": "code",
      "execution_count": null,
      "metadata": {
        "id": "uG4WwZN7S2eR"
      },
      "outputs": [],
      "source": [
        "vectorizer = CountVectorizer(input='filename', analyzer='word', tokenizer=custom_tokenise, preprocessor=preprocess)\n",
        "feats = vectorizer.fit_transform(X_train)"
      ]
    },
    {
      "cell_type": "code",
      "execution_count": null,
      "metadata": {
        "id": "IhxTAI56S2eR"
      },
      "outputs": [],
      "source": [
        "feats.shape"
      ]
    },
    {
      "cell_type": "markdown",
      "metadata": {
        "id": "w4VPbdDbS2eS"
      },
      "source": [
        "Notice that the vocabulary has reduced by more than half. Why is this?"
      ]
    },
    {
      "cell_type": "markdown",
      "metadata": {
        "id": "4Oq3G0agS2eS"
      },
      "source": [
        ""
      ]
    },
    {
      "cell_type": "code",
      "execution_count": null,
      "metadata": {
        "id": "bIHJxvHUS2eT"
      },
      "outputs": [],
      "source": [
        "vectorizer.get_feature_names_out()[::2500]"
      ]
    },
    {
      "cell_type": "markdown",
      "metadata": {
        "id": "oaidm8SNS2eT"
      },
      "source": [
        "A quick look at the features also indicates that they are much more sensible as \"words\"."
      ]
    },
    {
      "cell_type": "code",
      "execution_count": null,
      "metadata": {
        "id": "R-C49sClS2eT"
      },
      "outputs": [],
      "source": [
        "model = Pipeline([\n",
        "    ('vectorizer', CountVectorizer(input='filename', analyzer='word',tokenizer=custom_tokenise, preprocessor=preprocess)),\n",
        "    ('selector', SelectKBest(chi2, k=1000)),\n",
        "    ('clf', LogisticRegression(solver='liblinear', random_state=0)),\n",
        "])"
      ]
    },
    {
      "cell_type": "code",
      "execution_count": null,
      "metadata": {
        "id": "8Z52jERhS2eT"
      },
      "outputs": [],
      "source": [
        "cv_scores = cross_validate(model, X, y, cv=StratifiedKFold(n_splits=5, shuffle=True, random_state=0), return_train_score=False, scoring=['accuracy', 'precision_weighted', 'recall_weighted', 'f1_weighted'])\n",
        "print_cv_scores_summary(\"Accuracy\", cv_scores['test_accuracy'])\n",
        "print_cv_scores_summary(\"Precision\", cv_scores['test_precision_weighted'])\n",
        "print_cv_scores_summary(\"Recall\", cv_scores['test_recall_weighted'])\n",
        "print_cv_scores_summary(\"F1\", cv_scores['test_f1_weighted'])"
      ]
    },
    {
      "cell_type": "markdown",
      "metadata": {
        "id": "vHyDR2PaS2eU"
      },
      "source": [
        "<a name=\"ex\"></a>\n",
        "## Exercise\n",
        "\n",
        "This week's exercise is to experiment and build the best gender classifier you can, utilising what has been shown above. Using the gb data is fine, but you can try the usa data if you wish. Use `GridSearchCV` to evaluate different models, and fit the best performing model & parameters. Report the final results on the the test set. Example parameters you could change:\n",
        "\n",
        "- Classifiers\n",
        "- Classifier hyper-parameters\n",
        "- Feature selections\n",
        "- Normalization / standardization / binarization\n",
        "- Feature size cut-offs\n",
        "- Tokenisers\n",
        "- Preprocessing steps\n",
        "- Word / Characters\n",
        "- Ngram range"
      ]
    },
    {
      "cell_type": "code",
      "execution_count": null,
      "metadata": {
        "id": "3jfKWMCFS2eU"
      },
      "outputs": [],
      "source": [
        ""
      ]
    },
    {
      "cell_type": "code",
      "execution_count": null,
      "metadata": {
        "id": "UOA4Kl1sS2eW"
      },
      "outputs": [],
      "source": [
        ""
      ]
    }
  ],
  "metadata": {
    "kernelspec": {
      "display_name": "Python 3",
      "language": "python",
      "name": "python3"
    },
    "language_info": {
      "codemirror_mode": {
        "name": "ipython",
        "version": 3
      },
      "file_extension": ".py",
      "mimetype": "text/x-python",
      "name": "python",
      "nbconvert_exporter": "python",
      "pygments_lexer": "ipython3",
      "version": "3.7.2"
    },
    "colab": {
      "name": "413-wk19-classification.ipynb",
      "provenance": [],
      "collapsed_sections": [],
      "toc_visible": true
    }
  },
  "nbformat": 4,
  "nbformat_minor": 0
}